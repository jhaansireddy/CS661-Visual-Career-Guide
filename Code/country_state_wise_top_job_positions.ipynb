{
 "cells": [
  {
   "cell_type": "code",
   "execution_count": 25,
   "metadata": {},
   "outputs": [],
   "source": [
    "import numpy as np\n",
    "import pandas as pd\n",
    "import matplotlib.pyplot as plt\n",
    "%matplotlib inline\n",
    "import seaborn as sns\n",
    "import os\n",
    "import datetime\n",
    "import plotly.express as px\n",
    "import plotly.graph_objects as go\n",
    "from plotly.subplots import make_subplots\n",
    "from ipywidgets import widgets, Layout\n",
    "from IPython.display import display\n",
    "from dash import Dash, dcc, html, Input, Output\n",
    "import os\n",
    "from threading import Timer\n",
    "import webbrowser"
   ]
  },
  {
   "cell_type": "code",
   "execution_count": 26,
   "metadata": {},
   "outputs": [],
   "source": [
    "import warnings\n",
    "warnings.simplefilter(action=\"ignore\",category=FutureWarning)"
   ]
  },
  {
   "cell_type": "code",
   "execution_count": 27,
   "metadata": {},
   "outputs": [],
   "source": [
    "def open_browser():\n",
    "    if not os.environ.get(\"WERKZEUG_RUN_MAIN\"):\n",
    "        webbrowser.open_new('http://127.0.0.1:8080/')"
   ]
  },
  {
   "cell_type": "code",
   "execution_count": 28,
   "metadata": {},
   "outputs": [],
   "source": [
    "linkedin_job_postings=pd.read_csv(\"..\\Data\\linkedin_jobs_and_skills\\linkedin_job_postings_cleaned.csv\")"
   ]
  },
  {
   "cell_type": "code",
   "execution_count": 29,
   "metadata": {},
   "outputs": [
    {
     "data": {
      "text/html": [
       "<div>\n",
       "<style scoped>\n",
       "    .dataframe tbody tr th:only-of-type {\n",
       "        vertical-align: middle;\n",
       "    }\n",
       "\n",
       "    .dataframe tbody tr th {\n",
       "        vertical-align: top;\n",
       "    }\n",
       "\n",
       "    .dataframe thead th {\n",
       "        text-align: right;\n",
       "    }\n",
       "</style>\n",
       "<table border=\"1\" class=\"dataframe\">\n",
       "  <thead>\n",
       "    <tr style=\"text-align: right;\">\n",
       "      <th></th>\n",
       "      <th>job_link</th>\n",
       "      <th>job_title</th>\n",
       "      <th>company</th>\n",
       "      <th>job_location</th>\n",
       "      <th>first_seen</th>\n",
       "      <th>search_city</th>\n",
       "      <th>search_country</th>\n",
       "      <th>search_position</th>\n",
       "      <th>job_level</th>\n",
       "      <th>job_type</th>\n",
       "      <th>current_time</th>\n",
       "      <th>current_date</th>\n",
       "    </tr>\n",
       "  </thead>\n",
       "  <tbody>\n",
       "    <tr>\n",
       "      <th>0</th>\n",
       "      <td>https://www.linkedin.com/jobs/view/account-exe...</td>\n",
       "      <td>account executive dispensing norcal northern n...</td>\n",
       "      <td>BD</td>\n",
       "      <td>San Diego,CA</td>\n",
       "      <td>2024-01-15</td>\n",
       "      <td>Coronado</td>\n",
       "      <td>United States</td>\n",
       "      <td>Color Maker</td>\n",
       "      <td>Mid senior</td>\n",
       "      <td>Onsite</td>\n",
       "      <td>07:12:29.002560</td>\n",
       "      <td>2024-01-21</td>\n",
       "    </tr>\n",
       "    <tr>\n",
       "      <th>1</th>\n",
       "      <td>https://www.linkedin.com/jobs/view/registered-...</td>\n",
       "      <td>registered nurse rn care manager</td>\n",
       "      <td>Trinity Health MI</td>\n",
       "      <td>Norton Shores,MI</td>\n",
       "      <td>2024-01-14</td>\n",
       "      <td>Grand Haven</td>\n",
       "      <td>United States</td>\n",
       "      <td>Director Nursing Service</td>\n",
       "      <td>Mid senior</td>\n",
       "      <td>Onsite</td>\n",
       "      <td>07:39:58.881370</td>\n",
       "      <td>2024-01-21</td>\n",
       "    </tr>\n",
       "    <tr>\n",
       "      <th>2</th>\n",
       "      <td>https://www.linkedin.com/jobs/view/restaurant-...</td>\n",
       "      <td>restaurant supervisor the forklift</td>\n",
       "      <td>Wasatch Adaptive Sports</td>\n",
       "      <td>Sandy,UT</td>\n",
       "      <td>2024-01-14</td>\n",
       "      <td>Tooele</td>\n",
       "      <td>United States</td>\n",
       "      <td>Stand-In</td>\n",
       "      <td>Mid senior</td>\n",
       "      <td>Onsite</td>\n",
       "      <td>07:40:00.251126</td>\n",
       "      <td>2024-01-21</td>\n",
       "    </tr>\n",
       "    <tr>\n",
       "      <th>3</th>\n",
       "      <td>https://www.linkedin.com/jobs/view/independent...</td>\n",
       "      <td>independent real estate agent</td>\n",
       "      <td>Howard Hanna | Rand Realty</td>\n",
       "      <td>Englewood Cliffs,NJ</td>\n",
       "      <td>2024-01-16</td>\n",
       "      <td>Pinehurst</td>\n",
       "      <td>United States</td>\n",
       "      <td>Real-Estate Clerk</td>\n",
       "      <td>Mid senior</td>\n",
       "      <td>Onsite</td>\n",
       "      <td>07:40:00.308133</td>\n",
       "      <td>2024-01-21</td>\n",
       "    </tr>\n",
       "    <tr>\n",
       "      <th>4</th>\n",
       "      <td>https://www.linkedin.com/jobs/view/group-unit-...</td>\n",
       "      <td>group unit supervisor systems support manager ...</td>\n",
       "      <td>IRS, Office of Chief Counsel</td>\n",
       "      <td>Chamblee,GA</td>\n",
       "      <td>2024-01-17</td>\n",
       "      <td>Gadsden</td>\n",
       "      <td>United States</td>\n",
       "      <td>Supervisor Travel-Information Center</td>\n",
       "      <td>Mid senior</td>\n",
       "      <td>Onsite</td>\n",
       "      <td>09:45:09.215838</td>\n",
       "      <td>2024-01-19</td>\n",
       "    </tr>\n",
       "  </tbody>\n",
       "</table>\n",
       "</div>"
      ],
      "text/plain": [
       "                                            job_link  \\\n",
       "0  https://www.linkedin.com/jobs/view/account-exe...   \n",
       "1  https://www.linkedin.com/jobs/view/registered-...   \n",
       "2  https://www.linkedin.com/jobs/view/restaurant-...   \n",
       "3  https://www.linkedin.com/jobs/view/independent...   \n",
       "4  https://www.linkedin.com/jobs/view/group-unit-...   \n",
       "\n",
       "                                           job_title  \\\n",
       "0  account executive dispensing norcal northern n...   \n",
       "1                   registered nurse rn care manager   \n",
       "2                 restaurant supervisor the forklift   \n",
       "3                      independent real estate agent   \n",
       "4  group unit supervisor systems support manager ...   \n",
       "\n",
       "                        company         job_location  first_seen  search_city  \\\n",
       "0                            BD         San Diego,CA  2024-01-15     Coronado   \n",
       "1             Trinity Health MI     Norton Shores,MI  2024-01-14  Grand Haven   \n",
       "2       Wasatch Adaptive Sports             Sandy,UT  2024-01-14       Tooele   \n",
       "3    Howard Hanna | Rand Realty  Englewood Cliffs,NJ  2024-01-16    Pinehurst   \n",
       "4  IRS, Office of Chief Counsel          Chamblee,GA  2024-01-17      Gadsden   \n",
       "\n",
       "  search_country                       search_position   job_level job_type  \\\n",
       "0  United States                           Color Maker  Mid senior   Onsite   \n",
       "1  United States              Director Nursing Service  Mid senior   Onsite   \n",
       "2  United States                              Stand-In  Mid senior   Onsite   \n",
       "3  United States                     Real-Estate Clerk  Mid senior   Onsite   \n",
       "4  United States  Supervisor Travel-Information Center  Mid senior   Onsite   \n",
       "\n",
       "      current_time current_date  \n",
       "0  07:12:29.002560   2024-01-21  \n",
       "1  07:39:58.881370   2024-01-21  \n",
       "2  07:40:00.251126   2024-01-21  \n",
       "3  07:40:00.308133   2024-01-21  \n",
       "4  09:45:09.215838   2024-01-19  "
      ]
     },
     "execution_count": 29,
     "metadata": {},
     "output_type": "execute_result"
    }
   ],
   "source": [
    "linkedin_job_postings.head()"
   ]
  },
  {
   "cell_type": "code",
   "execution_count": 30,
   "metadata": {},
   "outputs": [],
   "source": [
    "country_options = [{'label': country, 'value': country} for country in linkedin_job_postings['search_country'].unique()]"
   ]
  },
  {
   "cell_type": "code",
   "execution_count": 31,
   "metadata": {},
   "outputs": [
    {
     "name": "stderr",
     "output_type": "stream",
     "text": [
      "C:\\Users\\ayush\\AppData\\Local\\Temp\\ipykernel_13808\\238645741.py:4: UserWarning:\n",
      "\n",
      "Boolean Series key will be reindexed to match DataFrame index.\n",
      "\n"
     ]
    }
   ],
   "source": [
    "default_country = 'United States'\n",
    "default_city = 'New York'\n",
    "\n",
    "filtered_df = linkedin_job_postings[linkedin_job_postings['search_country'] == default_country][linkedin_job_postings['search_city'] == default_city][['search_position']]\n",
    "data_df = filtered_df.groupby('search_position').size().reset_index(name='count').sort_values('count', ascending=False)\n",
    "\n",
    "fig5 = px.histogram(\n",
    "            data_df.head(15),\n",
    "            x='search_position',\n",
    "            y='count',\n",
    "            text_auto=True,\n",
    "        ).update_layout(\n",
    "            title=f'Top 20 Job Positions in {default_city}, {default_country}',\n",
    "            xaxis_title='Job Position',\n",
    "            yaxis_title='Total Job Postings',\n",
    "            xaxis={'categoryorder':'total descending'}\n",
    "        )"
   ]
  },
  {
   "cell_type": "code",
   "execution_count": 32,
   "metadata": {},
   "outputs": [],
   "source": [
    "def update_histogram(search_country, search_city):\n",
    "    filtered_df = linkedin_job_postings[linkedin_job_postings['search_country'] == search_country][linkedin_job_postings['search_city'] == search_city][['search_position']]\n",
    "    data_df = filtered_df.groupby('search_position').size().reset_index(name='count').sort_values('count', ascending=False)\n",
    "\n",
    "    fig5.data[0].x = data_df.head(15)['search_position']\n",
    "    fig5.data[0].y = data_df.head(15)['count']\n",
    "\n",
    "    fig5.update_layout(\n",
    "            title=f'Top 20 Job Positions in {search_city}, {search_country}',\n",
    "            xaxis_title='Job Position',\n",
    "            yaxis_title='Total Job Postings',\n",
    "            xaxis={'categoryorder':'total descending'}\n",
    "        )\n",
    "    return fig5"
   ]
  },
  {
   "cell_type": "code",
   "execution_count": 33,
   "metadata": {},
   "outputs": [],
   "source": [
    "app = Dash()"
   ]
  },
  {
   "cell_type": "code",
   "execution_count": 34,
   "metadata": {},
   "outputs": [],
   "source": [
    "app.layout = html.Div([\n",
    "    dcc.Dropdown(\n",
    "        id='country-dropdown',\n",
    "        options=country_options,\n",
    "        value=default_country,\n",
    "        placeholder='Select a country'\n",
    "    ),\n",
    "    dcc.Dropdown(\n",
    "        id='state-dropdown',\n",
    "        value=default_city,\n",
    "        placeholder='Select a state'\n",
    "    ),\n",
    "    dcc.Graph(id='histogram')\n",
    "])"
   ]
  },
  {
   "cell_type": "code",
   "execution_count": 35,
   "metadata": {},
   "outputs": [],
   "source": [
    "# Define callback to update state dropdown based on selected country\n",
    "@app.callback(\n",
    "    Output('state-dropdown', 'options'),\n",
    "    [Input('country-dropdown', 'value')]\n",
    ")\n",
    "def update_state_dropdown(selected_country):\n",
    "    if selected_country is None:\n",
    "        return []\n",
    "    state_options = [{'label': state, 'value': state} for state in linkedin_job_postings[linkedin_job_postings['search_country'] == selected_country]['search_city'].unique()]\n",
    "    return state_options\n",
    "\n",
    "# Define callback to update histogram based on selected country and state\n",
    "@app.callback(\n",
    "    Output('histogram', 'figure'),\n",
    "    [Input('country-dropdown', 'value'),\n",
    "     Input('state-dropdown', 'value')]\n",
    ")\n",
    "def update_fig5_histogram(selected_country, selected_state):\n",
    "    return update_histogram(selected_country, selected_state)"
   ]
  },
  {
   "cell_type": "code",
   "execution_count": 36,
   "metadata": {},
   "outputs": [
    {
     "data": {
      "text/html": [
       "\n",
       "        <iframe\n",
       "            width=\"100%\"\n",
       "            height=\"650\"\n",
       "            src=\"http://127.0.0.1:8080/\"\n",
       "            frameborder=\"0\"\n",
       "            allowfullscreen\n",
       "            \n",
       "        ></iframe>\n",
       "        "
      ],
      "text/plain": [
       "<IPython.lib.display.IFrame at 0x141173eedd0>"
      ]
     },
     "metadata": {},
     "output_type": "display_data"
    },
    {
     "name": "stderr",
     "output_type": "stream",
     "text": [
      "C:\\Users\\ayush\\AppData\\Local\\Temp\\ipykernel_13808\\272602048.py:2: UserWarning:\n",
      "\n",
      "Boolean Series key will be reindexed to match DataFrame index.\n",
      "\n",
      "C:\\Users\\ayush\\AppData\\Local\\Temp\\ipykernel_13808\\272602048.py:2: UserWarning:\n",
      "\n",
      "Boolean Series key will be reindexed to match DataFrame index.\n",
      "\n",
      "C:\\Users\\ayush\\AppData\\Local\\Temp\\ipykernel_13808\\272602048.py:2: UserWarning:\n",
      "\n",
      "Boolean Series key will be reindexed to match DataFrame index.\n",
      "\n",
      "C:\\Users\\ayush\\AppData\\Local\\Temp\\ipykernel_13808\\272602048.py:2: UserWarning:\n",
      "\n",
      "Boolean Series key will be reindexed to match DataFrame index.\n",
      "\n",
      "C:\\Users\\ayush\\AppData\\Local\\Temp\\ipykernel_13808\\272602048.py:2: UserWarning:\n",
      "\n",
      "Boolean Series key will be reindexed to match DataFrame index.\n",
      "\n",
      "C:\\Users\\ayush\\AppData\\Local\\Temp\\ipykernel_13808\\272602048.py:2: UserWarning:\n",
      "\n",
      "Boolean Series key will be reindexed to match DataFrame index.\n",
      "\n",
      "C:\\Users\\ayush\\AppData\\Local\\Temp\\ipykernel_13808\\272602048.py:2: UserWarning:\n",
      "\n",
      "Boolean Series key will be reindexed to match DataFrame index.\n",
      "\n",
      "C:\\Users\\ayush\\AppData\\Local\\Temp\\ipykernel_13808\\272602048.py:2: UserWarning:\n",
      "\n",
      "Boolean Series key will be reindexed to match DataFrame index.\n",
      "\n"
     ]
    }
   ],
   "source": [
    "Timer(1, open_browser).start()\n",
    "app.run_server(debug=True, port=8080)"
   ]
  }
 ],
 "metadata": {
  "kernelspec": {
   "display_name": "Python 3",
   "language": "python",
   "name": "python3"
  },
  "language_info": {
   "codemirror_mode": {
    "name": "ipython",
    "version": 3
   },
   "file_extension": ".py",
   "mimetype": "text/x-python",
   "name": "python",
   "nbconvert_exporter": "python",
   "pygments_lexer": "ipython3",
   "version": "3.11.5"
  }
 },
 "nbformat": 4,
 "nbformat_minor": 2
}
