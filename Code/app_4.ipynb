{
 "cells": [
  {
   "cell_type": "code",
   "execution_count": 1,
   "id": "a4511abc",
   "metadata": {},
   "outputs": [],
   "source": [
    "from dash import Dash, dcc, html, dcc, callback, Output, Input\n",
    "import dash_bootstrap_components as dbc\n",
    "import plotly.express as px\n",
    "import pandas as pd\n",
    "import numpy as np\n",
    "import re\n",
    "from functools import reduce\n",
    "app = Dash(__name__)\n",
    "# styles\n",
    "colors = {\n",
    "    'background': '#d9ffb3',\n",
    "    'text': '#0066cc',\n",
    "    'title' : '#000066'\n",
    "}"
   ]
  },
  {
   "cell_type": "code",
   "execution_count": 2,
   "id": "acbbc9a9",
   "metadata": {},
   "outputs": [],
   "source": [
    "df_mig = pd.read_excel('..\\Data\\LinkedIn_DigitalData\\public_use-talent-migration.xlsx', sheet_name=['Country Migration', 'Industry Migration', 'Skill Migration'])\n",
    "df_cm = df_mig['Country Migration']\n",
    "df_im = df_mig['Industry Migration']\n",
    "df_sm = df_mig['Skill Migration']\n",
    "df_country = df_cm[['base_country_code','base_lat','base_long']].drop_duplicates(subset=['base_country_code'])\n",
    "df_im = pd.merge(df_im, df_country, left_on='country_code', right_on='base_country_code').drop('base_country_code',axis=1)\n",
    "df_sm = pd.merge(df_sm, df_country, left_on='country_code', right_on='base_country_code').drop('base_country_code',axis=1)\n",
    "df_im['avg_migration'] = df_im[['net_per_10K_2015','net_per_10K_2016','net_per_10K_2017','net_per_10K_2018','net_per_10K_2019']].mean(axis=1)\n",
    "df_sm['avg_migration'] = df_sm[['net_per_10K_2015','net_per_10K_2016','net_per_10K_2017','net_per_10K_2018','net_per_10K_2019']].mean(axis=1)\n",
    "df_im['size'] = np.abs(df_im['avg_migration'])\n",
    "df_sm['size'] = np.abs(df_sm['avg_migration'])"
   ]
  },
  {
   "cell_type": "code",
   "execution_count": 3,
   "id": "54719ecc",
   "metadata": {},
   "outputs": [],
   "source": [
    "@app.callback(\n",
    "    [Output(\"filter-3\",\"options\"),\n",
    "    Output(\"geo\", \"figure\")],\n",
    "    [Input(\"i-s\", \"value\"),\n",
    "    Input(\"filter-3\", \"value\")]\n",
    ")\n",
    "def geo_update(isoption, sel):\n",
    "    options = []\n",
    "    filtered_df = None\n",
    "    if isoption == 'industry migration':\n",
    "        options=[{\"label\": s, \"value\": s}\n",
    "                for s in df_im['industry_name'].dropna().unique()]\n",
    "        filtered_df = df_im[df_im['industry_name']==sel]\n",
    "    elif isoption == 'skill migration':\n",
    "        options=[{\"label\": s, \"value\": s}\n",
    "                for s in df_sm['skill_group_name'].dropna().unique()]\n",
    "        filtered_df = df_sm[df_sm['skill_group_name']==sel]\n",
    "    fig = px.scatter_geo(\n",
    "        data_frame= filtered_df,\n",
    "        lat=\"base_lat\",\n",
    "        lon=\"base_long\",\n",
    "        size=\"size\",\n",
    "        hover_name=\"country_name\",\n",
    "        projection='equirectangular',color='avg_migration',\n",
    "                      color_continuous_scale=[(0, 'red'), (0.5, 'yellow'), (1, 'green')],\n",
    "                      color_continuous_midpoint=0\n",
    "    )\n",
    "    fig.update_layout(\n",
    "    margin=dict(l=20, r=20, t=10, b=20),  # Adjust margins\n",
    "    font=dict(color=colors['text']),\n",
    "    paper_bgcolor=colors['background'],\n",
    "    coloraxis_colorbar=dict(title='Average inflow per 10K')\n",
    "    )\n",
    "    return options,fig"
   ]
  },
  {
   "cell_type": "code",
   "execution_count": 4,
   "id": "84449b78",
   "metadata": {},
   "outputs": [],
   "source": [
    "app.layout = html.Div(style={'backgroundColor': colors['background'], 'margin': 10, 'padding': 20}, children=[\n",
    "    html.H1(\n",
    "        children='Talent Migration',\n",
    "        style={\n",
    "            'textAlign': 'center',\n",
    "            'color': colors['title']\n",
    "        }\n",
    "    ),\n",
    "\n",
    "     dbc.Row([\n",
    "                dcc.RadioItems(\n",
    "                id=\"i-s\",\n",
    "                inline=True,\n",
    "                options=[\"industry migration\", \"skill migration\"],\n",
    "                value=\"industry migration\",\n",
    "                    style={\n",
    "                        \"color\": colors['text'],  \n",
    "                        'font-size': '20px'  # set the font family of the dropdown to sans-serif\n",
    "                    }\n",
    "            ),\n",
    "             html.Label(\"Select from options\", style={'color': colors['text']}),\n",
    "                dcc.Dropdown(\n",
    "                    id=\"filter-3\",\n",
    "#                     options=[{\"label\": s, \"value\": s}\n",
    "#                              for s in df_growth['isic_section_name'].dropna().unique()],\n",
    "                    value=None,\n",
    "                    style={\n",
    "                        \"width\": \"75%\",  # set the width of the dropdown to 50% of its container\n",
    "                        \"height\": \"50%\",  # set the height of each dropdown item to 40 pixels\n",
    "                        \"backgroundColor\": colors['background'],  # set the background color of the dropdown to dark gray\n",
    "                        \"color\": \"#000\",  # set the font color of the dropdown to light gray\n",
    "                        \"fontFamily\": \"sans-serif\",  # set the font family of the dropdown to sans-serif\n",
    "                        \"padding\":\"20\",\n",
    "                    }\n",
    "                ),\n",
    "         dcc.Graph(id=\"geo\")\n",
    "             \n",
    "     ])\n",
    "])"
   ]
  },
  {
   "cell_type": "code",
   "execution_count": 5,
   "id": "cb083201",
   "metadata": {
    "scrolled": true
   },
   "outputs": [
    {
     "data": {
      "text/html": [
       "\n",
       "        <iframe\n",
       "            width=\"100%\"\n",
       "            height=\"650\"\n",
       "            src=\"http://127.0.0.1:8050/\"\n",
       "            frameborder=\"0\"\n",
       "            allowfullscreen\n",
       "            \n",
       "        ></iframe>\n",
       "        "
      ],
      "text/plain": [
       "<IPython.lib.display.IFrame at 0x1ddbb862390>"
      ]
     },
     "metadata": {},
     "output_type": "display_data"
    }
   ],
   "source": [
    "if __name__ == \"__main__\":\n",
    "    app.run_server(debug=True)"
   ]
  }
 ],
 "metadata": {
  "kernelspec": {
   "display_name": "Python 3 (ipykernel)",
   "language": "python",
   "name": "python3"
  },
  "language_info": {
   "codemirror_mode": {
    "name": "ipython",
    "version": 3
   },
   "file_extension": ".py",
   "mimetype": "text/x-python",
   "name": "python",
   "nbconvert_exporter": "python",
   "pygments_lexer": "ipython3",
   "version": "3.11.5"
  }
 },
 "nbformat": 4,
 "nbformat_minor": 5
}
