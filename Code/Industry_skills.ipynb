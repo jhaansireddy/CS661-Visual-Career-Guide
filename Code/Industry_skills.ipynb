{
 "cells": [
  {
   "cell_type": "code",
   "execution_count": 2,
   "metadata": {},
   "outputs": [
    {
     "data": {
      "text/html": [
       "\n",
       "        <iframe\n",
       "            width=\"100%\"\n",
       "            height=\"650\"\n",
       "            src=\"http://127.0.0.1:8050/\"\n",
       "            frameborder=\"0\"\n",
       "            allowfullscreen\n",
       "            \n",
       "        ></iframe>\n",
       "        "
      ],
      "text/plain": [
       "<IPython.lib.display.IFrame at 0x7d6ef0381cc0>"
      ]
     },
     "metadata": {},
     "output_type": "display_data"
    }
   ],
   "source": [
    "import pandas as pd\n",
    "from dash import Dash, html, dcc\n",
    "import dash_bootstrap_components as dbc\n",
    "import plotly.express as px\n",
    "\n",
    "data = pd.read_csv('../data/LinkedIn_Tech_Jobs.csv')\n",
    "skills = [\n",
    "    \"PYTHON\", \"C++\", \"JAVA\", \"HADOOP\", \"SCALA\", \"FLASK\", \"PANDAS\", \"SPARK\",\n",
    "    \"NUMPY\", \"PHP\", \"SQL\", \"MYSQL\", \"CSS\", \"MONGODB\", \"NLTK\", \"TENSORFLOW\",\n",
    "    \"LINUX\", \"RUBY\", \"JAVASCRIPT\", \"DJANGO\", \"REACT\", \"REACTJS\", \"AI\", \"UI\",\n",
    "    \"TABLEAU\", \"NODEJS\", \"EXCEL\", \"POWER BI\", \"SELENIUM\", \"HTML\", \"ML\"\n",
    "]\n",
    "\n",
    "data_melted = data.melt(id_vars='Industry', value_vars=skills, var_name='Skill', value_name='Presence')\n",
    "data_melted = data_melted[data_melted['Presence'] == 1]\n",
    "\n",
    "def customize_label(sector):\n",
    "    if sector == 'services and IT consulting':\n",
    "        return 'services and\\nIT consulting'\n",
    "    return sector\n",
    "\n",
    "data_melted['Industry'] = data_melted['Industry'].apply(customize_label)\n",
    "\n",
    "app = Dash(__name__, external_stylesheets=[dbc.themes.BOOTSTRAP])\n",
    "\n",
    "app.layout = dbc.Container(\n",
    "    [   html.H1(\"Sector and Skills Analysis\", className=\"text-center mt-4 mb-4\"),\n",
    "        html.H2(\"Explore the distribution of skills across different sectors\", className=\"text-center mb-4\"),\n",
    "        dbc.Row(\n",
    "            dbc.Col(\n",
    "                dcc.Graph(\n",
    "                    id='skills-sunburst',\n",
    "                    figure=px.sunburst(\n",
    "                        data_melted,\n",
    "                        path=['Industry', 'Skill'],\n",
    "                        values='Presence',\n",
    "                        color='Skill',\n",
    "                        color_continuous_scale='Blues'\n",
    "                    ),\n",
    "                    config={'scrollZoom': True}\n",
    "                ),\n",
    "                width=12,\n",
    "            ),justify=\"center\",\n",
    "        )\n",
    "    ],\n",
    "    fluid=True\n",
    ")\n",
    "\n",
    "if __name__ == \"__main__\":\n",
    "    app.run_server(debug=True)\n"
   ]
  },
  {
   "cell_type": "code",
   "execution_count": null,
   "metadata": {},
   "outputs": [],
   "source": []
  }
 ],
 "metadata": {
  "kernelspec": {
   "display_name": "Python 3",
   "language": "python",
   "name": "python3"
  },
  "language_info": {
   "codemirror_mode": {
    "name": "ipython",
    "version": 3
   },
   "file_extension": ".py",
   "mimetype": "text/x-python",
   "name": "python",
   "nbconvert_exporter": "python",
   "pygments_lexer": "ipython3",
   "version": "3.10.12"
  }
 },
 "nbformat": 4,
 "nbformat_minor": 2
}
