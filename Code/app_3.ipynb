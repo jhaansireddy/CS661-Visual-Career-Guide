{
 "cells": [
  {
   "cell_type": "code",
   "execution_count": 1,
   "id": "eaef6bcf",
   "metadata": {},
   "outputs": [],
   "source": [
    "from dash import Dash, dcc, html, dcc, callback, Output, Input\n",
    "import dash_bootstrap_components as dbc\n",
    "import plotly.express as px\n",
    "import pandas as pd\n",
    "import numpy as np\n",
    "import re\n",
    "from functools import reduce\n",
    "app = Dash(__name__)\n",
    "# styles\n",
    "colors = {\n",
    "    'background': '#d9ffb3',\n",
    "    'text': '#0066cc',\n",
    "    'title' : '#000066'\n",
    "}"
   ]
  },
  {
   "cell_type": "code",
   "execution_count": 2,
   "id": "12513f43",
   "metadata": {},
   "outputs": [],
   "source": [
    "df_growth = pd.read_excel('..\\Data\\LinkedIn_DigitalData\\public_use-industry-employment-growth.xlsx', sheet_name=['Growth from Industry Transition'])['Growth from Industry Transition']\n",
    "df_growth = df_growth.rename(columns={'growth_rate_2015': '2015', 'growth_rate_2016': '2016', 'growth_rate_2017': '2017', 'growth_rate_2018': '2018', 'growth_rate_2019': '2019'})\n",
    "# df_growth"
   ]
  },
  {
   "cell_type": "code",
   "execution_count": 3,
   "id": "518d2097",
   "metadata": {},
   "outputs": [],
   "source": [
    "@app.callback(\n",
    "    Output(\"growth-line\", \"figure\"),\n",
    "    [Input(\"country-filter-2\", \"value\"),\n",
    "    Input(\"sector-filter-2\", \"value\")]\n",
    ")\n",
    "def update_output(country, section):\n",
    "    filtered_df = df_growth[df_growth['country_name']==country]\n",
    "    filtered_df = filtered_df[filtered_df['isic_section_name']==section]\n",
    "    melted = filtered_df.melt(id_vars=['industry_name'], value_vars=['2015','2016','2017','2018','2019'], var_name='year', value_name='growth_rate')\n",
    "    fig = px.line(\n",
    "            melted,\n",
    "            x=\"year\",\n",
    "            y=\"growth_rate\",\n",
    "            color=\"industry_name\",\n",
    "            markers=True,\n",
    "            title=\"Growth rate over the years\",\n",
    "        )\n",
    "    fig.add_hline(y=0, line=dict(color='red',dash='dash'))\n",
    "    for trace in fig.data:\n",
    "        trace.update(visible='legendonly')\n",
    "    fig.update_layout(plot_bgcolor=colors['background'], paper_bgcolor=colors['background'])\n",
    "    return fig"
   ]
  },
  {
   "cell_type": "code",
   "execution_count": 4,
   "id": "14ffb905",
   "metadata": {},
   "outputs": [],
   "source": [
    "app.layout = html.Div(style={'backgroundColor': colors['background'], 'margin': 10, 'padding': 20}, children=[\n",
    "    html.H1(\n",
    "        children='Industry Growth Rates',\n",
    "        style={\n",
    "            'textAlign': 'center',\n",
    "            'color': colors['title']\n",
    "        }\n",
    "    ),\n",
    "\n",
    "     dbc.Row([\n",
    "                html.Label(\"Country\", style={'color': colors['text']}),\n",
    "                dcc.Dropdown(\n",
    "                    id=\"country-filter-2\",\n",
    "                    options=[{\"label\": s, \"value\": s}\n",
    "                             for s in df_growth['country_name'].dropna().unique()],\n",
    "                    value='India',\n",
    "                    style={\n",
    "                        \"width\": \"75%\",  # set the width of the dropdown to 50% of its container\n",
    "                        \"height\": \"50%\",  # set the height of each dropdown item to 40 pixels\n",
    "                        \"backgroundColor\": colors['background'],  # set the background color of the dropdown to dark gray\n",
    "                        \"color\": \"#000\",  # set the font color of the dropdown to light gray\n",
    "                        \"fontFamily\": \"sans-serif\"  # set the font family of the dropdown to sans-serif\n",
    "                    }\n",
    "                ),\n",
    "                html.Label(\"Sector\", style={'color': colors['text']}),\n",
    "                dcc.Dropdown(\n",
    "                    id=\"sector-filter-2\",\n",
    "                    options=[{\"label\": s, \"value\": s}\n",
    "                             for s in df_growth['isic_section_name'].dropna().unique()],\n",
    "                    value='Information and communication',\n",
    "                    style={\n",
    "                        \"width\": \"75%\",  # set the width of the dropdown to 50% of its container\n",
    "                        \"height\": \"50%\",  # set the height of each dropdown item to 40 pixels\n",
    "                        \"backgroundColor\": colors['background'],  # set the background color of the dropdown to dark gray\n",
    "                        \"color\": \"#000\",  # set the font color of the dropdown to light gray\n",
    "                        \"fontFamily\": \"sans-serif\"  # set the font family of the dropdown to sans-serif\n",
    "                    }\n",
    "                ),\n",
    "         dcc.Graph(id=\"growth-line\")\n",
    "             \n",
    "     ])\n",
    "])"
   ]
  },
  {
   "cell_type": "code",
   "execution_count": 5,
   "id": "3d37c206",
   "metadata": {},
   "outputs": [
    {
     "data": {
      "text/html": [
       "\n",
       "        <iframe\n",
       "            width=\"100%\"\n",
       "            height=\"650\"\n",
       "            src=\"http://127.0.0.1:8050/\"\n",
       "            frameborder=\"0\"\n",
       "            allowfullscreen\n",
       "            \n",
       "        ></iframe>\n",
       "        "
      ],
      "text/plain": [
       "<IPython.lib.display.IFrame at 0x1fd34990c10>"
      ]
     },
     "metadata": {},
     "output_type": "display_data"
    }
   ],
   "source": [
    "if __name__ == \"__main__\":\n",
    "    app.run_server(debug=True)"
   ]
  }
 ],
 "metadata": {
  "kernelspec": {
   "display_name": "Python 3 (ipykernel)",
   "language": "python",
   "name": "python3"
  },
  "language_info": {
   "codemirror_mode": {
    "name": "ipython",
    "version": 3
   },
   "file_extension": ".py",
   "mimetype": "text/x-python",
   "name": "python",
   "nbconvert_exporter": "python",
   "pygments_lexer": "ipython3",
   "version": "3.11.5"
  }
 },
 "nbformat": 4,
 "nbformat_minor": 5
}
