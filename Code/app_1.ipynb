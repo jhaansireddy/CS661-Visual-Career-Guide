{
 "cells": [
  {
   "cell_type": "code",
   "execution_count": 1,
   "id": "94f3dc64",
   "metadata": {},
   "outputs": [],
   "source": [
    "from dash import Dash, dcc, html, dcc, callback, Output, Input\n",
    "import dash_bootstrap_components as dbc\n",
    "import plotly.express as px\n",
    "import plotly.graph_objects as go\n",
    "from plotly.subplots import make_subplots\n",
    "import pandas as pd\n",
    "import numpy as np\n",
    "import re\n",
    "from functools import reduce\n",
    "app = Dash(__name__)"
   ]
  },
  {
   "cell_type": "code",
   "execution_count": 2,
   "id": "2ed707b9",
   "metadata": {},
   "outputs": [],
   "source": [
    "# Top world's companies\n",
    "df_twc = pd.read_csv('..\\Data\\Top_Worlds_Companies\\companies.csv') # updated 2 months ago; source: kaggle <- ambitionbox\n",
    "def contains_numeric(string):\n",
    "    pattern = r'\\d'\n",
    "    match = re.search(pattern, string)\n",
    "    if match:\n",
    "        return np.nan\n",
    "    elif string == 'Ahmedabad':\n",
    "        return np.nan\n",
    "    else:\n",
    "        return string\n",
    "def string_to_num(amount):\n",
    "    r = 0\n",
    "    try:\n",
    "        if amount[-1]=='k':\n",
    "            r = 1000*float(amount[:-1])\n",
    "        else:\n",
    "            r = float(amount)\n",
    "        return r\n",
    "    except ValueError:\n",
    "        return np.nan\n",
    "    \n",
    "df_twc['desc'] = df_twc['Description'].str.split('|').str[0]\n",
    "df_twc['sector'] = df_twc['desc'].apply(contains_numeric)\n",
    "df_twc.drop('desc',axis=1, inplace=True)\n",
    "df_twc['HRF'] = df_twc['Highly_rated_for'].str.split(', ')\n",
    "df_twc['Avg_salary'] = df_twc['Avg_salary'].apply(string_to_num)\n",
    "df_twc['Total_jobs_available'] = df_twc['Total_jobs_available'].apply(string_to_num)\n",
    "df_twc['Interviews_taken'] = df_twc['Interviews_taken'].apply(string_to_num)\n",
    "hrf_ser = df_twc['HRF'].dropna()\n",
    "union_HRF = reduce(set.union, map(set, hrf_ser))\n"
   ]
  },
  {
   "cell_type": "code",
   "execution_count": 3,
   "id": "cfb4ad21",
   "metadata": {},
   "outputs": [],
   "source": [
    "# styles\n",
    "colors = {\n",
    "    'background': '#d9ffb3',\n",
    "    'text': '#0066cc',\n",
    "    'title' : '#000066'\n",
    "}"
   ]
  },
  {
   "cell_type": "code",
   "execution_count": 4,
   "id": "f39aebce",
   "metadata": {},
   "outputs": [],
   "source": [
    "# companies that you might like to work in based off sectors, ratings and positive critiques\n",
    "\n",
    "@app.callback(\n",
    "    Output(\"fig1\", \"figure\"),\n",
    "    Input(\"sector-filter\", \"value\"),\n",
    "    Input(\"critique-filter\", \"value\")\n",
    ")\n",
    "def update_Sect_Ratings(sector, crit):\n",
    "    # Apply filters to the data\n",
    "    filtered_df = df_twc\n",
    "    filtered_df.dropna(subset=['sector','HRF'], inplace=True)\n",
    "    if sector:\n",
    "        filtered_df = filtered_df[filtered_df[\"sector\"].isin(sector)]\n",
    "    if crit:\n",
    "        filtered_df = filtered_df[filtered_df[\"HRF\"].apply(lambda x: bool(set(x) & set(crit)))]\n",
    "\n",
    "    # Create the bar chart\n",
    "    full_fig = make_subplots(rows=2, cols=1,)\n",
    "    fig1 = px.bar(filtered_df.sort_values(\"Avg_salary\", ascending=False).head(20),\n",
    "                 x=\"Company_name\",\n",
    "                 y=\"Avg_salary\",\n",
    "                 color=\"Ratings\",\n",
    "                 hover_data=[\"Avg_salary\"],\n",
    "                 )\n",
    "    fig1.update_xaxes(showgrid=False)\n",
    "    fig1.update_yaxes(showgrid=False)\n",
    "    full_fig.update_yaxes(title_text=\"Average salary\", row=1, col=1)\n",
    "    full_fig.update_layout(\n",
    "    coloraxis_colorbar=dict(len=0.4, x=1.1, y=0.7, title='Ratings'), coloraxis_colorscale='ice'\n",
    "    )\n",
    "    fig2 = px.scatter(filtered_df.sort_values(\"Avg_salary\", ascending=False).head(20), x='Total_jobs_available', y='Interviews_taken', \n",
    "                      color='Ratings',size = 'Ratings',hover_data=[\"Company_name\"])\n",
    "    full_fig.update_xaxes(title_text=\"Number of jobs\", row=2, col=1)\n",
    "    full_fig.update_yaxes(title_text=\"Number of interviews\", row=2, col=1)\n",
    "    full_fig.add_trace(fig1.data[0], row=1,col=1)\n",
    "    full_fig.add_trace(fig2.data[0], row=2, col=1)\n",
    "    full_fig.update_layout(\n",
    "    width=1200,   # Overall width of the subplot\n",
    "    height=700,   # Overall height of the subplot\n",
    "    margin=dict(l=20, r=20, t=40, b=20),  # Adjust margins\n",
    "    font=dict(color=colors['text']),\n",
    "    plot_bgcolor=colors['background'], paper_bgcolor=colors['background']\n",
    "    )\n",
    "    return full_fig"
   ]
  },
  {
   "cell_type": "code",
   "execution_count": 5,
   "id": "09fceddd",
   "metadata": {},
   "outputs": [],
   "source": [
    "app.layout = html.Div(style={'backgroundColor': colors['background'], 'margin': 10, 'padding': 20}, children=[\n",
    "    html.H1(\n",
    "        children='Companies based off your likings',\n",
    "        style={\n",
    "            'textAlign': 'center',\n",
    "            'color': colors['title']\n",
    "        }\n",
    "    ),\n",
    "\n",
    "     dbc.Row([\n",
    "                html.Label(\"Sector\", style={'color': colors['text']}),\n",
    "                dcc.Dropdown(\n",
    "                    id=\"sector-filter\",\n",
    "                    options=[{\"label\": s, \"value\": s}\n",
    "                             for s in df_twc['sector'].dropna().unique()],\n",
    "                    value=None,\n",
    "                    multi=True,\n",
    "                    style={\n",
    "                        \"width\": \"100%\",  # set the width of the dropdown to 50% of its container\n",
    "                        \"height\": \"50%\",  # set the height of each dropdown item to 40 pixels\n",
    "                        \"backgroundColor\": colors['background'],  # set the background color of the dropdown to dark gray\n",
    "                        \"color\": \"#000\",  # set the font color of the dropdown to light gray\n",
    "                        \"fontFamily\": \"sans-serif\"  # set the font family of the dropdown to sans-serif\n",
    "                    }\n",
    "                ),\n",
    "                html.Label(\"Features\", style={'color': colors['text']}),\n",
    "                dcc.Dropdown(\n",
    "                    id=\"critique-filter\",\n",
    "                    options=[{\"label\": l, \"value\": l}\n",
    "                             for l in union_HRF],\n",
    "                    value=None,\n",
    "                    multi=True,\n",
    "                    style={\n",
    "                        \"width\": \"100%\",  # set the width of the dropdown to 50% of its container\n",
    "                        \"height\": \"50%\",  # set the height of each dropdown item to 40 pixels\n",
    "                        \"backgroundColor\": colors['background'],  # set the background color of the dropdown to dark gray\n",
    "                        \"color\": \"#000\",  # set the font color of the dropdown to light gray\n",
    "                        \"fontFamily\": \"sans-serif\"  # set the font family of the dropdown to sans-serif\n",
    "                    }\n",
    "                ),\n",
    "         dcc.Graph(id=\"fig1\")\n",
    "     ])\n",
    "])"
   ]
  },
  {
   "cell_type": "code",
   "execution_count": 6,
   "id": "82afd56e",
   "metadata": {
    "scrolled": true
   },
   "outputs": [
    {
     "data": {
      "text/html": [
       "\n",
       "        <iframe\n",
       "            width=\"100%\"\n",
       "            height=\"650\"\n",
       "            src=\"http://127.0.0.1:8050/\"\n",
       "            frameborder=\"0\"\n",
       "            allowfullscreen\n",
       "            \n",
       "        ></iframe>\n",
       "        "
      ],
      "text/plain": [
       "<IPython.lib.display.IFrame at 0x1a9bd4479d0>"
      ]
     },
     "metadata": {},
     "output_type": "display_data"
    }
   ],
   "source": [
    "if __name__ == '__main__':\n",
    "    app.run(debug=True)"
   ]
  }
 ],
 "metadata": {
  "kernelspec": {
   "display_name": "Python 3 (ipykernel)",
   "language": "python",
   "name": "python3"
  },
  "language_info": {
   "codemirror_mode": {
    "name": "ipython",
    "version": 3
   },
   "file_extension": ".py",
   "mimetype": "text/x-python",
   "name": "python",
   "nbconvert_exporter": "python",
   "pygments_lexer": "ipython3",
   "version": "3.11.5"
  }
 },
 "nbformat": 4,
 "nbformat_minor": 5
}
