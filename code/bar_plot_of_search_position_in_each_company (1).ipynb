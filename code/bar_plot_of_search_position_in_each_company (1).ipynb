{
 "cells": [
  {
   "cell_type": "code",
   "execution_count": 1,
   "id": "46cfd2a0-ff23-41ab-8323-29612208dc4f",
   "metadata": {},
   "outputs": [
    {
     "data": {
      "text/html": [
       "\n",
       "        <iframe\n",
       "            width=\"100%\"\n",
       "            height=\"650\"\n",
       "            src=\"http://127.0.0.1:5091/\"\n",
       "            frameborder=\"0\"\n",
       "            allowfullscreen\n",
       "            \n",
       "        ></iframe>\n",
       "        "
      ],
      "text/plain": [
       "<IPython.lib.display.IFrame at 0x1ad43ffa590>"
      ]
     },
     "metadata": {},
     "output_type": "display_data"
    }
   ],
   "source": [
    "import dash\n",
    "from dash import dcc, html\n",
    "import pandas as pd\n",
    "from dash.dependencies import Input, Output\n",
    "import plotly.graph_objs as go\n",
    "\n",
    "df= pd.read_csv('job_skills.csv')\n",
    "df0 = pd.read_csv('linkedin_job_postings.csv')\n",
    "df1 =pd.merge(df0, df, on = 'job_link', how = 'inner')\n",
    "\n",
    "# Get all unique companies from the dataset\n",
    "selected_company = df1['company'].dropna().unique()\n",
    "\n",
    "app = dash.Dash(__name__)\n",
    "\n",
    "app.layout = html.Div([\n",
    "    html.H3('Choose Company'),\n",
    "    dcc.Dropdown(\n",
    "        id='company-dropdown',\n",
    "        options=[{'label': company, 'value': company} for company in selected_company],\n",
    "        value=selected_company[0],\n",
    "        style={'width': '50%'}\n",
    "    ),\n",
    "    dcc.Graph(id='company-comparison-chart')\n",
    "])\n",
    "\n",
    "@app.callback(\n",
    "    Output('company-comparison-chart', 'figure'),\n",
    "    [Input('company-dropdown', 'value')]\n",
    ")\n",
    "def update_chart(selected_company):\n",
    "    company_data = df1[df1['company'] == selected_company]\n",
    "    job_counts = company_data['search_position'].value_counts()\n",
    "\n",
    "    # Create a bar graph\n",
    "    bar_data = go.Bar(x=job_counts.index, y=job_counts.values)\n",
    "\n",
    "    # Layout for the bar graph\n",
    "    layout = go.Layout(title=f'Search Position Distribution for {selected_company}',\n",
    "                       xaxis={'title': 'Search Position', 'automargin': True},\n",
    "                       yaxis={'title': 'Count'})\n",
    "\n",
    "    return {'data': [bar_data], 'layout': layout}\n",
    "\n",
    "if __name__ == \"__main__\":\n",
    "    app.run_server(debug=True, port=5091)\n"
   ]
  },
  {
   "cell_type": "code",
   "execution_count": null,
   "id": "047b9b05-acac-48f0-a4dc-d4cd23718cf0",
   "metadata": {},
   "outputs": [],
   "source": []
  }
 ],
 "metadata": {
  "kernelspec": {
   "display_name": "Python 3 (ipykernel)",
   "language": "python",
   "name": "python3"
  },
  "language_info": {
   "codemirror_mode": {
    "name": "ipython",
    "version": 3
   },
   "file_extension": ".py",
   "mimetype": "text/x-python",
   "name": "python",
   "nbconvert_exporter": "python",
   "pygments_lexer": "ipython3",
   "version": "3.11.4"
  }
 },
 "nbformat": 4,
 "nbformat_minor": 5
}
