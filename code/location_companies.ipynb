{
 "cells": [
  {
   "cell_type": "code",
   "execution_count": 1,
   "id": "3ba1339c",
   "metadata": {},
   "outputs": [
    {
     "data": {
      "text/html": [
       "\n",
       "        <iframe\n",
       "            width=\"100%\"\n",
       "            height=\"650\"\n",
       "            src=\"http://127.0.0.1:8050/\"\n",
       "            frameborder=\"0\"\n",
       "            allowfullscreen\n",
       "            \n",
       "        ></iframe>\n",
       "        "
      ],
      "text/plain": [
       "<IPython.lib.display.IFrame at 0x789ad5defb20>"
      ]
     },
     "metadata": {},
     "output_type": "display_data"
    }
   ],
   "source": [
    "import pandas as pd\n",
    "from dash import Dash, dcc, html, Input, Output\n",
    "import plotly.express as px\n",
    "import json\n",
    "\n",
    "# Load data and GeoJSON\n",
    "data = pd.read_csv(r'../data/LinkedIn_Tech_Jobs.csv')\n",
    "with open('../data/india_state_geo.json', 'r') as file:\n",
    "    india_geojson = json.load(file)\n",
    "\n",
    "# Trim whitespace and standardize names\n",
    "data['Location'] = data['Location'].str.strip()\n",
    "# Replace 'Orissa' with 'Odisha' in the data if necessary\n",
    "data['Location'] = data['Location'].replace({'Orissa': 'Odisha'})\n",
    "\n",
    "app = Dash(__name__)\n",
    "\n",
    "app.layout = html.Div([\n",
    "    dcc.Dropdown(\n",
    "        id='company-dropdown',\n",
    "        options=[{'label': x, 'value': x} for x in data['Company_Name'].unique()],\n",
    "        value=data['Company_Name'].unique()[0]\n",
    "    ),\n",
    "    dcc.Graph(id='map-visualization')\n",
    "])\n",
    "\n",
    "@app.callback(\n",
    "    Output('map-visualization', 'figure'),\n",
    "    [Input('company-dropdown', 'value')]\n",
    ")\n",
    "def update_map(selected_company):\n",
    "    filtered_data = data[data['Company_Name'] == selected_company]\n",
    "    \n",
    "    fig = px.choropleth_mapbox(filtered_data, geojson=india_geojson, color=\"Total_applicants\",\n",
    "                               locations=\"Location\", featureidkey=\"properties.NAME_1\",\n",
    "                               center={\"lat\": 22.5937, \"lon\": 78.9629},\n",
    "                               mapbox_style=\"carto-positron\", zoom=4,\n",
    "                               hover_data=[\"Designation\", \"Total_applicants\"])\n",
    "    fig.update_layout(margin={\"r\":0, \"t\":0, \"l\":0, \"b\":0})\n",
    "    return fig\n",
    "\n",
    "if __name__ == '__main__':\n",
    "    app.run_server(debug=True)\n"
   ]
  },
  {
   "cell_type": "code",
   "execution_count": null,
   "id": "7ab17cf9",
   "metadata": {},
   "outputs": [],
   "source": []
  }
 ],
 "metadata": {
  "kernelspec": {
   "display_name": "Python 3 (ipykernel)",
   "language": "python",
   "name": "python3"
  },
  "language_info": {
   "codemirror_mode": {
    "name": "ipython",
    "version": 3
   },
   "file_extension": ".py",
   "mimetype": "text/x-python",
   "name": "python",
   "nbconvert_exporter": "python",
   "pygments_lexer": "ipython3",
   "version": "3.10.12"
  }
 },
 "nbformat": 4,
 "nbformat_minor": 5
}
