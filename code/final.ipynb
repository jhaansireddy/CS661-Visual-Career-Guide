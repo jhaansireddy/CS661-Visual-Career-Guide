{
 "cells": [
  {
   "cell_type": "code",
   "execution_count": 48,
   "metadata": {},
   "outputs": [],
   "source": [
    "import numpy as np\n",
    "import pandas as pd\n",
    "import matplotlib.pyplot as plt\n",
    "%matplotlib inline\n",
    "import seaborn as sns\n",
    "import datetime\n",
    "import plotly.express as px\n",
    "import plotly.graph_objects as go\n",
    "from plotly.subplots import make_subplots\n",
    "from ipywidgets import widgets, Layout\n",
    "from IPython.display import display\n",
    "from dash import Dash, dcc, html, Input, Output\n",
    "import os\n",
    "from threading import Timer\n",
    "import webbrowser\n",
    "import dash_bootstrap_components as dbc\n",
    "import dash_cytoscape as cyto\n",
    "import re\n",
    "from functools import reduce"
   ]
  },
  {
   "cell_type": "code",
   "execution_count": 49,
   "metadata": {},
   "outputs": [],
   "source": [
    "import warnings\n",
    "warnings.simplefilter(action=\"ignore\",category=FutureWarning)"
   ]
  },
  {
   "cell_type": "code",
   "execution_count": 50,
   "metadata": {},
   "outputs": [],
   "source": [
    "def open_browser():\n",
    "    if not os.environ.get(\"WERKZEUG_RUN_MAIN\"):\n",
    "        webbrowser.open_new('http://127.0.0.1:8080/')"
   ]
  },
  {
   "cell_type": "code",
   "execution_count": 51,
   "metadata": {},
   "outputs": [],
   "source": [
    "linkedin_job_postings = pd.read_csv(\"..\\Data\\linkedin_jobs_and_skills\\linkedin_job_postings_cleaned.csv\")\n",
    "\n",
    "df_twc = pd.read_csv('..\\Data\\Top_Worlds_Companies\\companies.csv')\n",
    "\n",
    "df_ldd = pd.read_excel('..\\Data\\LinkedIn_DigitalData\\public_use-industry-skills-needs.xlsx', sheet_name=['Industry Skills Needs'])['Industry Skills Needs']\n",
    "df = pd.read_csv('..\\Data\\linkedin_jobs_and_skills\\job_skills.csv')\n",
    "linkedin_job = pd.merge(linkedin_job_postings, df, on = 'job_link', how = 'inner').dropna()\n",
    "\n",
    "df = pd.read_csv('..\\Data\\Jobs_Data_Worldwide\\globe_all_countries_jobs_data.csv', encoding='latin1')\n",
    "df.columns = df.columns.str.strip()\n",
    "\n",
    "df_growth = pd.read_excel('..\\Data\\LinkedIn_DigitalData\\public_use-industry-employment-growth.xlsx', sheet_name=['Growth from Industry Transition'])['Growth from Industry Transition']\n",
    "df_growth = df_growth.rename(columns={'growth_rate_2015': '2015', 'growth_rate_2016': '2016', 'growth_rate_2017': '2017', 'growth_rate_2018': '2018', 'growth_rate_2019': '2019'})\n",
    "\n",
    "df_mig = pd.read_excel('..\\Data\\LinkedIn_DigitalData\\public_use-talent-migration.xlsx', sheet_name=['Country Migration', 'Industry Migration', 'Skill Migration'])"
   ]
  },
  {
   "cell_type": "markdown",
   "metadata": {},
   "source": [
    "## Part 1"
   ]
  },
  {
   "cell_type": "code",
   "execution_count": 52,
   "metadata": {},
   "outputs": [],
   "source": [
    "# Function to identify top hiring companies for a specific job position\n",
    "def top_hiring_companies(jobs_df, country, top_n=20):\n",
    "    \n",
    "    # Filter jobs by country\n",
    "    jobs_df = jobs_df[jobs_df['search_country'] == country]\n",
    "\n",
    "    # Count occurrences of each company\n",
    "    company_counts = jobs_df['company'].value_counts().head(top_n)\n",
    "    \n",
    "    return company_counts\n",
    "\n",
    "# Create initial plot\n",
    "default_job_position = ''\n",
    "default_country = 'United States'\n",
    "initial_jobs_df = linkedin_job_postings[linkedin_job_postings['job_title'].str.contains(default_job_position.lower(), case=False)]\n",
    "top_companies = top_hiring_companies(initial_jobs_df, default_country)\n",
    "\n",
    "fig1 = go.FigureWidget(\n",
    "    data=[\n",
    "        go.Bar(\n",
    "            y=top_companies.index, \n",
    "            x=top_companies.values,\n",
    "            text=top_companies.values,\n",
    "            orientation='h',\n",
    "        )\n",
    "    ]\n",
    ").update_layout(\n",
    "    title=f\"Top Companies hiring in \\'{default_country}\\'\",\n",
    "    yaxis_title=\"Company\",\n",
    "    xaxis_title=\"Number of Job Postings\",\n",
    "    yaxis=dict(autorange=\"reversed\"),\n",
    "    height=1000,\n",
    "    title_x=0.5,\n",
    ")\n",
    "\n",
    "# Function to update plot based on filtered job position\n",
    "def update_fig1_plot(search_value, country_value):\n",
    "    if search_value:\n",
    "        filtered_jobs_df = linkedin_job_postings[linkedin_job_postings['job_title'].str.contains(search_value.lower(), case=False)]\n",
    "        if len(filtered_jobs_df) > 0:\n",
    "            top_companies = top_hiring_companies(filtered_jobs_df, country_value)\n",
    "            fig1.data[0].y = [(i[:30] + '..') if len(i) > 30 else i for i in top_companies.index]\n",
    "            fig1.data[0].x = top_companies.values\n",
    "            fig1.data[0].text=top_companies.values.astype(float)\n",
    "            fig1.data[0].orientation='h'\n",
    "            fig1.update_layout(\n",
    "                title=f\"Top companies hiring for \\'{search_value}\\' in \\'{country_value}\\'\",\n",
    "                yaxis=dict(autorange=\"reversed\"),\n",
    "                title_x=0.5\n",
    "            )\n",
    "        else:\n",
    "            fig1.data[0].y = []\n",
    "            fig1.data[0].x = []\n",
    "            fig1.update_layout(title=f\"No matching job positions for {search_value}\",title_x=0.5,title_font_color=\"red\")\n",
    "    else:\n",
    "        top_companies = top_hiring_companies(linkedin_job_postings, country_value)\n",
    "        fig1.data[0].y = [(i[:30] + '..') if len(i) > 30 else i for i in top_companies.index]\n",
    "        fig1.data[0].x = top_companies.values\n",
    "        fig1.data[0].text=top_companies.values.astype(float)\n",
    "        fig1.data[0].orientation='h'\n",
    "        fig1.update_layout(\n",
    "            title=f\"Top companies hiring in \\'{country_value}\\'\",\n",
    "            yaxis=dict(autorange=\"reversed\"),\n",
    "            title_x=0.5\n",
    "        )"
   ]
  },
  {
   "cell_type": "markdown",
   "metadata": {},
   "source": [
    "## Part 2"
   ]
  },
  {
   "cell_type": "code",
   "execution_count": 53,
   "metadata": {},
   "outputs": [
    {
     "data": {
      "application/vnd.plotly.v1+json": {
       "config": {
        "plotlyServerURL": "https://plot.ly"
       },
       "data": [
        {
         "domain": {
          "x": [
           0,
           0.4
          ],
          "y": [
           0.55,
           1
          ]
         },
         "insidetextorientation": "horizontal",
         "labels": [
          "New South Wales",
          "Redcliffe",
          "Victoria",
          "Perth",
          "Deception Bay",
          "Sydney",
          "Parramatta",
          "Western Australia",
          "Queensland",
          "Penrith"
         ],
         "marker": {
          "colors": [
           "rgb(239,85,59)",
           "rgb(99,110,250)",
           "rgb(254,203,82)",
           "rgb(255,151,255)",
           "rgb(182,232,128)",
           "rgb(255,102,146)",
           "rgb(25,211,243)",
           "rgb(255,161,90)",
           "rgb(171,99,250)",
           "rgb(0,204,150)"
          ]
         },
         "pull": [
          0.1879370254386341,
          0.18429067822058257,
          0.17708378018961005,
          0.10630174595684441,
          0.09107288404615847,
          0.06627772296340784,
          0.06082965123761314,
          0.0442280468448372,
          0.04379906481918407,
          0.038179400283128134
         ],
         "showlegend": false,
         "textinfo": "label+value",
         "type": "pie",
         "values": [
          4381,
          4296,
          4128,
          2478,
          2123,
          1545,
          1418,
          1031,
          1021,
          890
         ]
        },
        {
         "domain": {
          "x": [
           0.6000000000000001,
           1
          ],
          "y": [
           0.55,
           1
          ]
         },
         "insidetextorientation": "horizontal",
         "labels": [
          "Sarnia-Clearwater",
          "Etobicoke",
          "Côte-Saint-Luc",
          "New Westminster",
          "Alberta",
          "Burlington",
          "Calgary",
          "Ottawa",
          "North York",
          "Saskatchewan"
         ],
         "marker": {
          "colors": [
           "rgb(25,211,243)",
           "rgb(255,102,146)",
           "rgb(171,99,250)",
           "rgb(239,85,59)",
           "rgb(0,204,150)",
           "rgb(182,232,128)",
           "rgb(255,161,90)",
           "rgb(99,110,250)",
           "rgb(254,203,82)",
           "rgb(255,151,255)"
          ]
         },
         "pull": [
          0.26239270743229753,
          0.13523853882493844,
          0.12322842504491317,
          0.1105862000133076,
          0.07824871914299023,
          0.06587264621731319,
          0.06504092088628652,
          0.061946902654867256,
          0.05642424645685009,
          0.041020693326235945
         ],
         "showlegend": false,
         "textinfo": "label+value",
         "type": "pie",
         "values": [
          7887,
          4065,
          3704,
          3324,
          2352,
          1980,
          1955,
          1862,
          1696,
          1233
         ]
        },
        {
         "domain": {
          "x": [
           0,
           0.4
          ],
          "y": [
           0,
           0.45
          ]
         },
         "insidetextorientation": "horizontal",
         "labels": [
          "Greater London",
          "High Wycombe",
          "Slough",
          "Crawley",
          "Blackburn",
          "South Hampshire",
          "Worcester",
          "York",
          "Warrington",
          "Northampton"
         ],
         "marker": {
          "colors": [
           "rgb(239,85,59)",
           "rgb(99,110,250)",
           "rgb(255,102,146)",
           "rgb(254,203,82)",
           "rgb(25,211,243)",
           "rgb(255,161,90)",
           "rgb(255,151,255)",
           "rgb(182,232,128)",
           "rgb(171,99,250)",
           "rgb(0,204,150)"
          ]
         },
         "pull": [
          0.2016221725835484,
          0.11791112749669276,
          0.11769425950423977,
          0.09444601071327882,
          0.09132311162195572,
          0.07993754201817353,
          0.0775736809004359,
          0.07633753334345383,
          0.07562186896835896,
          0.06753269284986228
         ],
         "showlegend": false,
         "textinfo": "label+value",
         "type": "pie",
         "values": [
          9297,
          5437,
          5427,
          4355,
          4211,
          3686,
          3577,
          3520,
          3487,
          3114
         ]
        },
        {
         "domain": {
          "x": [
           0.6000000000000001,
           1
          ],
          "y": [
           0,
           0.45
          ]
         },
         "insidetextorientation": "horizontal",
         "labels": [
          "Baytown",
          "North Carolina",
          "Garland",
          "Austin",
          "South Carolina",
          "Atlanta",
          "Indiana",
          "Alabama",
          "Hollywood",
          "Norristown"
         ],
         "marker": {
          "colors": [
           "rgb(255,161,90)",
           "rgb(182,232,128)",
           "rgb(25,211,243)",
           "rgb(0,204,150)",
           "rgb(255,151,255)",
           "rgb(239,85,59)",
           "rgb(99,110,250)",
           "rgb(171,99,250)",
           "rgb(255,102,146)",
           "rgb(254,203,82)"
          ]
         },
         "pull": [
          0.11867208160181338,
          0.11823526633925198,
          0.11497686059690215,
          0.10503636191915376,
          0.09900358896864375,
          0.09050340007555724,
          0.0897124102757839,
          0.08942907064601435,
          0.08733944087646392,
          0.08709151870041557
         ],
         "showlegend": false,
         "textinfo": "label+value",
         "type": "pie",
         "values": [
          10052,
          10015,
          9739,
          8897,
          8386,
          7666,
          7599,
          7575,
          7398,
          7377
         ]
        }
       ],
       "layout": {
        "annotations": [
         {
          "font": {
           "size": 16
          },
          "showarrow": false,
          "text": "Top 10 cities with highest jobs in Australia",
          "x": 0.2,
          "xanchor": "center",
          "xref": "paper",
          "y": 1,
          "yanchor": "bottom",
          "yref": "paper"
         },
         {
          "font": {
           "size": 16
          },
          "showarrow": false,
          "text": "Top 10 cities with highest jobs in Canada",
          "x": 0.8,
          "xanchor": "center",
          "xref": "paper",
          "y": 1,
          "yanchor": "bottom",
          "yref": "paper"
         },
         {
          "font": {
           "size": 16
          },
          "showarrow": false,
          "text": "Top 10 cities with highest jobs in United Kingdom",
          "x": 0.2,
          "xanchor": "center",
          "xref": "paper",
          "y": 0.45,
          "yanchor": "bottom",
          "yref": "paper"
         },
         {
          "font": {
           "size": 16
          },
          "showarrow": false,
          "text": "Top 10 cities with highest jobs in United States",
          "x": 0.8,
          "xanchor": "center",
          "xref": "paper",
          "y": 0.45,
          "yanchor": "bottom",
          "yref": "paper"
         }
        ],
        "height": 1200,
        "template": {
         "data": {
          "bar": [
           {
            "error_x": {
             "color": "#2a3f5f"
            },
            "error_y": {
             "color": "#2a3f5f"
            },
            "marker": {
             "line": {
              "color": "#E5ECF6",
              "width": 0.5
             },
             "pattern": {
              "fillmode": "overlay",
              "size": 10,
              "solidity": 0.2
             }
            },
            "type": "bar"
           }
          ],
          "barpolar": [
           {
            "marker": {
             "line": {
              "color": "#E5ECF6",
              "width": 0.5
             },
             "pattern": {
              "fillmode": "overlay",
              "size": 10,
              "solidity": 0.2
             }
            },
            "type": "barpolar"
           }
          ],
          "carpet": [
           {
            "aaxis": {
             "endlinecolor": "#2a3f5f",
             "gridcolor": "white",
             "linecolor": "white",
             "minorgridcolor": "white",
             "startlinecolor": "#2a3f5f"
            },
            "baxis": {
             "endlinecolor": "#2a3f5f",
             "gridcolor": "white",
             "linecolor": "white",
             "minorgridcolor": "white",
             "startlinecolor": "#2a3f5f"
            },
            "type": "carpet"
           }
          ],
          "choropleth": [
           {
            "colorbar": {
             "outlinewidth": 0,
             "ticks": ""
            },
            "type": "choropleth"
           }
          ],
          "contour": [
           {
            "colorbar": {
             "outlinewidth": 0,
             "ticks": ""
            },
            "colorscale": [
             [
              0,
              "#0d0887"
             ],
             [
              0.1111111111111111,
              "#46039f"
             ],
             [
              0.2222222222222222,
              "#7201a8"
             ],
             [
              0.3333333333333333,
              "#9c179e"
             ],
             [
              0.4444444444444444,
              "#bd3786"
             ],
             [
              0.5555555555555556,
              "#d8576b"
             ],
             [
              0.6666666666666666,
              "#ed7953"
             ],
             [
              0.7777777777777778,
              "#fb9f3a"
             ],
             [
              0.8888888888888888,
              "#fdca26"
             ],
             [
              1,
              "#f0f921"
             ]
            ],
            "type": "contour"
           }
          ],
          "contourcarpet": [
           {
            "colorbar": {
             "outlinewidth": 0,
             "ticks": ""
            },
            "type": "contourcarpet"
           }
          ],
          "heatmap": [
           {
            "colorbar": {
             "outlinewidth": 0,
             "ticks": ""
            },
            "colorscale": [
             [
              0,
              "#0d0887"
             ],
             [
              0.1111111111111111,
              "#46039f"
             ],
             [
              0.2222222222222222,
              "#7201a8"
             ],
             [
              0.3333333333333333,
              "#9c179e"
             ],
             [
              0.4444444444444444,
              "#bd3786"
             ],
             [
              0.5555555555555556,
              "#d8576b"
             ],
             [
              0.6666666666666666,
              "#ed7953"
             ],
             [
              0.7777777777777778,
              "#fb9f3a"
             ],
             [
              0.8888888888888888,
              "#fdca26"
             ],
             [
              1,
              "#f0f921"
             ]
            ],
            "type": "heatmap"
           }
          ],
          "heatmapgl": [
           {
            "colorbar": {
             "outlinewidth": 0,
             "ticks": ""
            },
            "colorscale": [
             [
              0,
              "#0d0887"
             ],
             [
              0.1111111111111111,
              "#46039f"
             ],
             [
              0.2222222222222222,
              "#7201a8"
             ],
             [
              0.3333333333333333,
              "#9c179e"
             ],
             [
              0.4444444444444444,
              "#bd3786"
             ],
             [
              0.5555555555555556,
              "#d8576b"
             ],
             [
              0.6666666666666666,
              "#ed7953"
             ],
             [
              0.7777777777777778,
              "#fb9f3a"
             ],
             [
              0.8888888888888888,
              "#fdca26"
             ],
             [
              1,
              "#f0f921"
             ]
            ],
            "type": "heatmapgl"
           }
          ],
          "histogram": [
           {
            "marker": {
             "pattern": {
              "fillmode": "overlay",
              "size": 10,
              "solidity": 0.2
             }
            },
            "type": "histogram"
           }
          ],
          "histogram2d": [
           {
            "colorbar": {
             "outlinewidth": 0,
             "ticks": ""
            },
            "colorscale": [
             [
              0,
              "#0d0887"
             ],
             [
              0.1111111111111111,
              "#46039f"
             ],
             [
              0.2222222222222222,
              "#7201a8"
             ],
             [
              0.3333333333333333,
              "#9c179e"
             ],
             [
              0.4444444444444444,
              "#bd3786"
             ],
             [
              0.5555555555555556,
              "#d8576b"
             ],
             [
              0.6666666666666666,
              "#ed7953"
             ],
             [
              0.7777777777777778,
              "#fb9f3a"
             ],
             [
              0.8888888888888888,
              "#fdca26"
             ],
             [
              1,
              "#f0f921"
             ]
            ],
            "type": "histogram2d"
           }
          ],
          "histogram2dcontour": [
           {
            "colorbar": {
             "outlinewidth": 0,
             "ticks": ""
            },
            "colorscale": [
             [
              0,
              "#0d0887"
             ],
             [
              0.1111111111111111,
              "#46039f"
             ],
             [
              0.2222222222222222,
              "#7201a8"
             ],
             [
              0.3333333333333333,
              "#9c179e"
             ],
             [
              0.4444444444444444,
              "#bd3786"
             ],
             [
              0.5555555555555556,
              "#d8576b"
             ],
             [
              0.6666666666666666,
              "#ed7953"
             ],
             [
              0.7777777777777778,
              "#fb9f3a"
             ],
             [
              0.8888888888888888,
              "#fdca26"
             ],
             [
              1,
              "#f0f921"
             ]
            ],
            "type": "histogram2dcontour"
           }
          ],
          "mesh3d": [
           {
            "colorbar": {
             "outlinewidth": 0,
             "ticks": ""
            },
            "type": "mesh3d"
           }
          ],
          "parcoords": [
           {
            "line": {
             "colorbar": {
              "outlinewidth": 0,
              "ticks": ""
             }
            },
            "type": "parcoords"
           }
          ],
          "pie": [
           {
            "automargin": true,
            "type": "pie"
           }
          ],
          "scatter": [
           {
            "fillpattern": {
             "fillmode": "overlay",
             "size": 10,
             "solidity": 0.2
            },
            "type": "scatter"
           }
          ],
          "scatter3d": [
           {
            "line": {
             "colorbar": {
              "outlinewidth": 0,
              "ticks": ""
             }
            },
            "marker": {
             "colorbar": {
              "outlinewidth": 0,
              "ticks": ""
             }
            },
            "type": "scatter3d"
           }
          ],
          "scattercarpet": [
           {
            "marker": {
             "colorbar": {
              "outlinewidth": 0,
              "ticks": ""
             }
            },
            "type": "scattercarpet"
           }
          ],
          "scattergeo": [
           {
            "marker": {
             "colorbar": {
              "outlinewidth": 0,
              "ticks": ""
             }
            },
            "type": "scattergeo"
           }
          ],
          "scattergl": [
           {
            "marker": {
             "colorbar": {
              "outlinewidth": 0,
              "ticks": ""
             }
            },
            "type": "scattergl"
           }
          ],
          "scattermapbox": [
           {
            "marker": {
             "colorbar": {
              "outlinewidth": 0,
              "ticks": ""
             }
            },
            "type": "scattermapbox"
           }
          ],
          "scatterpolar": [
           {
            "marker": {
             "colorbar": {
              "outlinewidth": 0,
              "ticks": ""
             }
            },
            "type": "scatterpolar"
           }
          ],
          "scatterpolargl": [
           {
            "marker": {
             "colorbar": {
              "outlinewidth": 0,
              "ticks": ""
             }
            },
            "type": "scatterpolargl"
           }
          ],
          "scatterternary": [
           {
            "marker": {
             "colorbar": {
              "outlinewidth": 0,
              "ticks": ""
             }
            },
            "type": "scatterternary"
           }
          ],
          "surface": [
           {
            "colorbar": {
             "outlinewidth": 0,
             "ticks": ""
            },
            "colorscale": [
             [
              0,
              "#0d0887"
             ],
             [
              0.1111111111111111,
              "#46039f"
             ],
             [
              0.2222222222222222,
              "#7201a8"
             ],
             [
              0.3333333333333333,
              "#9c179e"
             ],
             [
              0.4444444444444444,
              "#bd3786"
             ],
             [
              0.5555555555555556,
              "#d8576b"
             ],
             [
              0.6666666666666666,
              "#ed7953"
             ],
             [
              0.7777777777777778,
              "#fb9f3a"
             ],
             [
              0.8888888888888888,
              "#fdca26"
             ],
             [
              1,
              "#f0f921"
             ]
            ],
            "type": "surface"
           }
          ],
          "table": [
           {
            "cells": {
             "fill": {
              "color": "#EBF0F8"
             },
             "line": {
              "color": "white"
             }
            },
            "header": {
             "fill": {
              "color": "#C8D4E3"
             },
             "line": {
              "color": "white"
             }
            },
            "type": "table"
           }
          ]
         },
         "layout": {
          "annotationdefaults": {
           "arrowcolor": "#2a3f5f",
           "arrowhead": 0,
           "arrowwidth": 1
          },
          "autotypenumbers": "strict",
          "coloraxis": {
           "colorbar": {
            "outlinewidth": 0,
            "ticks": ""
           }
          },
          "colorscale": {
           "diverging": [
            [
             0,
             "#8e0152"
            ],
            [
             0.1,
             "#c51b7d"
            ],
            [
             0.2,
             "#de77ae"
            ],
            [
             0.3,
             "#f1b6da"
            ],
            [
             0.4,
             "#fde0ef"
            ],
            [
             0.5,
             "#f7f7f7"
            ],
            [
             0.6,
             "#e6f5d0"
            ],
            [
             0.7,
             "#b8e186"
            ],
            [
             0.8,
             "#7fbc41"
            ],
            [
             0.9,
             "#4d9221"
            ],
            [
             1,
             "#276419"
            ]
           ],
           "sequential": [
            [
             0,
             "#0d0887"
            ],
            [
             0.1111111111111111,
             "#46039f"
            ],
            [
             0.2222222222222222,
             "#7201a8"
            ],
            [
             0.3333333333333333,
             "#9c179e"
            ],
            [
             0.4444444444444444,
             "#bd3786"
            ],
            [
             0.5555555555555556,
             "#d8576b"
            ],
            [
             0.6666666666666666,
             "#ed7953"
            ],
            [
             0.7777777777777778,
             "#fb9f3a"
            ],
            [
             0.8888888888888888,
             "#fdca26"
            ],
            [
             1,
             "#f0f921"
            ]
           ],
           "sequentialminus": [
            [
             0,
             "#0d0887"
            ],
            [
             0.1111111111111111,
             "#46039f"
            ],
            [
             0.2222222222222222,
             "#7201a8"
            ],
            [
             0.3333333333333333,
             "#9c179e"
            ],
            [
             0.4444444444444444,
             "#bd3786"
            ],
            [
             0.5555555555555556,
             "#d8576b"
            ],
            [
             0.6666666666666666,
             "#ed7953"
            ],
            [
             0.7777777777777778,
             "#fb9f3a"
            ],
            [
             0.8888888888888888,
             "#fdca26"
            ],
            [
             1,
             "#f0f921"
            ]
           ]
          },
          "colorway": [
           "#636efa",
           "#EF553B",
           "#00cc96",
           "#ab63fa",
           "#FFA15A",
           "#19d3f3",
           "#FF6692",
           "#B6E880",
           "#FF97FF",
           "#FECB52"
          ],
          "font": {
           "color": "#2a3f5f"
          },
          "geo": {
           "bgcolor": "white",
           "lakecolor": "white",
           "landcolor": "#E5ECF6",
           "showlakes": true,
           "showland": true,
           "subunitcolor": "white"
          },
          "hoverlabel": {
           "align": "left"
          },
          "hovermode": "closest",
          "mapbox": {
           "style": "light"
          },
          "paper_bgcolor": "white",
          "plot_bgcolor": "#E5ECF6",
          "polar": {
           "angularaxis": {
            "gridcolor": "white",
            "linecolor": "white",
            "ticks": ""
           },
           "bgcolor": "#E5ECF6",
           "radialaxis": {
            "gridcolor": "white",
            "linecolor": "white",
            "ticks": ""
           }
          },
          "scene": {
           "xaxis": {
            "backgroundcolor": "#E5ECF6",
            "gridcolor": "white",
            "gridwidth": 2,
            "linecolor": "white",
            "showbackground": true,
            "ticks": "",
            "zerolinecolor": "white"
           },
           "yaxis": {
            "backgroundcolor": "#E5ECF6",
            "gridcolor": "white",
            "gridwidth": 2,
            "linecolor": "white",
            "showbackground": true,
            "ticks": "",
            "zerolinecolor": "white"
           },
           "zaxis": {
            "backgroundcolor": "#E5ECF6",
            "gridcolor": "white",
            "gridwidth": 2,
            "linecolor": "white",
            "showbackground": true,
            "ticks": "",
            "zerolinecolor": "white"
           }
          },
          "shapedefaults": {
           "line": {
            "color": "#2a3f5f"
           }
          },
          "ternary": {
           "aaxis": {
            "gridcolor": "white",
            "linecolor": "white",
            "ticks": ""
           },
           "baxis": {
            "gridcolor": "white",
            "linecolor": "white",
            "ticks": ""
           },
           "bgcolor": "#E5ECF6",
           "caxis": {
            "gridcolor": "white",
            "linecolor": "white",
            "ticks": ""
           }
          },
          "title": {
           "x": 0.05
          },
          "xaxis": {
           "automargin": true,
           "gridcolor": "white",
           "linecolor": "white",
           "ticks": "",
           "title": {
            "standoff": 15
           },
           "zerolinecolor": "white",
           "zerolinewidth": 2
          },
          "yaxis": {
           "automargin": true,
           "gridcolor": "white",
           "linecolor": "white",
           "ticks": "",
           "title": {
            "standoff": 15
           },
           "zerolinecolor": "white",
           "zerolinewidth": 2
          }
         }
        }
       }
      }
     },
     "metadata": {},
     "output_type": "display_data"
    }
   ],
   "source": [
    "country_list = linkedin_job_postings['search_country'].unique().tolist()\n",
    "country_list.sort()\n",
    "\n",
    "linkedin_job_postings_by_country_dict = {}\n",
    "\n",
    "for country in country_list:\n",
    "    linkedin_job_postings_by_country_dict[country] = linkedin_job_postings[linkedin_job_postings['search_country']==country]\n",
    "\n",
    "top = 10\n",
    "top_cities_dict = {}\n",
    "\n",
    "for country in country_list:\n",
    "    top_cities_dict[country] = linkedin_job_postings_by_country_dict[country]['search_city'].value_counts().head(top)\n",
    "\n",
    "fig_dict = {}\n",
    "\n",
    "chart_colors = np.array(['rgb(239,85,59)', 'rgb(99,110,250)', 'rgb(254,203,82)', 'rgb(255,151,255)', 'rgb(182,232,128)',\n",
    "                'rgb(255,102,146)', 'rgb(25,211,243)', 'rgb(255,161,90)', 'rgb(171,99,250)', 'rgb(0,204,150)'])\n",
    "\n",
    "chart_colors_dict = {}\n",
    "\n",
    "for country in country_list:\n",
    "    chart_colors_dict[country] = chart_colors.copy()\n",
    "    np.random.shuffle(chart_colors)\n",
    "\n",
    "for country in country_list:\n",
    "    total = top_cities_dict[country].values.sum()\n",
    "    fig_dict[country] = go.Figure(\n",
    "                            data=[\n",
    "                                go.Pie(\n",
    "                                    labels=top_cities_dict[country].index, \n",
    "                                    values=top_cities_dict[country].values,\n",
    "                                    textinfo='label+value',\n",
    "                                    insidetextorientation='horizontal',\n",
    "                                    showlegend=False,\n",
    "                                    pull=top_cities_dict[country].values / total,\n",
    "                                    marker=dict(colors=chart_colors_dict[country]),\n",
    "                                )\n",
    "                            ]\n",
    "                        )\n",
    "    fig_dict[country].update_layout(\n",
    "        title_text=f\"Top {top} cities with highest jobs in {country}\",\n",
    "        title_x=0.5,\n",
    "        title_y=0.95,\n",
    "    )\n",
    "\n",
    "fig2 = make_subplots(\n",
    "    rows=2, \n",
    "    cols=2, \n",
    "    subplot_titles=[f\"Top {top} cities with highest jobs in {country}\" for country in country_list],\n",
    "    specs=[[{\"type\": \"sunburst\"}, {\"type\": \"sunburst\"}], [{\"type\": \"sunburst\"}, {\"type\": \"sunburst\"}]],\n",
    "    horizontal_spacing=0.2,\n",
    "    vertical_spacing=0.1,\n",
    ")\n",
    "\n",
    "for country in country_list:\n",
    "    fig2.add_trace(fig_dict[country].data[0], row=country_list.index(country)//2+1, col=country_list.index(country)%2+1)\n",
    "\n",
    "fig2.update_layout(\n",
    "    height=1200, \n",
    "    # width=1000, \n",
    "    # title_text=\"Top 10 cities with highest jobs in each country\",\n",
    "    # title_x=0.5,\n",
    "    # title=dict(\n",
    "    #     font=dict(\n",
    "    #         size=24,  # Adjust text size as needed\n",
    "    #         color=\"black\",  # Adjust color as needed\n",
    "    #     )\n",
    "    # ),\n",
    "    #     margin=dict(l=50, r=50, t=100, b=50),  # Adjust margins as needed\n",
    "        # spacing=dict(row=0.2, column=0.2)\n",
    ")"
   ]
  },
  {
   "cell_type": "markdown",
   "metadata": {},
   "source": [
    "## Part 3"
   ]
  },
  {
   "cell_type": "code",
   "execution_count": 54,
   "metadata": {},
   "outputs": [],
   "source": [
    "# Top world's companies\n",
    "def contains_numeric(string):\n",
    "    pattern = r'\\d'\n",
    "    match = re.search(pattern, string)\n",
    "    if match:\n",
    "        return np.nan\n",
    "    elif string == 'Ahmedabad':\n",
    "        return np.nan\n",
    "    else:\n",
    "        return string\n",
    "\n",
    "def string_to_num(amount):\n",
    "    r = 0\n",
    "    try:\n",
    "        if amount[-1]=='k':\n",
    "            r = 1000*float(amount[:-1])\n",
    "        else:\n",
    "            r = float(amount)\n",
    "        return r\n",
    "    except ValueError:\n",
    "        return np.nan\n",
    "    \n",
    "df_twc['desc'] = df_twc['Description'].str.split('|').str[0]\n",
    "df_twc['sector'] = df_twc['desc'].apply(contains_numeric)\n",
    "\n",
    "df_twc.drop('desc',axis=1, inplace=True)\n",
    "\n",
    "df_twc['HRF'] = df_twc['Highly_rated_for'].str.split(', ')\n",
    "df_twc['Avg_salary'] = df_twc['Avg_salary'].apply(string_to_num)\n",
    "df_twc['Total_jobs_available'] = df_twc['Total_jobs_available'].apply(string_to_num)\n",
    "df_twc['Interviews_taken'] = df_twc['Interviews_taken'].apply(string_to_num)\n",
    "hrf_ser = df_twc['HRF'].dropna()\n",
    "\n",
    "union_HRF = reduce(set.union, map(set, hrf_ser))"
   ]
  },
  {
   "cell_type": "code",
   "execution_count": 55,
   "metadata": {},
   "outputs": [],
   "source": [
    "def update_Sect_Ratings(sector, crit):\n",
    "    # Apply filters to the data\n",
    "    filtered_df = df_twc.copy()\n",
    "    filtered_df.dropna(subset=['sector','HRF'], inplace=True)\n",
    "\n",
    "    if sector:\n",
    "        filtered_df = filtered_df[filtered_df[\"sector\"].isin(sector)]\n",
    "    if crit:\n",
    "        filtered_df = filtered_df[filtered_df[\"HRF\"].apply(lambda x: bool(set(x) & set(crit)))]\n",
    "\n",
    "    # Create the bar chart\n",
    "    full_fig = make_subplots(rows=2, cols=1,)\n",
    "    fig1 = px.bar(\n",
    "        filtered_df.sort_values(\"Avg_salary\", ascending=False).head(20),\n",
    "        x=\"Company_name\",\n",
    "        y=\"Avg_salary\",\n",
    "        color=\"Ratings\",\n",
    "        hover_data=[\"Avg_salary\"],\n",
    "    )\n",
    "    fig1.update_xaxes(showgrid=False)\n",
    "    fig1.update_yaxes(showgrid=False)\n",
    "    full_fig.update_yaxes(title_text=\"Average salary\", row=1, col=1)\n",
    "    full_fig.update_layout(\n",
    "        coloraxis_colorbar=dict(len=0.4, x=1.1, y=0.7, title='Ratings'),\n",
    "        coloraxis_colorscale='ice',\n",
    "    )\n",
    "    fig2 = px.scatter(\n",
    "        filtered_df.sort_values(\"Avg_salary\", ascending=False).head(20),\n",
    "        x='Total_jobs_available', y='Interviews_taken', \n",
    "        color='Ratings',size = 'Ratings',hover_data=[\"Company_name\"]\n",
    "    )\n",
    "    full_fig.update_xaxes(title_text=\"Number of jobs\", row=2, col=1)\n",
    "    full_fig.update_yaxes(title_text=\"Number of interviews\", row=2, col=1)\n",
    "    full_fig.add_trace(fig1.data[0], row=1,col=1)\n",
    "    full_fig.add_trace(fig2.data[0], row=2, col=1)\n",
    "    full_fig.update_layout(\n",
    "        # width=1200,\n",
    "        height=700,\n",
    "        margin=dict(l=20, r=20, t=40, b=20),\n",
    "        font=dict(color=colors['text']),\n",
    "        plot_bgcolor=colors['background'], paper_bgcolor=colors['background']\n",
    "    )\n",
    "    return full_fig"
   ]
  },
  {
   "cell_type": "markdown",
   "metadata": {},
   "source": [
    "## Part 4"
   ]
  },
  {
   "cell_type": "code",
   "execution_count": 56,
   "metadata": {},
   "outputs": [],
   "source": [
    "def update_style(section, skill, selected_node):\n",
    "    filtered_df = df_ldd[df_ldd['isic_section_name']==section]\n",
    "    if skill:\n",
    "        filtered_df = filtered_df[filtered_df[\"skill_group_name\"].isin(skill)]\n",
    "    industries = [\n",
    "        {\n",
    "            \"data\":{\"id\": iname+\"i\", \"label\": iname, \"type\":'industry'}\n",
    "        }\n",
    "        for iname in filtered_df['industry_name'].unique()\n",
    "    ]\n",
    "    skills = [\n",
    "        {\n",
    "            \"data\":{\"id\": sname+\"s\", \"label\": sname, \"type\":'skill'}\n",
    "        }\n",
    "        for sname in filtered_df['skill_group_name'].unique()\n",
    "    ]\n",
    "    nodes = industries+skills\n",
    "    edges = [\n",
    "        {\"data\": {\"source\": source+\"i\", \"target\":target+\"s\"}}\n",
    "        for source, target in list(zip(filtered_df['industry_name'], filtered_df['skill_group_name']))\n",
    "    ]\n",
    "    elements = nodes + edges\n",
    "    if selected_node is None:\n",
    "        return elements, []\n",
    "\n",
    "    selected_node_id = selected_node['id']\n",
    "    neighborhood = []\n",
    "    for edge in edges:\n",
    "        edge_data = edge.get('data', {})\n",
    "        source = edge_data.get('source')\n",
    "        target = edge_data.get('target')\n",
    "        if source == selected_node_id:\n",
    "            neighborhood.append(target)\n",
    "        elif target == selected_node_id:\n",
    "            neighborhood.append(source)\n",
    "\n",
    "    # Define the stylesheet to highlight the selected node and its immediate neighbors\n",
    "    stylesheet = [\n",
    "        {\n",
    "            'selector': 'node',\n",
    "            'style': {\n",
    "                'background-color': 'grey',\n",
    "                'opacity': '0.2',\n",
    "                'label': 'data(label)'# Default color for nodes\n",
    "            }\n",
    "        },\n",
    "        {\n",
    "            'selector': 'node[type = \\'industry\\']',\n",
    "            'style': {\n",
    "                'background-color': '#ff66cc',\n",
    "                'opacity': '0.2',\n",
    "                'label': 'data(label)'# Default color for nodes\n",
    "            }\n",
    "        },\n",
    "        {\n",
    "            'selector': 'edge',\n",
    "            'style': {\n",
    "                'line-color': 'grey',  # Default color for edges\n",
    "                'opacity':'0.15'\n",
    "            }\n",
    "        },\n",
    "        {\n",
    "            'selector': 'node[id = \"{}\"]'.format(selected_node_id),\n",
    "            'style': {\n",
    "                'background-color': 'blue',  # Color for selected node\n",
    "                'opacity': '1.0'\n",
    "            }\n",
    "        },\n",
    "        {\n",
    "            'selector': 'edge[source = \"{}\"]'.format(selected_node_id),\n",
    "            'style': {\n",
    "                'line-color': 'blue',  # Color for edges connected to selected node\n",
    "                'opacity': '1.0'\n",
    "            }\n",
    "        },\n",
    "        {\n",
    "            'selector': 'edge[target = \"{}\"]'.format(selected_node_id),\n",
    "            'style': {\n",
    "                'line-color': 'blue',  # Color for edges connected to selected node\n",
    "                'opacity': '1.0'\n",
    "            }\n",
    "        }\n",
    "    ]\n",
    "    for nd in neighborhood:\n",
    "        stylesheet.append({\n",
    "            'selector': 'node[id = \"{}\"]'.format(nd),\n",
    "            'style': {\n",
    "                'background-color': 'red',  # Color for edges connected to selected node\n",
    "                'opacity': '1.0'\n",
    "            }})\n",
    "    return elements,stylesheet"
   ]
  },
  {
   "cell_type": "markdown",
   "metadata": {},
   "source": [
    "## Part 5"
   ]
  },
  {
   "cell_type": "code",
   "execution_count": 57,
   "metadata": {},
   "outputs": [
    {
     "name": "stderr",
     "output_type": "stream",
     "text": [
      "C:\\Users\\Dell\\AppData\\Local\\Temp/ipykernel_30540/2999098325.py:6: UserWarning:\n",
      "\n",
      "Boolean Series key will be reindexed to match DataFrame index.\n",
      "\n"
     ]
    }
   ],
   "source": [
    "country_options = [{'label': country, 'value': country} for country in linkedin_job_postings['search_country'].unique()]\n",
    "\n",
    "default_country = 'United States'\n",
    "default_city = 'New York'\n",
    "\n",
    "filtered_df = linkedin_job_postings[linkedin_job_postings['search_country'] == default_country][linkedin_job_postings['search_city'] == default_city][['search_position']]\n",
    "data_df = filtered_df.groupby('search_position').size().reset_index(name='count').sort_values('count', ascending=False).reset_index(drop=True)\n",
    "\n",
    "fig5 = px.histogram(\n",
    "            data_df.head(15),\n",
    "            x='search_position',\n",
    "            y='count',\n",
    "            text_auto=True,\n",
    "        ).update_layout(\n",
    "            title=f'Top 20 job positions users search for in {default_city}, {default_country}',\n",
    "            title_x=0.5,\n",
    "            xaxis_title='Job Position',\n",
    "            yaxis_title='Total Job Postings',\n",
    "            xaxis={'categoryorder':'total descending'}\n",
    "        )\n",
    "\n",
    "def update_histogram(search_country, search_city):\n",
    "    filtered_df = linkedin_job_postings[linkedin_job_postings['search_country'] == search_country][linkedin_job_postings['search_city'] == search_city][['search_position']]\n",
    "    data_df = filtered_df.groupby('search_position').size().reset_index(name='count').sort_values('count', ascending=False).reset_index(drop=True)\n",
    "\n",
    "    fig5.data[0].x = data_df.head(15)['search_position']\n",
    "    fig5.data[0].y = data_df.head(15)['count']\n",
    "\n",
    "    fig5.update_layout(\n",
    "            title=f'Top 20 job positions users search for in {search_city}, {search_country}',\n",
    "            xaxis_title='Job Position',\n",
    "            yaxis_title='Total Job Postings',\n",
    "            xaxis={'categoryorder':'total descending'}\n",
    "        )\n",
    "    return fig5"
   ]
  },
  {
   "cell_type": "markdown",
   "metadata": {},
   "source": [
    "## Part 6"
   ]
  },
  {
   "cell_type": "code",
   "execution_count": 58,
   "metadata": {},
   "outputs": [],
   "source": [
    "selected_company = linkedin_job['company'].head(100).tolist()\n",
    "\n",
    "def update_chart(company):\n",
    "    company_data = linkedin_job[linkedin_job['company'] == company]\n",
    "    job_counts = company_data['search_position'].value_counts().head(15)\n",
    "\n",
    "    # Create a bar graph\n",
    "    bar_data = go.Bar(\n",
    "        x=job_counts.index,\n",
    "        y=job_counts.values\n",
    "    )\n",
    "\n",
    "    # Layout for the bar graph\n",
    "    layout = go.Layout(title=f'Job Titles Distribution for {company}',\n",
    "                       xaxis={'title': 'Job Titles'},\n",
    "                       yaxis={'title': 'Total Job Postings'})\n",
    "\n",
    "    return {'data': [bar_data], 'layout': layout}"
   ]
  },
  {
   "cell_type": "markdown",
   "metadata": {},
   "source": [
    "## Part 7"
   ]
  },
  {
   "cell_type": "code",
   "execution_count": 59,
   "metadata": {},
   "outputs": [],
   "source": [
    "# Extract unique countries from the dataset\n",
    "countries = df['Country Name'].dropna().unique()\n",
    "selected_aspects = [\n",
    "    'Access to electricity (% of population)',\n",
    "    'Employment in services (% of total employment) (modeled ILO estimate)',\n",
    "    'Agriculture value added (% of GDP)',\n",
    "    'Unemployment with advanced education (% of total labor force with advanced education)',\n",
    "    'Life expectancy at birth total (years)'\n",
    "]\n",
    "\n",
    "def update_comparison_chart(selected_country, selected_aspect):\n",
    "    # Filter dataset based on selected country and aspect\n",
    "    filtered_data = df[(df['Country Name'] == selected_country) & (df['Series Name'] == selected_aspect)]\n",
    "\n",
    "    # Extract years and corresponding values for the selected aspect (from '1995 [YR1995]' to '2016 [YR2016]')\n",
    "    years = [f\"{year} [YR{year}]\" for year in range(1995, 2017)]\n",
    "    values = filtered_data[years].values.tolist()[0]  # Assuming only one row matches\n",
    "\n",
    "    # Create line plot for the selected aspect\n",
    "    fig7 = px.line(\n",
    "        x=years,\n",
    "        y=values,\n",
    "        labels={\n",
    "            'x': 'Year',\n",
    "            'y': selected_aspect\n",
    "        },\n",
    "        title=f'{selected_aspect} in {selected_country} (1995 to 2016)',\n",
    "        markers=True,\n",
    "    )\n",
    "    return fig7"
   ]
  },
  {
   "cell_type": "markdown",
   "metadata": {},
   "source": [
    "## Part 8"
   ]
  },
  {
   "cell_type": "code",
   "execution_count": 60,
   "metadata": {},
   "outputs": [],
   "source": [
    "def update_output(country, section):\n",
    "    filtered_df = df_growth[df_growth['country_name']==country]\n",
    "    filtered_df = filtered_df[filtered_df['isic_section_name']==section]\n",
    "    melted = filtered_df.melt(id_vars=['industry_name'], value_vars=['2015','2016','2017','2018','2019'], var_name='year', value_name='growth_rate')\n",
    "    fig = px.line(\n",
    "            melted,\n",
    "            x=\"year\",\n",
    "            y=\"growth_rate\",\n",
    "            color=\"industry_name\",\n",
    "            markers=True,\n",
    "            title=\"Growth rate over the years\",\n",
    "        )\n",
    "    fig.add_hline(y=0, line=dict(color='red',dash='dash'))\n",
    "    i = 0\n",
    "    for trace in fig.data:\n",
    "        i += 1\n",
    "        if i > 3:\n",
    "            trace.update(visible='legendonly')\n",
    "    fig.update_layout(plot_bgcolor=colors['background'], paper_bgcolor=colors['background'])\n",
    "    return fig"
   ]
  },
  {
   "cell_type": "markdown",
   "metadata": {},
   "source": [
    "## Part 9"
   ]
  },
  {
   "cell_type": "code",
   "execution_count": 61,
   "metadata": {},
   "outputs": [],
   "source": [
    "df_cm = df_mig['Country Migration']\n",
    "df_im = df_mig['Industry Migration']\n",
    "df_sm = df_mig['Skill Migration']\n",
    "df_country = df_cm[['base_country_code','base_lat','base_long']].drop_duplicates(subset=['base_country_code'])\n",
    "df_im = pd.merge(df_im, df_country, left_on='country_code', right_on='base_country_code').drop('base_country_code',axis=1)\n",
    "df_sm = pd.merge(df_sm, df_country, left_on='country_code', right_on='base_country_code').drop('base_country_code',axis=1)\n",
    "df_im['avg_migration'] = df_im[['net_per_10K_2015','net_per_10K_2016','net_per_10K_2017','net_per_10K_2018','net_per_10K_2019']].mean(axis=1)\n",
    "df_sm['avg_migration'] = df_sm[['net_per_10K_2015','net_per_10K_2016','net_per_10K_2017','net_per_10K_2018','net_per_10K_2019']].mean(axis=1)\n",
    "df_im['size'] = np.abs(df_im['avg_migration'])\n",
    "df_sm['size'] = np.abs(df_sm['avg_migration'])"
   ]
  },
  {
   "cell_type": "code",
   "execution_count": 62,
   "metadata": {},
   "outputs": [],
   "source": [
    "def geo_update(isoption, sel):\n",
    "    options = []\n",
    "    filtered_df = None\n",
    "    if isoption == 'industry migration':\n",
    "        options=[{\"label\": s, \"value\": s}\n",
    "                for s in df_im['industry_name'].dropna().unique()]\n",
    "        filtered_df = df_im[df_im['industry_name']==sel]\n",
    "    elif isoption == 'skill migration':\n",
    "        options=[{\"label\": s, \"value\": s}\n",
    "                for s in df_sm['skill_group_name'].dropna().unique()]\n",
    "        filtered_df = df_sm[df_sm['skill_group_name']==sel]\n",
    "    fig = px.scatter_geo(\n",
    "        data_frame= filtered_df,\n",
    "        lat=\"base_lat\",\n",
    "        lon=\"base_long\",\n",
    "        size=\"size\",\n",
    "        hover_name=\"country_name\",\n",
    "        projection='equirectangular',color='avg_migration',\n",
    "                      color_continuous_scale=[(0, 'red'), (0.5, 'yellow'), (1, 'green')],\n",
    "                      color_continuous_midpoint=0\n",
    "    )\n",
    "    fig.update_layout(\n",
    "    margin=dict(l=20, r=20, t=10, b=20),  # Adjust margins\n",
    "    font=dict(color=colors['text']),\n",
    "    paper_bgcolor=colors['background'],\n",
    "    coloraxis_colorbar=dict(title='Average inflow per 10K')\n",
    "    )\n",
    "    return options,fig"
   ]
  },
  {
   "cell_type": "markdown",
   "metadata": {},
   "source": [
    "## Dash Code"
   ]
  },
  {
   "cell_type": "code",
   "execution_count": 63,
   "metadata": {},
   "outputs": [],
   "source": [
    "# styles\n",
    "colors = {\n",
    "    'background': '#d9ffb3',\n",
    "    'text': '#0066cc',\n",
    "    'title' : '#000000'\n",
    "}\n",
    "def_stylesheet = [\n",
    "        {\n",
    "            'selector': 'node',\n",
    "            'style': {\n",
    "                'background-color': 'grey',\n",
    "                'opacity': '0.2',\n",
    "                'label': 'data(label)'# Default color for nodes\n",
    "            }\n",
    "        },\n",
    "        {\n",
    "            'selector': 'node[type = \\'industry\\']',\n",
    "            'style': {\n",
    "                'background-color': '#ff66cc',\n",
    "                'opacity': '0.2',\n",
    "                'label': 'data(label)'# Default color for nodes\n",
    "            }\n",
    "        },\n",
    "        {\n",
    "            'selector': 'edge',\n",
    "            'style': {\n",
    "                'line-color': 'grey',  # Default color for edges\n",
    "                'opacity':'0.15'\n",
    "            }\n",
    "        }]"
   ]
  },
  {
   "cell_type": "code",
   "execution_count": 64,
   "metadata": {},
   "outputs": [],
   "source": [
    "app = Dash(\n",
    "    meta_tags=[\n",
    "        {'name': 'viewport', 'content': 'width=device-width, initial-scale=1.0'}\n",
    "    ],\n",
    "    external_stylesheets=['..\\Code\\global.css']\n",
    ")"
   ]
  },
  {
   "cell_type": "code",
   "execution_count": 65,
   "metadata": {},
   "outputs": [],
   "source": [
    "# Define callback to update Part 1\n",
    "@app.callback(\n",
    "    Output('bar-chart', 'figure'),\n",
    "    Input('search-button', 'n_clicks'),\n",
    "    Input('search-input', 'value'),\n",
    "    Input('country-input', 'value'),\n",
    ")\n",
    "def update_bar_chart(n_clicks, search_value, country_value):\n",
    "    if n_clicks:\n",
    "        update_fig1_plot(search_value, country_value)\n",
    "    return fig1"
   ]
  },
  {
   "cell_type": "code",
   "execution_count": 66,
   "metadata": {},
   "outputs": [],
   "source": [
    "# Define callback to update Part 3\n",
    "@app.callback(\n",
    "    Output(\"fig1\", \"figure\"),\n",
    "    Input(\"sector-filter\", \"value\"),\n",
    "    Input(\"critique-filter\", \"value\")\n",
    ")\n",
    "def update_fig3_Sect_Ratings(sector, crit):\n",
    "    return update_Sect_Ratings(sector, crit)"
   ]
  },
  {
   "cell_type": "code",
   "execution_count": 67,
   "metadata": {},
   "outputs": [],
   "source": [
    "# Define callback to update Part 4\n",
    "@app.callback(\n",
    "    [Output(\"cytoscape\", \"elements\"),\n",
    "     Output('cytoscape', 'stylesheet')],\n",
    "    [Input(\"sector-filter-1\", \"value\"),\n",
    "     Input(\"skill-filter-1\", \"value\"),\n",
    "     Input('cytoscape', 'tapNodeData')]\n",
    ")\n",
    "def update_fig4_style(section, skill, selected_node):\n",
    "    return update_style(section, skill, selected_node)"
   ]
  },
  {
   "cell_type": "code",
   "execution_count": 68,
   "metadata": {},
   "outputs": [],
   "source": [
    "# Define callback to update Part 5\n",
    "@app.callback(\n",
    "    Output('state-dropdown', 'options'),\n",
    "    [Input('country-options-dropdown', 'value')]\n",
    ")\n",
    "def update_state_dropdown(selected_country):\n",
    "    if selected_country is None:\n",
    "        return []\n",
    "    state_options = [{'label': state, 'value': state} for state in linkedin_job_postings[linkedin_job_postings['search_country'] == selected_country]['search_city'].unique()]\n",
    "    return state_options\n",
    "\n",
    "# Define callback to update histogram based on selected country and state\n",
    "@app.callback(\n",
    "    Output('histogram', 'figure'),\n",
    "    [Input('country-options-dropdown', 'value'),\n",
    "     Input('state-dropdown', 'value')]\n",
    ")\n",
    "def update_fig5_histogram(selected_country, selected_state):\n",
    "    return update_histogram(selected_country, selected_state)"
   ]
  },
  {
   "cell_type": "code",
   "execution_count": 69,
   "metadata": {},
   "outputs": [],
   "source": [
    "# Define callback to update Part 6\n",
    "@app.callback(\n",
    "    Output('company-comparison-chart', 'figure'),\n",
    "    [Input('company-dropdown', 'value')]\n",
    ")\n",
    "def update_fig6_chart(company):\n",
    "    return update_chart(company)"
   ]
  },
  {
   "cell_type": "code",
   "execution_count": 70,
   "metadata": {},
   "outputs": [],
   "source": [
    "# Define callback to update Part 7\n",
    "@app.callback(\n",
    "    Output('aspect-comparison-chart', 'figure'),\n",
    "    [Input('country-dropdown', 'value'),\n",
    "     Input('aspect-dropdown', 'value')]\n",
    ")\n",
    "def update_comparison_chart_fig7(selected_country, selected_aspect):\n",
    "    return update_comparison_chart(selected_country, selected_aspect)"
   ]
  },
  {
   "cell_type": "code",
   "execution_count": 71,
   "metadata": {},
   "outputs": [],
   "source": [
    "# Define callback to update Part 8\n",
    "@app.callback(\n",
    "    Output(\"growth-line\", \"figure\"),\n",
    "    [Input(\"country-filter-2\", \"value\"),\n",
    "    Input(\"sector-filter-2\", \"value\")]\n",
    ")\n",
    "def update_fig8_output(country, section):\n",
    "    return update_output(country, section)"
   ]
  },
  {
   "cell_type": "code",
   "execution_count": 72,
   "metadata": {},
   "outputs": [],
   "source": [
    "# Define callback to update Part 9\n",
    "@app.callback(\n",
    "    [Output(\"filter-3\",\"options\"),\n",
    "    Output(\"geo\", \"figure\")],\n",
    "    [Input(\"i-s\", \"value\"),\n",
    "    Input(\"filter-3\", \"value\")]\n",
    ")\n",
    "def geo_fig9_update(isoption, sel):\n",
    "    return geo_update(isoption, sel)"
   ]
  },
  {
   "cell_type": "code",
   "execution_count": 73,
   "metadata": {},
   "outputs": [],
   "source": [
    "button_style = {\n",
    "    'background-color': '#FFFFFF',\n",
    "    'border': '1px solid #222222',\n",
    "    'border-radius': '8px',\n",
    "    'box-sizing': 'border-box',\n",
    "    'color': '#222222',\n",
    "    'cursor': 'pointer',\n",
    "    'display': 'inline-block',\n",
    "    'font-family': 'Circular, -apple-system, BlinkMacSystemFont, Roboto, \"Helvetica Neue\", sans-serif',\n",
    "    'font-size': '16px',\n",
    "    'font-weight': '600',\n",
    "    'line-height': '20px',\n",
    "    'margin': '10px',\n",
    "    'outline': 'none',\n",
    "    'padding': '13px 23px',\n",
    "    'position': 'relative',\n",
    "    'text-align': 'center',\n",
    "    'text-decoration': 'none',\n",
    "    'touch-action': 'manipulation',\n",
    "    'transition': 'box-shadow .2s, -ms-transform .1s, -webkit-transform .1s, transform .1s',\n",
    "    'user-select': 'none',\n",
    "    '-webkit-user-select': 'none',\n",
    "    'width': 'auto',\n",
    "    'height':'40px'\n",
    "}"
   ]
  },
  {
   "cell_type": "code",
   "execution_count": 74,
   "metadata": {},
   "outputs": [],
   "source": [
    "# Define app layout\n",
    "app.layout = html.Div([\n",
    "    html.Div([\n",
    "        dcc.Tabs([\n",
    "            dcc.Tab(label='Tab two', children=[\n",
    "\n",
    "                # fig2 Layout\n",
    "                html.Div(\n",
    "                    [\n",
    "                        html.Div(\n",
    "                            [\n",
    "                                html.H1(\n",
    "                                    children='Top 10 cities with highest jobs in each country',\n",
    "                                    style={\n",
    "                                        'textAlign': 'center',\n",
    "                                        'color': colors['title']\n",
    "                                    }\n",
    "                                ),\n",
    "                                dcc.Graph(figure=fig2)\n",
    "                            ],\n",
    "                            style={\n",
    "                                'margin-top': '10px',\n",
    "                                'margin-bottom': '10px'\n",
    "                            })\n",
    "\n",
    "                    ],\n",
    "                    style={\n",
    "                        'box-shadow': '10px 10px 10px 10px rgba(0,0,0,0.2)',\n",
    "                        'border-radius': '5px',\n",
    "                        'padding': '20px',\n",
    "                        'background-color': 'rgba(255, 255, 255, 1.0)',\n",
    "                        'height': '1200px',\n",
    "                        'margin-top': '10px',\n",
    "                        'margin-bottom': '10px'\n",
    "                    }),\n",
    "            ]),\n",
    "            dcc.Tab(label='Tab three', children=[\n",
    "                # fig1 Layoout\n",
    "                html.Div(\n",
    "                    [\n",
    "                        html.H1(\n",
    "                            children='Top companies based off your loaction and job title',\n",
    "                            style={\n",
    "                                'textAlign': 'center',\n",
    "                                'color': colors['title']\n",
    "                            }\n",
    "                        ),\n",
    "                        html.Div(children=[\n",
    "                            dcc.Dropdown(\n",
    "                                id='country-input',\n",
    "                                options=[{'label': i, 'value': i}\n",
    "                                         for i in linkedin_job_postings['search_country'].unique()],\n",
    "                                value='United States',\n",
    "                                style={'width': '300px', 'height': '30px'}\n",
    "                            ),\n",
    "                            html.Div([\n",
    "                                dcc.Input(\n",
    "                                    id='search-input',\n",
    "                                    type='text',\n",
    "                                    placeholder='Search for job titles...',\n",
    "                                    debounce=True,\n",
    "                                    style={'width': '300px', 'height': '25px', 'margin': '10px',\n",
    "                                           'padding': '5px', 'border': '1px solid #ccc'}\n",
    "                                ),\n",
    "                                html.Button('Search', id='search-button',\n",
    "                                            style=button_style, className='button-6')\n",
    "                            ])\n",
    "                        ], style={'display': 'flex', 'align-items': 'center', 'justify-content': 'center'}),\n",
    "                        html.Div([\n",
    "                            dcc.Graph(figure=fig1, id='bar-chart')\n",
    "                        ], style={'margin-top': '20px'}),\n",
    "\n",
    "                    ],\n",
    "                    style={\n",
    "                        'box-shadow': '10px 10px 10px 10px rgba(0,0,0,0.2)',\n",
    "                        'border-radius': '5px',\n",
    "                        'padding': '20px',\n",
    "                        'background-color': 'rgba(255, 255, 255, 1.0)',\n",
    "                        'height': '1200px',\n",
    "                        'margin-top': '10px',\n",
    "                        'margin-bottom': '10px'\n",
    "                    }\n",
    "                ),\n",
    "            ]),\n",
    "            dcc.Tab(label='Tab four', children=[\n",
    "                # fig3 Layout\n",
    "                html.Div(\n",
    "                    style={\n",
    "                        'box-shadow': '10px 10px 10px 10px rgba(0,0,0,0.2)',\n",
    "                        'border-radius': '5px',\n",
    "                        'padding': '20px',\n",
    "                        'background-color': 'rgba(255, 255, 255, 1.0)',\n",
    "                        'margin-top': '10px',\n",
    "                        'margin-bottom': '10px'\n",
    "                    }, children=[\n",
    "                        html.H1(\n",
    "                            children='Companies based off your likings',\n",
    "                            style={\n",
    "                                'textAlign': 'center',\n",
    "                                'color': colors['title']\n",
    "                            }\n",
    "                        ),\n",
    "                        dbc.Row([\n",
    "                            html.Label(\"Sector\", style={\n",
    "                                       'color': colors['text']}),\n",
    "                            dcc.Dropdown(\n",
    "                                id=\"sector-filter\",\n",
    "                                options=[{\"label\": s, \"value\": s}\n",
    "                                         for s in df_twc['sector'].dropna().unique()],\n",
    "                                value=None,\n",
    "                                multi=True,\n",
    "                                style={\n",
    "                                    \"width\": \"100%\",\n",
    "                                    \"height\": \"50%\",\n",
    "                                    \"backgroundColor\": colors['background'],\n",
    "                                    \"color\": \"#000\",\n",
    "                                    \"fontFamily\": \"sans-serif\"\n",
    "                                }\n",
    "                            ),\n",
    "                            html.Label(\"Features\", style={\n",
    "                                'color': colors['text']}),\n",
    "                            dcc.Dropdown(\n",
    "                                id=\"critique-filter\",\n",
    "                                options=[{\"label\": l, \"value\": l}\n",
    "                                         for l in union_HRF],\n",
    "                                value=None,\n",
    "                                multi=True,\n",
    "                                style={\n",
    "                                    \"width\": \"100%\",\n",
    "                                    \"height\": \"50%\",\n",
    "                                    \"backgroundColor\": colors['background'],\n",
    "                                    \"color\": \"#000\",\n",
    "                                    \"fontFamily\": \"sans-serif\"\n",
    "                                }\n",
    "                            ),\n",
    "                            dcc.Graph(id=\"fig1\")\n",
    "                        ])\n",
    "                    ]),\n",
    "            ]),\n",
    "            dcc.Tab(label='Tab five', children=[\n",
    "                # fig6 Layout\n",
    "                html.Div([\n",
    "                    html.H1(\n",
    "                        children='Job title distribution of your companies',\n",
    "                        style={\n",
    "                            'textAlign': 'center',\n",
    "                            'color': colors['title']\n",
    "                        }\n",
    "                    ),\n",
    "                    html.H3('Choose Company'),\n",
    "                    dcc.Dropdown(\n",
    "                        id='company-dropdown',\n",
    "                        options=[{'label': company, 'value': company}\n",
    "                                 for company in selected_company],\n",
    "                        value=selected_company[0],\n",
    "                    ),\n",
    "                    dcc.Graph(id='company-comparison-chart')\n",
    "                ],\n",
    "                    style={\n",
    "                    'box-shadow': '10px 10px 10px 10px rgba(0,0,0,0.2)',\n",
    "                    'border-radius': '5px',\n",
    "                    'padding': '20px',\n",
    "                    'background-color': 'rgba(255, 255, 255, 1.0)',\n",
    "                    'margin-top': '10px',\n",
    "                    'margin-bottom': '10px'\n",
    "                }),\n",
    "            ]),\n",
    "            dcc.Tab(label='Tab five', children=[\n",
    "                # fig5 Layout\n",
    "                html.Div([\n",
    "                    html.H1(\n",
    "                        children='Top 20 job positions searched in the city',\n",
    "                        style={\n",
    "                            'textAlign': 'center',\n",
    "                            'color': colors['title']\n",
    "                        }\n",
    "                    ),\n",
    "                    html.Div(children=[\n",
    "                        html.Div(\"Select a country:\", style={\n",
    "                                 'margin-top': '35px', 'font-weight': 'bold', 'font-size': '20px'}),\n",
    "                        dcc.Dropdown(\n",
    "                            id='country-options-dropdown',\n",
    "                            options=country_options,\n",
    "                            value=default_country,\n",
    "                            style={'width': '300px', 'height': '30px',\n",
    "                                   'margin': '10px', 'padding': '5px', },\n",
    "                            placeholder='Select a country'\n",
    "                        ),\n",
    "                        html.Div(\"Select a city:\", style={\n",
    "                                 'margin-left': '40px', 'margin-top': '35px', 'font-weight': 'bold', 'font-size': '20px'}),\n",
    "                        dcc.Dropdown(\n",
    "                            id='state-dropdown',\n",
    "                            value=default_city,\n",
    "                            style={'width': '300px', 'height': '30px',\n",
    "                                   'margin': '10px', 'padding': '5px', },\n",
    "                            placeholder='Select a state'\n",
    "                        )\n",
    "                    ], style={'margin-bottom': '20px', 'display': 'flex', 'align-items': 'center', 'justify-content': 'center'}),\n",
    "\n",
    "                    dcc.Graph(id='histogram', style={'margin-top': '10px', })\n",
    "                ],\n",
    "                    style={\n",
    "                        'box-shadow': '10px 10px 10px 10px rgba(0,0,0,0.2)',\n",
    "                        'border-radius': '5px',\n",
    "                        'padding': '20px',\n",
    "                        'background-color': 'rgba(255, 255, 255, 1.0)',\n",
    "                        'margin-top': '10px',\n",
    "                        'margin-bottom': '10px'\n",
    "                }\n",
    "                ),\n",
    "            ]),\n",
    "            dcc.Tab(label='Tab five', children=[\n",
    "                # fig4 Layout\n",
    "                html.Div(\n",
    "                    style={\n",
    "                        'box-shadow': '10px 10px 10px 10px rgba(0,0,0,0.2)',\n",
    "                        'border-radius': '5px',\n",
    "                        'padding': '20px',\n",
    "                        'background-color': 'rgba(255, 255, 255, 1.0)',\n",
    "                        'margin-top': '10px',\n",
    "                        'margin-bottom': '10px'\n",
    "                    }, children=[\n",
    "                        html.H1(\n",
    "                            children='Industry Skill Needs',\n",
    "                            style={\n",
    "                                'textAlign': 'center',\n",
    "                                'color': colors['title']\n",
    "                            }\n",
    "                        ),\n",
    "\n",
    "                        dbc.Row([\n",
    "                            html.Div([\n",
    "                                html.Label(\"Sector\", style={\n",
    "                                    'color': colors['text']}),\n",
    "                                dcc.Dropdown(\n",
    "                                    id=\"sector-filter-1\",\n",
    "                                    options=[{\"label\": s, \"value\": s}\n",
    "                                             for s in df_ldd['isic_section_name'].dropna().unique()],\n",
    "                                    value='Information and communication',\n",
    "                                    style={\n",
    "                                        \"width\": \"75%\",  # set the width of the dropdown to 50% of its container\n",
    "                                        \"height\": \"50%\",  # set the height of each dropdown item to 40 pixels\n",
    "                                        # set the background color of the dropdown to dark gray\n",
    "                                        \"backgroundColor\": colors['background'],\n",
    "                                        \"color\": \"#000\",  # set the font color of the dropdown to light gray\n",
    "                                        \"fontFamily\": \"sans-serif\"  # set the font family of the dropdown to sans-serif\n",
    "                                    }\n",
    "                                ),\n",
    "                                html.Label(\"Skills\", style={\n",
    "                                    'color': colors['text']}),\n",
    "                                dcc.Dropdown(\n",
    "                                    id=\"skill-filter-1\",\n",
    "                                    options=[{\"label\": s, \"value\": s}\n",
    "                                             for s in df_ldd['skill_group_name'].dropna().unique()],\n",
    "                                    value=None,\n",
    "                                    multi=True,\n",
    "                                    style={\n",
    "                                        \"width\": \"75%\",  # set the width of the dropdown to 50% of its container\n",
    "                                        \"height\": \"50%\",  # set the height of each dropdown item to 40 pixels\n",
    "                                        # set the background color of the dropdown to dark gray\n",
    "                                        \"backgroundColor\": colors['background'],\n",
    "                                        \"color\": \"#000\",  # set the font color of the dropdown to light gray\n",
    "                                        \"fontFamily\": \"sans-serif\"  # set the font family of the dropdown to sans-serif\n",
    "                                    }\n",
    "                                )]),\n",
    "                            cyto.Cytoscape(\n",
    "                                id='cytoscape',\n",
    "                                layout={'name': 'circle'},\n",
    "                                style={'height': '700px', 'width': '100%',\n",
    "                                       'label': 'data(label)'},\n",
    "                                stylesheet=def_stylesheet\n",
    "                            )\n",
    "                        ])\n",
    "                    ]),\n",
    "            ]),\n",
    "\n",
    "            dcc.Tab(label='Tab five', children=[\n",
    "                # fig7 Layout\n",
    "                html.Div([\n",
    "                    html.H1(children=\"Country Evaluation Dashboard\", style={\n",
    "                            'textAlign': 'center',\n",
    "                            'color': colors['title']\n",
    "                            }),\n",
    "                         html.Div(children=[\n",
    "                             html.Div(\"Select a country:\", style={\n",
    "                                      'margin-top': '35px', 'font-weight': 'bold', 'font-size': '20px'}),\n",
    "                             dcc.Dropdown(id='country-dropdown', options=[{'label': country, 'value': country}\n",
    "                                          for country in countries], value=countries[0], style={'width': '300px', 'height': '30px',\n",
    "                                   'margin': '10px', 'padding': '5px', },),\n",
    "                             html.Div(\"Select criteria:\", style={\n",
    "                                      'margin-left': '10px', 'margin-top': '35px', 'font-weight': 'bold', 'font-size': '20px'}),\n",
    "                             dcc.Dropdown(id='aspect-dropdown', options=[{'label': aspect, 'value': aspect}\n",
    "                                          for aspect in selected_aspects], value=selected_aspects[0], style={'width': '300px', 'height': '30px',\n",
    "                                   'margin': '10px', 'padding': '5px', },)\n",
    "\n",
    "\n",
    "                         ], style={'margin-bottom': '20px', 'display': 'flex', 'align-items': 'center', 'justify-content': 'center'}),\n",
    "\n",
    "                    dcc.Graph(id='aspect-comparison-chart')\n",
    "                         ],\n",
    "                    style={\n",
    "                    'box-shadow': '10px 10px 10px 10px rgba(0,0,0,0.2)',\n",
    "                    'border-radius': '5px',\n",
    "                    'padding': '20px',\n",
    "                    'margin-bottom': '50px',\n",
    "                    'margin-top': '10px',\n",
    "                })\n",
    "            ]),\n",
    "\n",
    "            dcc.Tab(label='Tab five', children=[\n",
    "                # fig8 Layout\n",
    "                html.Div(style={'box-shadow': '10px 10px 10px 10px rgba(0,0,0,0.2)', 'backgroundColor': colors['background'], 'margin': 10, 'padding': 20}, children=[\n",
    "                    html.H1(\n",
    "                        children='Industry Growth Rates',\n",
    "                        style={\n",
    "                            'textAlign': 'center',\n",
    "                            'color': colors['title']\n",
    "                        }\n",
    "                    ),\n",
    "                    dbc.Row([\n",
    "                        html.Label(\"Country\", style={'color': colors['text']}),\n",
    "                        dcc.Dropdown(\n",
    "                            id=\"country-filter-2\",\n",
    "                            options=[{\"label\": s, \"value\": s}\n",
    "                                     for s in df_growth['country_name'].dropna().unique()],\n",
    "                            value='India',\n",
    "                            style={\n",
    "                                \"width\": \"75%\",  # set the width of the dropdown to 50% of its container\n",
    "                                \"height\": \"50%\",  # set the height of each dropdown item to 40 pixels\n",
    "                                # set the background color of the dropdown to dark gray\n",
    "                                \"backgroundColor\": colors['background'],\n",
    "                                \"color\": \"#000\",  # set the font color of the dropdown to light gray\n",
    "                                \"fontFamily\": \"sans-serif\"  # set the font family of the dropdown to sans-serif\n",
    "                            }\n",
    "                        ),\n",
    "                        html.Label(\"Sector\", style={'color': colors['text']}),\n",
    "                        dcc.Dropdown(\n",
    "                            id=\"sector-filter-2\",\n",
    "                            options=[{\"label\": s, \"value\": s}\n",
    "                                     for s in df_growth['isic_section_name'].dropna().unique()],\n",
    "                            value='Information and communication',\n",
    "                            style={\n",
    "                                \"width\": \"75%\",  # set the width of the dropdown to 50% of its container\n",
    "                                \"height\": \"50%\",  # set the height of each dropdown item to 40 pixels\n",
    "                                # set the background color of the dropdown to dark gray\n",
    "                                \"backgroundColor\": colors['background'],\n",
    "                                \"color\": \"#000\",  # set the font color of the dropdown to light gray\n",
    "                                \"fontFamily\": \"sans-serif\"  # set the font family of the dropdown to sans-serif\n",
    "                            }\n",
    "                        ),\n",
    "                        dcc.Graph(id=\"growth-line\")\n",
    "\n",
    "                    ])\n",
    "                ])\n",
    "            ]),\n",
    "\n",
    "            dcc.Tab(label='Tab five', children=[\n",
    "                # fig9 Layout\n",
    "                html.Div(style={'box-shadow': '10px 10px 10px 10px rgba(0,0,0,0.2)', 'backgroundColor': colors['background'], 'margin': 10, 'padding': 20}, children=[\n",
    "                    html.H1(\n",
    "                        children='Talent Migration',\n",
    "                        style={\n",
    "                            'textAlign': 'center',\n",
    "                            'color': colors['title']\n",
    "                        }\n",
    "                    ),\n",
    "\n",
    "                    dbc.Row([\n",
    "                        dcc.RadioItems(\n",
    "                            id=\"i-s\",\n",
    "                            inline=True,\n",
    "                            options=[\"industry migration\", \"skill migration\"],\n",
    "                            value=\"industry migration\",\n",
    "                            style={\n",
    "                                \"color\": colors['text'],\n",
    "                                'font-size': '20px'  # set the font family of the dropdown to sans-serif\n",
    "                            }\n",
    "                        ),\n",
    "                        html.Label(\"Select from options\", style={\n",
    "                                   'color': colors['text']}),\n",
    "                        dcc.Dropdown(\n",
    "                            id=\"filter-3\",\n",
    "                            #                     options=[{\"label\": s, \"value\": s}\n",
    "                            #                              for s in df_growth['isic_section_name'].dropna().unique()],\n",
    "                            value=None,\n",
    "                            style={\n",
    "                                \"width\": \"75%\",  # set the width of the dropdown to 50% of its container\n",
    "                                \"height\": \"50%\",  # set the height of each dropdown item to 40 pixels\n",
    "                                # set the background color of the dropdown to dark gray\n",
    "                                \"backgroundColor\": colors['background'],\n",
    "                                \"color\": \"#000\",  # set the font color of the dropdown to light gray\n",
    "                                \"fontFamily\": \"sans-serif\",  # set the font family of the dropdown to sans-serif\n",
    "                                \"padding\": \"20\",\n",
    "                            }\n",
    "                        ),\n",
    "                        dcc.Graph(id=\"geo\")\n",
    "\n",
    "                    ])\n",
    "                ])\n",
    "            ]),\n",
    "        ]),\n",
    "    ], style={\n",
    "        'align-items': 'center',\n",
    "        'justify-content': 'center',\n",
    "        'width': '90%',\n",
    "        'margin-left': '5%',\n",
    "        'margin-right': '5%',\n",
    "    })\n",
    "],\n",
    "    style={\n",
    "    'margin': '0',\n",
    "    'padding': '0',\n",
    "    'box-sizing': 'border-box',\n",
    "    'width': '100%',\n",
    "    'height': '100%',\n",
    "    'background-image': 'url(../assets/images/background.jpg)',\n",
    "    'background-size': 'cover',\n",
    "    'background-repeat': 'no-repeat',\n",
    "    'background-attachment': 'fixed'\n",
    "})\n"
   ]
  },
  {
   "cell_type": "code",
   "execution_count": 75,
   "metadata": {},
   "outputs": [
    {
     "data": {
      "text/html": [
       "\n",
       "        <iframe\n",
       "            width=\"100%\"\n",
       "            height=\"650\"\n",
       "            src=\"http://127.0.0.1:8080/\"\n",
       "            frameborder=\"0\"\n",
       "            allowfullscreen\n",
       "            \n",
       "        ></iframe>\n",
       "        "
      ],
      "text/plain": [
       "<IPython.lib.display.IFrame at 0x213ab276c10>"
      ]
     },
     "metadata": {},
     "output_type": "display_data"
    },
    {
     "name": "stdout",
     "output_type": "stream",
     "text": [
      "---------------------------------------------------------------------------\n",
      "NotFound                                  Traceback (most recent call last)\n",
      "NotFound: 404 Not Found: The requested URL was not found on the server. If you entered the URL manually please check your spelling and try again.\n",
      "\n",
      "---------------------------------------------------------------------------\n",
      "NotFound                                  Traceback (most recent call last)\n",
      "NotFound: 404 Not Found: The requested URL was not found on the server. If you entered the URL manually please check your spelling and try again.\n",
      "\n"
     ]
    },
    {
     "name": "stderr",
     "output_type": "stream",
     "text": [
      "C:\\Users\\Dell\\AppData\\Local\\Temp/ipykernel_30540/2999098325.py:23: UserWarning:\n",
      "\n",
      "Boolean Series key will be reindexed to match DataFrame index.\n",
      "\n",
      "C:\\Users\\Dell\\AppData\\Local\\Temp/ipykernel_30540/2999098325.py:23: UserWarning:\n",
      "\n",
      "Boolean Series key will be reindexed to match DataFrame index.\n",
      "\n",
      "C:\\Users\\Dell\\AppData\\Local\\Temp/ipykernel_30540/2999098325.py:23: UserWarning:\n",
      "\n",
      "Boolean Series key will be reindexed to match DataFrame index.\n",
      "\n"
     ]
    },
    {
     "name": "stdout",
     "output_type": "stream",
     "text": [
      "---------------------------------------------------------------------------\n",
      "NotFound                                  Traceback (most recent call last)\n",
      "NotFound: 404 Not Found: The requested URL was not found on the server. If you entered the URL manually please check your spelling and try again.\n",
      "\n",
      "---------------------------------------------------------------------------\n",
      "IndexError                                Traceback (most recent call last)\n",
      "~\\AppData\\Local\\Temp/ipykernel_30540/3482268686.py in update_comparison_chart_fig7(\n",
      "    selected_country='Algeria',\n",
      "    selected_aspect='Life expectancy at birth total (years)'\n",
      ")\n",
      "      6 )\n",
      "      7 def update_comparison_chart_fig7(selected_country, selected_aspect):\n",
      "----> 8     return update_comparison_chart(selected_country, selected_aspect)\n",
      "        global update_comparison_chart = <function update_comparison_chart at 0x00000213AA36D550>\n",
      "        selected_country = 'Algeria'\n",
      "        selected_aspect = 'Life expectancy at birth total (years)'\n",
      "\n",
      "~\\AppData\\Local\\Temp/ipykernel_30540/84329889.py in update_comparison_chart(\n",
      "    selected_country='Algeria',\n",
      "    selected_aspect='Life expectancy at birth total (years)'\n",
      ")\n",
      "     15     # Extract years and corresponding values for the selected aspect (from '1995 [YR1995]' to '2016 [YR2016]')\n",
      "     16     years = [f\"{year} [YR{year}]\" for year in range(1995, 2017)]\n",
      "---> 17     values = filtered_data[years].values.tolist()[0]  # Assuming only one row matches\n",
      "        values = undefined\n",
      "        filtered_data = Empty DataFrame\n",
      "Columns: [Country Name, Country Code, Series Name, Series Code, 1990 [YR1990], 1991 [YR1991], 1992 [YR1992], 1993 [YR1993], 1994 [YR1994], 1995 [YR1995], 1996 [YR1996], 1997 [YR1997], 1998 [YR1998], 1999 [YR1999], 2000 [YR2000], 2001 [YR2001], 2002 [YR2002], 2003 [YR2003], 2004 [YR2004], 2005 [YR2005], 2006 [YR2006], 2007 [YR2007], 2008 [YR2008], 2009 [YR2009], 2010 [YR2010], 2011 [YR2011], 2012 [YR2012], 2013 [YR2013], 2014 [YR2014], 2015 [YR2015], 2016 [YR2016]]\n",
      "Index: []\n",
      "\n",
      "[0 rows x 31 columns]\n",
      "        years.values.tolist = undefined\n",
      "     18 \n",
      "     19     # Create line plot for the selected aspect\n",
      "\n",
      "IndexError: list index out of range\n",
      "\n"
     ]
    }
   ],
   "source": [
    "Timer(1, open_browser).start()\n",
    "app.run_server(debug=True, port=8080)"
   ]
  },
  {
   "cell_type": "code",
   "execution_count": null,
   "metadata": {},
   "outputs": [],
   "source": []
  }
 ],
 "metadata": {
  "kernelspec": {
   "display_name": "Python 3",
   "language": "python",
   "name": "python3"
  },
  "language_info": {
   "codemirror_mode": {
    "name": "ipython",
    "version": 3
   },
   "file_extension": ".py",
   "mimetype": "text/x-python",
   "name": "python",
   "nbconvert_exporter": "python",
   "pygments_lexer": "ipython3",
   "version": "3.8.0"
  }
 },
 "nbformat": 4,
 "nbformat_minor": 2
}
