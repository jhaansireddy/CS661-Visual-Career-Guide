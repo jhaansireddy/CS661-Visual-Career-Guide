{
 "cells": [
  {
   "cell_type": "code",
   "execution_count": 1,
   "metadata": {},
   "outputs": [],
   "source": [
    "import numpy as np\n",
    "import pandas as pd\n",
    "import matplotlib.pyplot as plt\n",
    "%matplotlib inline\n",
    "import seaborn as sns\n",
    "import datetime\n",
    "import plotly.express as px\n",
    "import plotly.graph_objects as go\n",
    "from plotly.subplots import make_subplots\n",
    "from ipywidgets import widgets, Layout\n",
    "from IPython.display import display\n",
    "from dash import Dash, dcc, html, Input, Output\n",
    "import os\n",
    "from threading import Timer\n",
    "import webbrowser\n",
    "import dash_bootstrap_components as dbc\n",
    "import dash_cytoscape as cyto\n",
    "import re\n",
    "from functools import reduce"
   ]
  },
  {
   "cell_type": "code",
   "execution_count": 2,
   "metadata": {},
   "outputs": [],
   "source": [
    "import warnings\n",
    "warnings.simplefilter(action=\"ignore\",category=FutureWarning)"
   ]
  },
  {
   "cell_type": "code",
   "execution_count": 3,
   "metadata": {},
   "outputs": [],
   "source": [
    "def open_browser():\n",
    "    if not os.environ.get(\"WERKZEUG_RUN_MAIN\"):\n",
    "        webbrowser.open_new('http://127.0.0.1:8080/')"
   ]
  },
  {
   "cell_type": "code",
   "execution_count": 4,
   "metadata": {},
   "outputs": [],
   "source": [
    "linkedin_job_postings=pd.read_csv(\"..\\Data\\linkedin_jobs_and_skills\\linkedin_job_postings_cleaned.csv\")\n",
    "df_twc = pd.read_csv('..\\Data\\Top_Worlds_Companies\\companies.csv')\n",
    "df_ldd = pd.read_excel('..\\Data\\LinkedIn_DigitalData\\public_use-industry-skills-needs.xlsx', sheet_name=['Industry Skills Needs'])['Industry Skills Needs']"
   ]
  },
  {
   "cell_type": "markdown",
   "metadata": {},
   "source": [
    "## Part 1"
   ]
  },
  {
   "cell_type": "code",
   "execution_count": 5,
   "metadata": {},
   "outputs": [],
   "source": [
    "# Function to identify top hiring companies for a specific job position\n",
    "def top_hiring_companies(jobs_df, country, top_n=20):\n",
    "    \n",
    "    # Filter jobs by country\n",
    "    jobs_df = jobs_df[jobs_df['search_country'] == country]\n",
    "\n",
    "    # Count occurrences of each company\n",
    "    company_counts = jobs_df['company'].value_counts().head(top_n)\n",
    "    \n",
    "    return company_counts\n",
    "\n",
    "# Create initial plot\n",
    "default_job_position = ''\n",
    "default_country = 'United States'\n",
    "initial_jobs_df = linkedin_job_postings[linkedin_job_postings['job_title'].str.contains(default_job_position.lower(), case=False)]\n",
    "top_companies = top_hiring_companies(initial_jobs_df, default_country)\n",
    "\n",
    "fig1 = go.FigureWidget(\n",
    "    data=[\n",
    "        go.Bar(\n",
    "            y=top_companies.index, \n",
    "            x=top_companies.values,\n",
    "            text=top_companies.values,\n",
    "            orientation='h',\n",
    "        )\n",
    "    ]\n",
    ").update_layout(\n",
    "    title=f\"Top Companies hiring in \\'{default_country}\\'\",\n",
    "    yaxis_title=\"Company\",\n",
    "    xaxis_title=\"Number of Job Postings\",\n",
    "    yaxis=dict(autorange=\"reversed\"),\n",
    "    height=1000,\n",
    ")\n",
    "\n",
    "# Function to update plot based on filtered job position\n",
    "def update_fig1_plot(search_value, country_value):\n",
    "    if search_value:\n",
    "        filtered_jobs_df = linkedin_job_postings[linkedin_job_postings['job_title'].str.contains(search_value.lower(), case=False)]\n",
    "        if len(filtered_jobs_df) > 0:\n",
    "            top_companies = top_hiring_companies(filtered_jobs_df, country_value)\n",
    "            fig1.data[0].y = [(i[:30] + '..') if len(i) > 30 else i for i in top_companies.index]\n",
    "            fig1.data[0].x = top_companies.values\n",
    "            fig1.update_layout(\n",
    "                title=f\"Top companies hiring for \\'{search_value}\\' in \\'{country_value}\\'\",\n",
    "                yaxis=dict(autorange=\"reversed\"),\n",
    "            )\n",
    "        else:\n",
    "            fig1.data[0].y = []\n",
    "            fig1.data[0].x = []\n",
    "            fig1.update_layout(title=f\"No matching job positions for {search_value}\")\n",
    "    else:\n",
    "        top_companies = top_hiring_companies(linkedin_job_postings, country_value)\n",
    "        fig1.data[0].y = [(i[:30] + '..') if len(i) > 30 else i for i in top_companies.index]\n",
    "        fig1.data[0].x = top_companies.values\n",
    "        fig1.update_layout(\n",
    "            title=f\"Top companies hiring in \\'{country_value}\\'\",\n",
    "            yaxis=dict(autorange=\"reversed\"),\n",
    "        )"
   ]
  },
  {
   "cell_type": "markdown",
   "metadata": {},
   "source": [
    "## Part 2"
   ]
  },
  {
   "cell_type": "code",
   "execution_count": 6,
   "metadata": {},
   "outputs": [
    {
     "data": {
      "application/vnd.plotly.v1+json": {
       "config": {
        "plotlyServerURL": "https://plot.ly"
       },
       "data": [
        {
         "domain": {
          "x": [
           0,
           0.4
          ],
          "y": [
           0.55,
           1
          ]
         },
         "insidetextorientation": "horizontal",
         "labels": [
          "New South Wales",
          "Redcliffe",
          "Victoria",
          "Perth",
          "Deception Bay",
          "Sydney",
          "Parramatta",
          "Western Australia",
          "Queensland",
          "Penrith"
         ],
         "marker": {
          "colors": [
           "rgb(239,85,59)",
           "rgb(99,110,250)",
           "rgb(254,203,82)",
           "rgb(255,151,255)",
           "rgb(182,232,128)",
           "rgb(255,102,146)",
           "rgb(25,211,243)",
           "rgb(255,161,90)",
           "rgb(171,99,250)",
           "rgb(0,204,150)"
          ]
         },
         "pull": [
          0.1879370254386341,
          0.18429067822058257,
          0.17708378018961005,
          0.10630174595684441,
          0.09107288404615847,
          0.06627772296340784,
          0.06082965123761314,
          0.0442280468448372,
          0.04379906481918407,
          0.038179400283128134
         ],
         "showlegend": false,
         "textinfo": "label+value",
         "type": "pie",
         "values": [
          4381,
          4296,
          4128,
          2478,
          2123,
          1545,
          1418,
          1031,
          1021,
          890
         ]
        },
        {
         "domain": {
          "x": [
           0.6000000000000001,
           1
          ],
          "y": [
           0.55,
           1
          ]
         },
         "insidetextorientation": "horizontal",
         "labels": [
          "Sarnia-Clearwater",
          "Etobicoke",
          "Côte-Saint-Luc",
          "New Westminster",
          "Alberta",
          "Burlington",
          "Calgary",
          "Ottawa",
          "North York",
          "Saskatchewan"
         ],
         "marker": {
          "colors": [
           "rgb(25,211,243)",
           "rgb(254,203,82)",
           "rgb(0,204,150)",
           "rgb(171,99,250)",
           "rgb(255,102,146)",
           "rgb(99,110,250)",
           "rgb(255,151,255)",
           "rgb(182,232,128)",
           "rgb(255,161,90)",
           "rgb(239,85,59)"
          ]
         },
         "pull": [
          0.26239270743229753,
          0.13523853882493844,
          0.12322842504491317,
          0.1105862000133076,
          0.07824871914299023,
          0.06587264621731319,
          0.06504092088628652,
          0.061946902654867256,
          0.05642424645685009,
          0.041020693326235945
         ],
         "showlegend": false,
         "textinfo": "label+value",
         "type": "pie",
         "values": [
          7887,
          4065,
          3704,
          3324,
          2352,
          1980,
          1955,
          1862,
          1696,
          1233
         ]
        },
        {
         "domain": {
          "x": [
           0,
           0.4
          ],
          "y": [
           0,
           0.45
          ]
         },
         "insidetextorientation": "horizontal",
         "labels": [
          "Greater London",
          "High Wycombe",
          "Slough",
          "Crawley",
          "Blackburn",
          "South Hampshire",
          "Worcester",
          "York",
          "Warrington",
          "Northampton"
         ],
         "marker": {
          "colors": [
           "rgb(0,204,150)",
           "rgb(171,99,250)",
           "rgb(255,151,255)",
           "rgb(99,110,250)",
           "rgb(239,85,59)",
           "rgb(255,161,90)",
           "rgb(182,232,128)",
           "rgb(255,102,146)",
           "rgb(25,211,243)",
           "rgb(254,203,82)"
          ]
         },
         "pull": [
          0.2016221725835484,
          0.11791112749669276,
          0.11769425950423977,
          0.09444601071327882,
          0.09132311162195572,
          0.07993754201817353,
          0.0775736809004359,
          0.07633753334345383,
          0.07562186896835896,
          0.06753269284986228
         ],
         "showlegend": false,
         "textinfo": "label+value",
         "type": "pie",
         "values": [
          9297,
          5437,
          5427,
          4355,
          4211,
          3686,
          3577,
          3520,
          3487,
          3114
         ]
        },
        {
         "domain": {
          "x": [
           0.6000000000000001,
           1
          ],
          "y": [
           0,
           0.45
          ]
         },
         "insidetextorientation": "horizontal",
         "labels": [
          "Baytown",
          "North Carolina",
          "Garland",
          "Austin",
          "South Carolina",
          "Atlanta",
          "Indiana",
          "Alabama",
          "Hollywood",
          "Norristown"
         ],
         "marker": {
          "colors": [
           "rgb(239,85,59)",
           "rgb(255,102,146)",
           "rgb(255,151,255)",
           "rgb(255,161,90)",
           "rgb(171,99,250)",
           "rgb(182,232,128)",
           "rgb(254,203,82)",
           "rgb(0,204,150)",
           "rgb(25,211,243)",
           "rgb(99,110,250)"
          ]
         },
         "pull": [
          0.11867208160181338,
          0.11823526633925198,
          0.11497686059690215,
          0.10503636191915376,
          0.09900358896864375,
          0.09050340007555724,
          0.0897124102757839,
          0.08942907064601435,
          0.08733944087646392,
          0.08709151870041557
         ],
         "showlegend": false,
         "textinfo": "label+value",
         "type": "pie",
         "values": [
          10052,
          10015,
          9739,
          8897,
          8386,
          7666,
          7599,
          7575,
          7398,
          7377
         ]
        }
       ],
       "layout": {
        "annotations": [
         {
          "font": {
           "size": 16
          },
          "showarrow": false,
          "text": "Top 10 cities with highest jobs in Australia",
          "x": 0.2,
          "xanchor": "center",
          "xref": "paper",
          "y": 1,
          "yanchor": "bottom",
          "yref": "paper"
         },
         {
          "font": {
           "size": 16
          },
          "showarrow": false,
          "text": "Top 10 cities with highest jobs in Canada",
          "x": 0.8,
          "xanchor": "center",
          "xref": "paper",
          "y": 1,
          "yanchor": "bottom",
          "yref": "paper"
         },
         {
          "font": {
           "size": 16
          },
          "showarrow": false,
          "text": "Top 10 cities with highest jobs in United Kingdom",
          "x": 0.2,
          "xanchor": "center",
          "xref": "paper",
          "y": 0.45,
          "yanchor": "bottom",
          "yref": "paper"
         },
         {
          "font": {
           "size": 16
          },
          "showarrow": false,
          "text": "Top 10 cities with highest jobs in United States",
          "x": 0.8,
          "xanchor": "center",
          "xref": "paper",
          "y": 0.45,
          "yanchor": "bottom",
          "yref": "paper"
         }
        ],
        "height": 1200,
        "template": {
         "data": {
          "bar": [
           {
            "error_x": {
             "color": "#2a3f5f"
            },
            "error_y": {
             "color": "#2a3f5f"
            },
            "marker": {
             "line": {
              "color": "#E5ECF6",
              "width": 0.5
             },
             "pattern": {
              "fillmode": "overlay",
              "size": 10,
              "solidity": 0.2
             }
            },
            "type": "bar"
           }
          ],
          "barpolar": [
           {
            "marker": {
             "line": {
              "color": "#E5ECF6",
              "width": 0.5
             },
             "pattern": {
              "fillmode": "overlay",
              "size": 10,
              "solidity": 0.2
             }
            },
            "type": "barpolar"
           }
          ],
          "carpet": [
           {
            "aaxis": {
             "endlinecolor": "#2a3f5f",
             "gridcolor": "white",
             "linecolor": "white",
             "minorgridcolor": "white",
             "startlinecolor": "#2a3f5f"
            },
            "baxis": {
             "endlinecolor": "#2a3f5f",
             "gridcolor": "white",
             "linecolor": "white",
             "minorgridcolor": "white",
             "startlinecolor": "#2a3f5f"
            },
            "type": "carpet"
           }
          ],
          "choropleth": [
           {
            "colorbar": {
             "outlinewidth": 0,
             "ticks": ""
            },
            "type": "choropleth"
           }
          ],
          "contour": [
           {
            "colorbar": {
             "outlinewidth": 0,
             "ticks": ""
            },
            "colorscale": [
             [
              0,
              "#0d0887"
             ],
             [
              0.1111111111111111,
              "#46039f"
             ],
             [
              0.2222222222222222,
              "#7201a8"
             ],
             [
              0.3333333333333333,
              "#9c179e"
             ],
             [
              0.4444444444444444,
              "#bd3786"
             ],
             [
              0.5555555555555556,
              "#d8576b"
             ],
             [
              0.6666666666666666,
              "#ed7953"
             ],
             [
              0.7777777777777778,
              "#fb9f3a"
             ],
             [
              0.8888888888888888,
              "#fdca26"
             ],
             [
              1,
              "#f0f921"
             ]
            ],
            "type": "contour"
           }
          ],
          "contourcarpet": [
           {
            "colorbar": {
             "outlinewidth": 0,
             "ticks": ""
            },
            "type": "contourcarpet"
           }
          ],
          "heatmap": [
           {
            "colorbar": {
             "outlinewidth": 0,
             "ticks": ""
            },
            "colorscale": [
             [
              0,
              "#0d0887"
             ],
             [
              0.1111111111111111,
              "#46039f"
             ],
             [
              0.2222222222222222,
              "#7201a8"
             ],
             [
              0.3333333333333333,
              "#9c179e"
             ],
             [
              0.4444444444444444,
              "#bd3786"
             ],
             [
              0.5555555555555556,
              "#d8576b"
             ],
             [
              0.6666666666666666,
              "#ed7953"
             ],
             [
              0.7777777777777778,
              "#fb9f3a"
             ],
             [
              0.8888888888888888,
              "#fdca26"
             ],
             [
              1,
              "#f0f921"
             ]
            ],
            "type": "heatmap"
           }
          ],
          "heatmapgl": [
           {
            "colorbar": {
             "outlinewidth": 0,
             "ticks": ""
            },
            "colorscale": [
             [
              0,
              "#0d0887"
             ],
             [
              0.1111111111111111,
              "#46039f"
             ],
             [
              0.2222222222222222,
              "#7201a8"
             ],
             [
              0.3333333333333333,
              "#9c179e"
             ],
             [
              0.4444444444444444,
              "#bd3786"
             ],
             [
              0.5555555555555556,
              "#d8576b"
             ],
             [
              0.6666666666666666,
              "#ed7953"
             ],
             [
              0.7777777777777778,
              "#fb9f3a"
             ],
             [
              0.8888888888888888,
              "#fdca26"
             ],
             [
              1,
              "#f0f921"
             ]
            ],
            "type": "heatmapgl"
           }
          ],
          "histogram": [
           {
            "marker": {
             "pattern": {
              "fillmode": "overlay",
              "size": 10,
              "solidity": 0.2
             }
            },
            "type": "histogram"
           }
          ],
          "histogram2d": [
           {
            "colorbar": {
             "outlinewidth": 0,
             "ticks": ""
            },
            "colorscale": [
             [
              0,
              "#0d0887"
             ],
             [
              0.1111111111111111,
              "#46039f"
             ],
             [
              0.2222222222222222,
              "#7201a8"
             ],
             [
              0.3333333333333333,
              "#9c179e"
             ],
             [
              0.4444444444444444,
              "#bd3786"
             ],
             [
              0.5555555555555556,
              "#d8576b"
             ],
             [
              0.6666666666666666,
              "#ed7953"
             ],
             [
              0.7777777777777778,
              "#fb9f3a"
             ],
             [
              0.8888888888888888,
              "#fdca26"
             ],
             [
              1,
              "#f0f921"
             ]
            ],
            "type": "histogram2d"
           }
          ],
          "histogram2dcontour": [
           {
            "colorbar": {
             "outlinewidth": 0,
             "ticks": ""
            },
            "colorscale": [
             [
              0,
              "#0d0887"
             ],
             [
              0.1111111111111111,
              "#46039f"
             ],
             [
              0.2222222222222222,
              "#7201a8"
             ],
             [
              0.3333333333333333,
              "#9c179e"
             ],
             [
              0.4444444444444444,
              "#bd3786"
             ],
             [
              0.5555555555555556,
              "#d8576b"
             ],
             [
              0.6666666666666666,
              "#ed7953"
             ],
             [
              0.7777777777777778,
              "#fb9f3a"
             ],
             [
              0.8888888888888888,
              "#fdca26"
             ],
             [
              1,
              "#f0f921"
             ]
            ],
            "type": "histogram2dcontour"
           }
          ],
          "mesh3d": [
           {
            "colorbar": {
             "outlinewidth": 0,
             "ticks": ""
            },
            "type": "mesh3d"
           }
          ],
          "parcoords": [
           {
            "line": {
             "colorbar": {
              "outlinewidth": 0,
              "ticks": ""
             }
            },
            "type": "parcoords"
           }
          ],
          "pie": [
           {
            "automargin": true,
            "type": "pie"
           }
          ],
          "scatter": [
           {
            "fillpattern": {
             "fillmode": "overlay",
             "size": 10,
             "solidity": 0.2
            },
            "type": "scatter"
           }
          ],
          "scatter3d": [
           {
            "line": {
             "colorbar": {
              "outlinewidth": 0,
              "ticks": ""
             }
            },
            "marker": {
             "colorbar": {
              "outlinewidth": 0,
              "ticks": ""
             }
            },
            "type": "scatter3d"
           }
          ],
          "scattercarpet": [
           {
            "marker": {
             "colorbar": {
              "outlinewidth": 0,
              "ticks": ""
             }
            },
            "type": "scattercarpet"
           }
          ],
          "scattergeo": [
           {
            "marker": {
             "colorbar": {
              "outlinewidth": 0,
              "ticks": ""
             }
            },
            "type": "scattergeo"
           }
          ],
          "scattergl": [
           {
            "marker": {
             "colorbar": {
              "outlinewidth": 0,
              "ticks": ""
             }
            },
            "type": "scattergl"
           }
          ],
          "scattermapbox": [
           {
            "marker": {
             "colorbar": {
              "outlinewidth": 0,
              "ticks": ""
             }
            },
            "type": "scattermapbox"
           }
          ],
          "scatterpolar": [
           {
            "marker": {
             "colorbar": {
              "outlinewidth": 0,
              "ticks": ""
             }
            },
            "type": "scatterpolar"
           }
          ],
          "scatterpolargl": [
           {
            "marker": {
             "colorbar": {
              "outlinewidth": 0,
              "ticks": ""
             }
            },
            "type": "scatterpolargl"
           }
          ],
          "scatterternary": [
           {
            "marker": {
             "colorbar": {
              "outlinewidth": 0,
              "ticks": ""
             }
            },
            "type": "scatterternary"
           }
          ],
          "surface": [
           {
            "colorbar": {
             "outlinewidth": 0,
             "ticks": ""
            },
            "colorscale": [
             [
              0,
              "#0d0887"
             ],
             [
              0.1111111111111111,
              "#46039f"
             ],
             [
              0.2222222222222222,
              "#7201a8"
             ],
             [
              0.3333333333333333,
              "#9c179e"
             ],
             [
              0.4444444444444444,
              "#bd3786"
             ],
             [
              0.5555555555555556,
              "#d8576b"
             ],
             [
              0.6666666666666666,
              "#ed7953"
             ],
             [
              0.7777777777777778,
              "#fb9f3a"
             ],
             [
              0.8888888888888888,
              "#fdca26"
             ],
             [
              1,
              "#f0f921"
             ]
            ],
            "type": "surface"
           }
          ],
          "table": [
           {
            "cells": {
             "fill": {
              "color": "#EBF0F8"
             },
             "line": {
              "color": "white"
             }
            },
            "header": {
             "fill": {
              "color": "#C8D4E3"
             },
             "line": {
              "color": "white"
             }
            },
            "type": "table"
           }
          ]
         },
         "layout": {
          "annotationdefaults": {
           "arrowcolor": "#2a3f5f",
           "arrowhead": 0,
           "arrowwidth": 1
          },
          "autotypenumbers": "strict",
          "coloraxis": {
           "colorbar": {
            "outlinewidth": 0,
            "ticks": ""
           }
          },
          "colorscale": {
           "diverging": [
            [
             0,
             "#8e0152"
            ],
            [
             0.1,
             "#c51b7d"
            ],
            [
             0.2,
             "#de77ae"
            ],
            [
             0.3,
             "#f1b6da"
            ],
            [
             0.4,
             "#fde0ef"
            ],
            [
             0.5,
             "#f7f7f7"
            ],
            [
             0.6,
             "#e6f5d0"
            ],
            [
             0.7,
             "#b8e186"
            ],
            [
             0.8,
             "#7fbc41"
            ],
            [
             0.9,
             "#4d9221"
            ],
            [
             1,
             "#276419"
            ]
           ],
           "sequential": [
            [
             0,
             "#0d0887"
            ],
            [
             0.1111111111111111,
             "#46039f"
            ],
            [
             0.2222222222222222,
             "#7201a8"
            ],
            [
             0.3333333333333333,
             "#9c179e"
            ],
            [
             0.4444444444444444,
             "#bd3786"
            ],
            [
             0.5555555555555556,
             "#d8576b"
            ],
            [
             0.6666666666666666,
             "#ed7953"
            ],
            [
             0.7777777777777778,
             "#fb9f3a"
            ],
            [
             0.8888888888888888,
             "#fdca26"
            ],
            [
             1,
             "#f0f921"
            ]
           ],
           "sequentialminus": [
            [
             0,
             "#0d0887"
            ],
            [
             0.1111111111111111,
             "#46039f"
            ],
            [
             0.2222222222222222,
             "#7201a8"
            ],
            [
             0.3333333333333333,
             "#9c179e"
            ],
            [
             0.4444444444444444,
             "#bd3786"
            ],
            [
             0.5555555555555556,
             "#d8576b"
            ],
            [
             0.6666666666666666,
             "#ed7953"
            ],
            [
             0.7777777777777778,
             "#fb9f3a"
            ],
            [
             0.8888888888888888,
             "#fdca26"
            ],
            [
             1,
             "#f0f921"
            ]
           ]
          },
          "colorway": [
           "#636efa",
           "#EF553B",
           "#00cc96",
           "#ab63fa",
           "#FFA15A",
           "#19d3f3",
           "#FF6692",
           "#B6E880",
           "#FF97FF",
           "#FECB52"
          ],
          "font": {
           "color": "#2a3f5f"
          },
          "geo": {
           "bgcolor": "white",
           "lakecolor": "white",
           "landcolor": "#E5ECF6",
           "showlakes": true,
           "showland": true,
           "subunitcolor": "white"
          },
          "hoverlabel": {
           "align": "left"
          },
          "hovermode": "closest",
          "mapbox": {
           "style": "light"
          },
          "paper_bgcolor": "white",
          "plot_bgcolor": "#E5ECF6",
          "polar": {
           "angularaxis": {
            "gridcolor": "white",
            "linecolor": "white",
            "ticks": ""
           },
           "bgcolor": "#E5ECF6",
           "radialaxis": {
            "gridcolor": "white",
            "linecolor": "white",
            "ticks": ""
           }
          },
          "scene": {
           "xaxis": {
            "backgroundcolor": "#E5ECF6",
            "gridcolor": "white",
            "gridwidth": 2,
            "linecolor": "white",
            "showbackground": true,
            "ticks": "",
            "zerolinecolor": "white"
           },
           "yaxis": {
            "backgroundcolor": "#E5ECF6",
            "gridcolor": "white",
            "gridwidth": 2,
            "linecolor": "white",
            "showbackground": true,
            "ticks": "",
            "zerolinecolor": "white"
           },
           "zaxis": {
            "backgroundcolor": "#E5ECF6",
            "gridcolor": "white",
            "gridwidth": 2,
            "linecolor": "white",
            "showbackground": true,
            "ticks": "",
            "zerolinecolor": "white"
           }
          },
          "shapedefaults": {
           "line": {
            "color": "#2a3f5f"
           }
          },
          "ternary": {
           "aaxis": {
            "gridcolor": "white",
            "linecolor": "white",
            "ticks": ""
           },
           "baxis": {
            "gridcolor": "white",
            "linecolor": "white",
            "ticks": ""
           },
           "bgcolor": "#E5ECF6",
           "caxis": {
            "gridcolor": "white",
            "linecolor": "white",
            "ticks": ""
           }
          },
          "title": {
           "x": 0.05
          },
          "xaxis": {
           "automargin": true,
           "gridcolor": "white",
           "linecolor": "white",
           "ticks": "",
           "title": {
            "standoff": 15
           },
           "zerolinecolor": "white",
           "zerolinewidth": 2
          },
          "yaxis": {
           "automargin": true,
           "gridcolor": "white",
           "linecolor": "white",
           "ticks": "",
           "title": {
            "standoff": 15
           },
           "zerolinecolor": "white",
           "zerolinewidth": 2
          }
         }
        },
        "title": {
         "text": "Top 10 cities with highest jobs in each country"
        }
       }
      }
     },
     "metadata": {},
     "output_type": "display_data"
    }
   ],
   "source": [
    "country_list = linkedin_job_postings['search_country'].unique().tolist()\n",
    "country_list.sort()\n",
    "\n",
    "linkedin_job_postings_by_country_dict = {}\n",
    "\n",
    "for country in country_list:\n",
    "    linkedin_job_postings_by_country_dict[country] = linkedin_job_postings[linkedin_job_postings['search_country']==country]\n",
    "\n",
    "top = 10\n",
    "top_cities_dict = {}\n",
    "\n",
    "for country in country_list:\n",
    "    top_cities_dict[country] = linkedin_job_postings_by_country_dict[country]['search_city'].value_counts().head(top)\n",
    "\n",
    "fig_dict = {}\n",
    "\n",
    "chart_colors = np.array(['rgb(239,85,59)', 'rgb(99,110,250)', 'rgb(254,203,82)', 'rgb(255,151,255)', 'rgb(182,232,128)',\n",
    "                'rgb(255,102,146)', 'rgb(25,211,243)', 'rgb(255,161,90)', 'rgb(171,99,250)', 'rgb(0,204,150)'])\n",
    "\n",
    "chart_colors_dict = {}\n",
    "\n",
    "for country in country_list:\n",
    "    chart_colors_dict[country] = chart_colors.copy()\n",
    "    np.random.shuffle(chart_colors)\n",
    "\n",
    "for country in country_list:\n",
    "    total = top_cities_dict[country].values.sum()\n",
    "    fig_dict[country] = go.Figure(\n",
    "                            data=[\n",
    "                                go.Pie(\n",
    "                                    labels=top_cities_dict[country].index, \n",
    "                                    values=top_cities_dict[country].values,\n",
    "                                    textinfo='label+value',\n",
    "                                    insidetextorientation='horizontal',\n",
    "                                    showlegend=False,\n",
    "                                    pull=top_cities_dict[country].values / total,\n",
    "                                    marker=dict(colors=chart_colors_dict[country]),\n",
    "                                )\n",
    "                            ]\n",
    "                        )\n",
    "    fig_dict[country].update_layout(\n",
    "        title_text=f\"Top {top} cities with highest jobs in {country}\",\n",
    "        title_x=0.5,\n",
    "        title_y=0.95,\n",
    "    )\n",
    "\n",
    "fig2 = make_subplots(\n",
    "    rows=2, \n",
    "    cols=2, \n",
    "    subplot_titles=[f\"Top {top} cities with highest jobs in {country}\" for country in country_list],\n",
    "    specs=[[{\"type\": \"sunburst\"}, {\"type\": \"sunburst\"}], [{\"type\": \"sunburst\"}, {\"type\": \"sunburst\"}]],\n",
    "    horizontal_spacing=0.2,\n",
    "    vertical_spacing=0.1,\n",
    ")\n",
    "\n",
    "for country in country_list:\n",
    "    fig2.add_trace(fig_dict[country].data[0], row=country_list.index(country)//2+1, col=country_list.index(country)%2+1)\n",
    "\n",
    "fig2.update_layout(\n",
    "    height=1200, \n",
    "    # width=1000, \n",
    "    title_text=\"Top 10 cities with highest jobs in each country\",\n",
    ")"
   ]
  },
  {
   "cell_type": "markdown",
   "metadata": {},
   "source": [
    "## Part 3"
   ]
  },
  {
   "cell_type": "code",
   "execution_count": 7,
   "metadata": {},
   "outputs": [],
   "source": [
    "# Top world's companies\n",
    "def contains_numeric(string):\n",
    "    pattern = r'\\d'\n",
    "    match = re.search(pattern, string)\n",
    "    if match:\n",
    "        return np.nan\n",
    "    elif string == 'Ahmedabad':\n",
    "        return np.nan\n",
    "    else:\n",
    "        return string\n",
    "\n",
    "def string_to_num(amount):\n",
    "    r = 0\n",
    "    try:\n",
    "        if amount[-1]=='k':\n",
    "            r = 1000*float(amount[:-1])\n",
    "        else:\n",
    "            r = float(amount)\n",
    "        return r\n",
    "    except ValueError:\n",
    "        return np.nan\n",
    "    \n",
    "df_twc['desc'] = df_twc['Description'].str.split('|').str[0]\n",
    "df_twc['sector'] = df_twc['desc'].apply(contains_numeric)\n",
    "\n",
    "df_twc.drop('desc',axis=1, inplace=True)\n",
    "\n",
    "df_twc['HRF'] = df_twc['Highly_rated_for'].str.split(', ')\n",
    "df_twc['Avg_salary'] = df_twc['Avg_salary'].apply(string_to_num)\n",
    "df_twc['Total_jobs_available'] = df_twc['Total_jobs_available'].apply(string_to_num)\n",
    "df_twc['Interviews_taken'] = df_twc['Interviews_taken'].apply(string_to_num)\n",
    "hrf_ser = df_twc['HRF'].dropna()\n",
    "\n",
    "union_HRF = reduce(set.union, map(set, hrf_ser))"
   ]
  },
  {
   "cell_type": "code",
   "execution_count": 8,
   "metadata": {},
   "outputs": [],
   "source": [
    "def update_Sect_Ratings(sector, crit):\n",
    "    # Apply filters to the data\n",
    "    filtered_df = df_twc\n",
    "    filtered_df.dropna(subset=['sector','HRF'], inplace=True)\n",
    "    if sector:\n",
    "        filtered_df = filtered_df[filtered_df[\"sector\"].isin(sector)]\n",
    "    if crit:\n",
    "        filtered_df = filtered_df[filtered_df[\"HRF\"].apply(lambda x: bool(set(x) & set(crit)))]\n",
    "\n",
    "    # Create the bar chart\n",
    "    full_fig = make_subplots(rows=2, cols=1,)\n",
    "    fig1 = px.bar(filtered_df.sort_values(\"Avg_salary\", ascending=False).head(20),\n",
    "                 x=\"Company_name\",\n",
    "                 y=\"Avg_salary\",\n",
    "                 color=\"Ratings\",\n",
    "                 hover_data=[\"Avg_salary\"],\n",
    "                 )\n",
    "    fig1.update_xaxes(showgrid=False)\n",
    "    fig1.update_yaxes(showgrid=False)\n",
    "    full_fig.update_yaxes(title_text=\"Average salary\", row=1, col=1)\n",
    "    full_fig.update_layout(\n",
    "    coloraxis_colorbar=dict(len=0.4, x=1.1, y=0.7, title='Ratings'), coloraxis_colorscale='ice'\n",
    "    )\n",
    "    fig2 = px.scatter(filtered_df.sort_values(\"Avg_salary\", ascending=False).head(20), x='Total_jobs_available', y='Interviews_taken', \n",
    "                      color='Ratings',size = 'Ratings',hover_data=[\"Company_name\"])\n",
    "    full_fig.update_xaxes(title_text=\"Number of jobs\", row=2, col=1)\n",
    "    full_fig.update_yaxes(title_text=\"Number of interviews\", row=2, col=1)\n",
    "    full_fig.add_trace(fig1.data[0], row=1,col=1)\n",
    "    full_fig.add_trace(fig2.data[0], row=2, col=1)\n",
    "    full_fig.update_layout(\n",
    "    # width=1200,\n",
    "    height=700,\n",
    "    margin=dict(l=20, r=20, t=40, b=20),\n",
    "    font=dict(color=colors['text']),\n",
    "    plot_bgcolor=colors['background'], paper_bgcolor=colors['background']\n",
    "    )\n",
    "    return full_fig"
   ]
  },
  {
   "cell_type": "markdown",
   "metadata": {},
   "source": [
    "## Part 4"
   ]
  },
  {
   "cell_type": "code",
   "execution_count": 9,
   "metadata": {},
   "outputs": [],
   "source": [
    "def update_style(section, skill, selected_node):\n",
    "    filtered_df = df_ldd[df_ldd['isic_section_name']==section]\n",
    "    if skill:\n",
    "        filtered_df = filtered_df[filtered_df[\"skill_group_name\"].isin(skill)]\n",
    "    industries = [\n",
    "        {\n",
    "            \"data\":{\"id\": iname+\"i\", \"label\": iname, \"type\":'industry'}\n",
    "        }\n",
    "        for iname in filtered_df['industry_name'].unique()\n",
    "    ]\n",
    "    skills = [\n",
    "        {\n",
    "            \"data\":{\"id\": sname+\"s\", \"label\": sname, \"type\":'skill'}\n",
    "        }\n",
    "        for sname in filtered_df['skill_group_name'].unique()\n",
    "    ]\n",
    "    nodes = industries+skills\n",
    "    edges = [\n",
    "        {\"data\": {\"source\": source+\"i\", \"target\":target+\"s\"}}\n",
    "        for source, target in list(zip(filtered_df['industry_name'], filtered_df['skill_group_name']))\n",
    "    ]\n",
    "    elements = nodes + edges\n",
    "    if selected_node is None:\n",
    "        return elements, []\n",
    "\n",
    "    selected_node_id = selected_node['id']\n",
    "    neighborhood = []\n",
    "    for edge in edges:\n",
    "        edge_data = edge.get('data', {})\n",
    "        source = edge_data.get('source')\n",
    "        target = edge_data.get('target')\n",
    "        if source == selected_node_id:\n",
    "            neighborhood.append(target)\n",
    "        elif target == selected_node_id:\n",
    "            neighborhood.append(source)\n",
    "\n",
    "    # Define the stylesheet to highlight the selected node and its immediate neighbors\n",
    "    stylesheet = [\n",
    "        {\n",
    "            'selector': 'node',\n",
    "            'style': {\n",
    "                'background-color': 'grey',\n",
    "                'opacity': '0.2',\n",
    "                'label': 'data(label)'# Default color for nodes\n",
    "            }\n",
    "        },\n",
    "        {\n",
    "            'selector': 'node[type = \\'industry\\']',\n",
    "            'style': {\n",
    "                'background-color': '#ff66cc',\n",
    "                'opacity': '0.2',\n",
    "                'label': 'data(label)'# Default color for nodes\n",
    "            }\n",
    "        },\n",
    "        {\n",
    "            'selector': 'edge',\n",
    "            'style': {\n",
    "                'line-color': 'grey',  # Default color for edges\n",
    "                'opacity':'0.15'\n",
    "            }\n",
    "        },\n",
    "        {\n",
    "            'selector': 'node[id = \"{}\"]'.format(selected_node_id),\n",
    "            'style': {\n",
    "                'background-color': 'blue',  # Color for selected node\n",
    "                'opacity': '1.0'\n",
    "            }\n",
    "        },\n",
    "        {\n",
    "            'selector': 'edge[source = \"{}\"]'.format(selected_node_id),\n",
    "            'style': {\n",
    "                'line-color': 'blue',  # Color for edges connected to selected node\n",
    "                'opacity': '1.0'\n",
    "            }\n",
    "        },\n",
    "        {\n",
    "            'selector': 'edge[target = \"{}\"]'.format(selected_node_id),\n",
    "            'style': {\n",
    "                'line-color': 'blue',  # Color for edges connected to selected node\n",
    "                'opacity': '1.0'\n",
    "            }\n",
    "        }\n",
    "    ]\n",
    "    for nd in neighborhood:\n",
    "        stylesheet.append({\n",
    "            'selector': 'node[id = \"{}\"]'.format(nd),\n",
    "            'style': {\n",
    "                'background-color': 'red',  # Color for edges connected to selected node\n",
    "                'opacity': '1.0'\n",
    "            }})\n",
    "    return elements,stylesheet"
   ]
  },
  {
   "cell_type": "markdown",
   "metadata": {},
   "source": [
    "## Part 5"
   ]
  },
  {
   "cell_type": "code",
   "execution_count": 10,
   "metadata": {},
   "outputs": [
    {
     "name": "stderr",
     "output_type": "stream",
     "text": [
      "C:\\Users\\ashwa\\AppData\\Local\\Temp\\ipykernel_21768\\702865002.py:6: UserWarning:\n",
      "\n",
      "Boolean Series key will be reindexed to match DataFrame index.\n",
      "\n"
     ]
    }
   ],
   "source": [
    "country_options = [{'label': country, 'value': country} for country in linkedin_job_postings['search_country'].unique()]\n",
    "\n",
    "default_country = 'United States'\n",
    "default_city = 'New York'\n",
    "\n",
    "filtered_df = linkedin_job_postings[linkedin_job_postings['search_country'] == default_country][linkedin_job_postings['search_city'] == default_city][['search_position']]\n",
    "data_df = filtered_df.groupby('search_position').size().reset_index(name='count').sort_values('count', ascending=False)\n",
    "\n",
    "fig5 = px.histogram(\n",
    "            data_df.head(15),\n",
    "            x='search_position',\n",
    "            y='count',\n",
    "            text_auto=True,\n",
    "        ).update_layout(\n",
    "            title=f'Top 20 job positions users search for in {default_city}, {default_country}',\n",
    "            xaxis_title='Job Position',\n",
    "            yaxis_title='Total Job Postings',\n",
    "            xaxis={'categoryorder':'total descending'}\n",
    "        )\n",
    "\n",
    "def update_histogram(search_country, search_city):\n",
    "    filtered_df = linkedin_job_postings[linkedin_job_postings['search_country'] == search_country][linkedin_job_postings['search_city'] == search_city][['search_position']]\n",
    "    data_df = filtered_df.groupby('search_position').size().reset_index(name='count').sort_values('count', ascending=False)\n",
    "\n",
    "    fig5.data[0].x = data_df.head(15)['search_position']\n",
    "    fig5.data[0].y = data_df.head(15)['count']\n",
    "\n",
    "    fig5.update_layout(\n",
    "            title=f'Top 20 job positions users search for in {search_city}, {search_country}',\n",
    "            xaxis_title='Job Position',\n",
    "            yaxis_title='Total Job Postings',\n",
    "            xaxis={'categoryorder':'total descending'}\n",
    "        )\n",
    "    return fig5\n",
    "\n"
   ]
  },
  {
   "cell_type": "markdown",
   "metadata": {},
   "source": [
    "## Dash Code"
   ]
  },
  {
   "cell_type": "code",
   "execution_count": 11,
   "metadata": {},
   "outputs": [],
   "source": [
    "# styles\n",
    "colors = {\n",
    "    'background': '#d9ffb3',\n",
    "    'text': '#0066cc',\n",
    "    'title' : '#000066'\n",
    "}\n",
    "def_stylesheet = [\n",
    "        {\n",
    "            'selector': 'node',\n",
    "            'style': {\n",
    "                'background-color': 'grey',\n",
    "                'opacity': '0.2',\n",
    "                'label': 'data(label)'# Default color for nodes\n",
    "            }\n",
    "        },\n",
    "        {\n",
    "            'selector': 'node[type = \\'industry\\']',\n",
    "            'style': {\n",
    "                'background-color': '#ff66cc',\n",
    "                'opacity': '0.2',\n",
    "                'label': 'data(label)'# Default color for nodes\n",
    "            }\n",
    "        },\n",
    "        {\n",
    "            'selector': 'edge',\n",
    "            'style': {\n",
    "                'line-color': 'grey',  # Default color for edges\n",
    "                'opacity':'0.15'\n",
    "            }\n",
    "        }]"
   ]
  },
  {
   "cell_type": "code",
   "execution_count": 12,
   "metadata": {},
   "outputs": [],
   "source": [
    "app = Dash(\n",
    "    meta_tags=[\n",
    "        {'name': 'viewport', 'content': 'width=device-width, initial-scale=1.0'}\n",
    "    ]\n",
    ")\n",
    "app.css.append_css({'external_url': '../global.css'})\n"
   ]
  },
  {
   "cell_type": "code",
   "execution_count": 13,
   "metadata": {},
   "outputs": [],
   "source": [
    "# Define callback to update Part 1\n",
    "@app.callback(\n",
    "    Output('bar-chart', 'figure'),\n",
    "    Input('search-button', 'n_clicks'),\n",
    "    Input('search-input', 'value'),\n",
    "    Input('country-input', 'value'),\n",
    ")\n",
    "def update_bar_chart(n_clicks, search_value, country_value):\n",
    "    if n_clicks:\n",
    "        update_fig1_plot(search_value, country_value)\n",
    "    return fig1"
   ]
  },
  {
   "cell_type": "code",
   "execution_count": 14,
   "metadata": {},
   "outputs": [],
   "source": [
    "# Define callback to update Part 3\n",
    "@app.callback(\n",
    "    Output(\"fig1\", \"figure\"),\n",
    "    Input(\"sector-filter\", \"value\"),\n",
    "    Input(\"critique-filter\", \"value\")\n",
    ")\n",
    "def update_fig3_Sect_Ratings(sector, crit):\n",
    "    return update_Sect_Ratings(sector, crit)"
   ]
  },
  {
   "cell_type": "code",
   "execution_count": 15,
   "metadata": {},
   "outputs": [],
   "source": [
    "# Define callback to update Part 4\n",
    "@app.callback(\n",
    "    [Output(\"cytoscape\", \"elements\"),\n",
    "     Output('cytoscape', 'stylesheet')],\n",
    "    [Input(\"sector-filter-1\", \"value\"),\n",
    "     Input(\"skill-filter-1\", \"value\"),\n",
    "     Input('cytoscape', 'tapNodeData')]\n",
    ")\n",
    "def update_fig4_style(section, skill, selected_node):\n",
    "    return update_style(section, skill, selected_node)"
   ]
  },
  {
   "cell_type": "code",
   "execution_count": 16,
   "metadata": {},
   "outputs": [],
   "source": [
    "# Define callback to update Part 5\n",
    "@app.callback(\n",
    "    Output('state-dropdown', 'options'),\n",
    "    [Input('country-dropdown', 'value')]\n",
    ")\n",
    "def update_state_dropdown(selected_country):\n",
    "    if selected_country is None:\n",
    "        return []\n",
    "    state_options = [{'label': state, 'value': state} for state in linkedin_job_postings[linkedin_job_postings['search_country'] == selected_country]['search_city'].unique()]\n",
    "    return state_options\n",
    "\n",
    "# Define callback to update histogram based on selected country and state\n",
    "@app.callback(\n",
    "    Output('histogram', 'figure'),\n",
    "    [Input('country-dropdown', 'value'),\n",
    "     Input('state-dropdown', 'value')]\n",
    ")\n",
    "def update_fig5_histogram(selected_country, selected_state):\n",
    "    return update_histogram(selected_country, selected_state)"
   ]
  },
  {
   "cell_type": "code",
   "execution_count": 17,
   "metadata": {},
   "outputs": [],
   "source": [
    "button_style = {\n",
    "    'background-color': '#FFFFFF',\n",
    "    'border': '1px solid #222222',\n",
    "    'border-radius': '8px',\n",
    "    'box-sizing': 'border-box',\n",
    "    'color': '#222222',\n",
    "    'cursor': 'pointer',\n",
    "    'display': 'inline-block',\n",
    "    'font-family': 'Circular, -apple-system, BlinkMacSystemFont, Roboto, \"Helvetica Neue\", sans-serif',\n",
    "    'font-size': '16px',\n",
    "    'font-weight': '600',\n",
    "    'line-height': '20px',\n",
    "    'margin': '10px',\n",
    "    'outline': 'none',\n",
    "    'padding': '13px 23px',\n",
    "    'position': 'relative',\n",
    "    'text-align': 'center',\n",
    "    'text-decoration': 'none',\n",
    "    'touch-action': 'manipulation',\n",
    "    'transition': 'box-shadow .2s, -ms-transform .1s, -webkit-transform .1s, transform .1s',\n",
    "    'user-select': 'none',\n",
    "    '-webkit-user-select': 'none',\n",
    "    'width': 'auto',\n",
    "    'height':'40px'\n",
    "}\n"
   ]
  },
  {
   "cell_type": "code",
   "execution_count": 26,
   "metadata": {},
   "outputs": [],
   "source": [
    "# Define app layout\n",
    "app.layout = html.Div([\n",
    "    html.Div([\n",
    "        html.Div(\n",
    "            children=html.H1(\"Fake heading graphs\"),\n",
    "            style={\n",
    "                'display':'flex',\n",
    "                'align-items':'center',\n",
    "                'justify-content':'center',\n",
    "                'background-color': 'rgba(234, 236, 238, 1.0)'\n",
    "            }\n",
    "        ),\n",
    "        #fig1 Layoout\n",
    "        html.Div(\n",
    "            [\n",
    "                html.Div(children=[\n",
    "                dcc.Dropdown(\n",
    "                    id='country-input',\n",
    "                    options=[{'label': i, 'value': i} for i in linkedin_job_postings['search_country'].unique()],\n",
    "                    value='United States',\n",
    "                    style={'width': '300px','height': '30px', 'border': '1px solid #ccc'}\n",
    "                ),\n",
    "                html.Div([\n",
    "                    dcc.Input(\n",
    "                        id='search-input',\n",
    "                        type='text',\n",
    "                        placeholder='Search for job titles...',\n",
    "                        debounce=True,\n",
    "                        style={'width': '300px', 'height': '30px', 'margin': '10px', 'padding': '5px', 'border': '1px solid #ccc'}\n",
    "                    ),\n",
    "                    html.Button('Search',id='search-button', style=button_style, className='button-6')\n",
    "                ])\n",
    "                ], style={'display': 'flex', 'align-items': 'center', 'justify-content': 'center'}),\n",
    "                html.Div([\n",
    "                    dcc.Graph(figure=fig1, id='bar-chart')\n",
    "                ]),\n",
    "            ],\n",
    "            style={ \n",
    "                'box-shadow': '0 4px 8px 0 rgba(0,0,0,0.2)',\n",
    "                'border-radius':'5px',\n",
    "                'margin':'10px',\n",
    "                'background-color': 'rgba(255, 255, 255, 1.0)'\n",
    "            }\n",
    "        ),\n",
    "        \n",
    "        # fig2 Layout\n",
    "        html.Div([\n",
    "            dcc.Graph(figure=fig2)\n",
    "        ],style={ \n",
    "            'box-shadow': '0 4px 8px 0 rgba(0,0,0,0.2)',\n",
    "            'border-radius':'5px',\n",
    "            'margin':'10px',\n",
    "            'background-color': 'rgba(255, 255, 255, 1.0)'\n",
    "        }),\n",
    "\n",
    "        # fig3 Layout\n",
    "        html.Div(\n",
    "            style={ \n",
    "                'box-shadow': '0 4px 8px 0 rgba(0,0,0,0.2)',\n",
    "                'border-radius':'5px',\n",
    "                'margin':'10px',\n",
    "                'padding':'20px',\n",
    "                'background-color': 'rgba(255, 255, 255, 1.0)'\n",
    "            }, children=[\n",
    "            html.H1(\n",
    "                children='Companies based off your likings',\n",
    "                style={\n",
    "                    'textAlign': 'center',\n",
    "                    'color': colors['title']\n",
    "                }\n",
    "            ),\n",
    "            dbc.Row([\n",
    "                html.Label(\"Sector\", style={'color': colors['text']}),\n",
    "                dcc.Dropdown(\n",
    "                    id=\"sector-filter\",\n",
    "                    options=[{\"label\": s, \"value\": s}\n",
    "                            for s in df_twc['sector'].dropna().unique()],\n",
    "                    value=None,\n",
    "                    multi=True,\n",
    "                    style={\n",
    "                        \"width\": \"100%\",  # set the width of the dropdown to 50% of its container\n",
    "                        \"height\": \"50%\",  # set the height of each dropdown item to 40 pixels\n",
    "                        \"backgroundColor\": colors['background'],  # set the background color of the dropdown to dark gray\n",
    "                        \"color\": \"#000\",  # set the font color of the dropdown to light gray\n",
    "                        \"fontFamily\": \"sans-serif\"  # set the font family of the dropdown to sans-serif\n",
    "                    }\n",
    "                ),\n",
    "                html.Label(\"Features\", style={'color': colors['text']}),\n",
    "                dcc.Dropdown(\n",
    "                    id=\"critique-filter\",\n",
    "                    options=[{\"label\": l, \"value\": l}\n",
    "                            for l in union_HRF],\n",
    "                    value=None,\n",
    "                    multi=True,\n",
    "                    style={\n",
    "                        \"width\": \"100%\",  # set the width of the dropdown to 50% of its container\n",
    "                        \"height\": \"50%\",  # set the height of each dropdown item to 40 pixels\n",
    "                        \"backgroundColor\": colors['background'],  # set the background color of the dropdown to dark gray\n",
    "                        \"color\": \"#000\",  # set the font color of the dropdown to light gray\n",
    "                        \"fontFamily\": \"sans-serif\"  # set the font family of the dropdown to sans-serif\n",
    "                    }\n",
    "                ),\n",
    "                dcc.Graph(id=\"fig1\")\n",
    "            ])\n",
    "        ]),\n",
    "\n",
    "        # fig4 Layout\n",
    "        html.Div(\n",
    "            style={ \n",
    "                'box-shadow': '0 4px 8px 0 rgba(0,0,0,0.2)',\n",
    "                'border-radius':'5px',\n",
    "                'margin':'10px',\n",
    "                'padding':'20px',\n",
    "                'background-color': 'rgba(255, 255, 255, 1.0)'\n",
    "            }, children=[\n",
    "            html.H1(\n",
    "                children='Industry Skill Needs',\n",
    "                style={\n",
    "                    'textAlign': 'center',\n",
    "                    'color': colors['title']\n",
    "                }\n",
    "            ),\n",
    "\n",
    "            dbc.Row([\n",
    "                html.Div([\n",
    "                        html.Label(\"Sector\", style={'color': colors['text']}),\n",
    "                        dcc.Dropdown(\n",
    "                            id=\"sector-filter-1\",\n",
    "                            options=[{\"label\": s, \"value\": s}\n",
    "                                    for s in df_ldd['isic_section_name'].dropna().unique()],\n",
    "                            value='Information and communication',\n",
    "                            style={\n",
    "                                \"width\": \"75%\",  # set the width of the dropdown to 50% of its container\n",
    "                                \"height\": \"50%\",  # set the height of each dropdown item to 40 pixels\n",
    "                                \"backgroundColor\": colors['background'],  # set the background color of the dropdown to dark gray\n",
    "                                \"color\": \"#000\",  # set the font color of the dropdown to light gray\n",
    "                                \"fontFamily\": \"sans-serif\"  # set the font family of the dropdown to sans-serif\n",
    "                            }\n",
    "                        ),\n",
    "                    html.Label(\"Skills\", style={'color': colors['text']}),\n",
    "                        dcc.Dropdown(\n",
    "                            id=\"skill-filter-1\",\n",
    "                            options=[{\"label\": s, \"value\": s}\n",
    "                                    for s in df_ldd['skill_group_name'].dropna().unique()],\n",
    "                            value=None,\n",
    "                            multi=True,\n",
    "                            style={\n",
    "                                \"width\": \"75%\",  # set the width of the dropdown to 50% of its container\n",
    "                                \"height\": \"50%\",  # set the height of each dropdown item to 40 pixels\n",
    "                                \"backgroundColor\": colors['background'],  # set the background color of the dropdown to dark gray\n",
    "                                \"color\": \"#000\",  # set the font color of the dropdown to light gray\n",
    "                                \"fontFamily\": \"sans-serif\"  # set the font family of the dropdown to sans-serif\n",
    "                            }\n",
    "                        )]),\n",
    "                cyto.Cytoscape(\n",
    "                    id='cytoscape',\n",
    "                    layout={'name': 'circle'},\n",
    "                    style={'height': '700px', 'width': '100%','label': 'data(label)'},\n",
    "                    stylesheet = def_stylesheet\n",
    "                )\n",
    "            ])\n",
    "        ]),\n",
    "\n",
    "        # fig5 Layout\n",
    "        html.Div([\n",
    "            dcc.Dropdown(\n",
    "                id='country-dropdown',\n",
    "                options=country_options,\n",
    "                value=default_country,\n",
    "                placeholder='Select a country'\n",
    "            ),\n",
    "            dcc.Dropdown(\n",
    "                id='state-dropdown',\n",
    "                value=default_city,\n",
    "                placeholder='Select a state'\n",
    "            ),\n",
    "            dcc.Graph(id='histogram')\n",
    "        ],\n",
    "        style={ \n",
    "            'box-shadow': '0 4px 8px 0 rgba(0,0,0,0.2)',\n",
    "            'border-radius':'5px',\n",
    "            'margin':'10px',\n",
    "            'padding':'20px',\n",
    "            'background-color': 'rgba(255, 255, 255, 1.0)'\n",
    "        })\n",
    "    ],style = {\n",
    "        'align-items': 'center',\n",
    "        'justify-content': 'center',\n",
    "        'width': '90%',\n",
    "        'margin-left': '5%',\n",
    "        'margin-right': '5%',\n",
    "    })\n",
    "],style = {\n",
    "    'margin': '0',\n",
    "    'padding': '0', \n",
    "    'border':'border-box',\n",
    "    'width': '100%',\n",
    "    'height': '100%',\n",
    "    'background-color': 'rgba(234, 236, 238, 1.0)'\n",
    "})"
   ]
  },
  {
   "cell_type": "code",
   "execution_count": 27,
   "metadata": {},
   "outputs": [
    {
     "ename": "AssertionError",
     "evalue": "The setup method 'errorhandler' can no longer be called on the application. It has already handled its first request, any changes will not be applied consistently.\nMake sure all imports, decorators, functions, etc. needed to set up the application are done before running it.",
     "output_type": "error",
     "traceback": [
      "\u001b[1;31m---------------------------------------------------------------------------\u001b[0m",
      "\u001b[1;31mAssertionError\u001b[0m                            Traceback (most recent call last)",
      "Cell \u001b[1;32mIn[27], line 2\u001b[0m\n\u001b[0;32m      1\u001b[0m Timer(\u001b[38;5;241m1\u001b[39m, open_browser)\u001b[38;5;241m.\u001b[39mstart()\n\u001b[1;32m----> 2\u001b[0m \u001b[43mapp\u001b[49m\u001b[38;5;241;43m.\u001b[39;49m\u001b[43mrun_server\u001b[49m\u001b[43m(\u001b[49m\u001b[43mdebug\u001b[49m\u001b[38;5;241;43m=\u001b[39;49m\u001b[38;5;28;43;01mTrue\u001b[39;49;00m\u001b[43m,\u001b[49m\u001b[43m \u001b[49m\u001b[43mport\u001b[49m\u001b[38;5;241;43m=\u001b[39;49m\u001b[38;5;241;43m8080\u001b[39;49m\u001b[43m)\u001b[49m\n",
      "File \u001b[1;32m~\\AppData\\Roaming\\Python\\Python311\\site-packages\\dash\\dash.py:2223\u001b[0m, in \u001b[0;36mDash.run_server\u001b[1;34m(self, *args, **kwargs)\u001b[0m\n\u001b[0;32m   2217\u001b[0m \u001b[38;5;28;01mdef\u001b[39;00m \u001b[38;5;21mrun_server\u001b[39m(\u001b[38;5;28mself\u001b[39m, \u001b[38;5;241m*\u001b[39margs, \u001b[38;5;241m*\u001b[39m\u001b[38;5;241m*\u001b[39mkwargs):\n\u001b[0;32m   2218\u001b[0m \u001b[38;5;250m    \u001b[39m\u001b[38;5;124;03m\"\"\"`run_server` is a deprecated alias of `run` and may be removed in a\u001b[39;00m\n\u001b[0;32m   2219\u001b[0m \u001b[38;5;124;03m    future version. We recommend using `app.run` instead.\u001b[39;00m\n\u001b[0;32m   2220\u001b[0m \n\u001b[0;32m   2221\u001b[0m \u001b[38;5;124;03m    See `app.run` for usage information.\u001b[39;00m\n\u001b[0;32m   2222\u001b[0m \u001b[38;5;124;03m    \"\"\"\u001b[39;00m\n\u001b[1;32m-> 2223\u001b[0m     \u001b[38;5;28;43mself\u001b[39;49m\u001b[38;5;241;43m.\u001b[39;49m\u001b[43mrun\u001b[49m\u001b[43m(\u001b[49m\u001b[38;5;241;43m*\u001b[39;49m\u001b[43margs\u001b[49m\u001b[43m,\u001b[49m\u001b[43m \u001b[49m\u001b[38;5;241;43m*\u001b[39;49m\u001b[38;5;241;43m*\u001b[39;49m\u001b[43mkwargs\u001b[49m\u001b[43m)\u001b[49m\n",
      "File \u001b[1;32m~\\AppData\\Roaming\\Python\\Python311\\site-packages\\dash\\dash.py:2045\u001b[0m, in \u001b[0;36mDash.run\u001b[1;34m(self, host, port, proxy, debug, jupyter_mode, jupyter_width, jupyter_height, jupyter_server_url, dev_tools_ui, dev_tools_props_check, dev_tools_serve_dev_bundles, dev_tools_hot_reload, dev_tools_hot_reload_interval, dev_tools_hot_reload_watch_interval, dev_tools_hot_reload_max_retry, dev_tools_silence_routes_logging, dev_tools_prune_errors, **flask_run_options)\u001b[0m\n\u001b[0;32m   2042\u001b[0m \u001b[38;5;28;01mif\u001b[39;00m debug \u001b[38;5;129;01mis\u001b[39;00m \u001b[38;5;28;01mNone\u001b[39;00m:\n\u001b[0;32m   2043\u001b[0m     debug \u001b[38;5;241m=\u001b[39m get_combined_config(\u001b[38;5;124m\"\u001b[39m\u001b[38;5;124mdebug\u001b[39m\u001b[38;5;124m\"\u001b[39m, \u001b[38;5;28;01mNone\u001b[39;00m, \u001b[38;5;28;01mFalse\u001b[39;00m)\n\u001b[1;32m-> 2045\u001b[0m debug \u001b[38;5;241m=\u001b[39m \u001b[38;5;28;43mself\u001b[39;49m\u001b[38;5;241;43m.\u001b[39;49m\u001b[43menable_dev_tools\u001b[49m\u001b[43m(\u001b[49m\n\u001b[0;32m   2046\u001b[0m \u001b[43m    \u001b[49m\u001b[43mdebug\u001b[49m\u001b[43m,\u001b[49m\n\u001b[0;32m   2047\u001b[0m \u001b[43m    \u001b[49m\u001b[43mdev_tools_ui\u001b[49m\u001b[43m,\u001b[49m\n\u001b[0;32m   2048\u001b[0m \u001b[43m    \u001b[49m\u001b[43mdev_tools_props_check\u001b[49m\u001b[43m,\u001b[49m\n\u001b[0;32m   2049\u001b[0m \u001b[43m    \u001b[49m\u001b[43mdev_tools_serve_dev_bundles\u001b[49m\u001b[43m,\u001b[49m\n\u001b[0;32m   2050\u001b[0m \u001b[43m    \u001b[49m\u001b[43mdev_tools_hot_reload\u001b[49m\u001b[43m,\u001b[49m\n\u001b[0;32m   2051\u001b[0m \u001b[43m    \u001b[49m\u001b[43mdev_tools_hot_reload_interval\u001b[49m\u001b[43m,\u001b[49m\n\u001b[0;32m   2052\u001b[0m \u001b[43m    \u001b[49m\u001b[43mdev_tools_hot_reload_watch_interval\u001b[49m\u001b[43m,\u001b[49m\n\u001b[0;32m   2053\u001b[0m \u001b[43m    \u001b[49m\u001b[43mdev_tools_hot_reload_max_retry\u001b[49m\u001b[43m,\u001b[49m\n\u001b[0;32m   2054\u001b[0m \u001b[43m    \u001b[49m\u001b[43mdev_tools_silence_routes_logging\u001b[49m\u001b[43m,\u001b[49m\n\u001b[0;32m   2055\u001b[0m \u001b[43m    \u001b[49m\u001b[43mdev_tools_prune_errors\u001b[49m\u001b[43m,\u001b[49m\n\u001b[0;32m   2056\u001b[0m \u001b[43m\u001b[49m\u001b[43m)\u001b[49m\n\u001b[0;32m   2058\u001b[0m \u001b[38;5;66;03m# Verify port value\u001b[39;00m\n\u001b[0;32m   2059\u001b[0m \u001b[38;5;28;01mtry\u001b[39;00m:\n",
      "File \u001b[1;32m~\\AppData\\Roaming\\Python\\Python311\\site-packages\\dash\\dash.py:1815\u001b[0m, in \u001b[0;36mDash.enable_dev_tools\u001b[1;34m(self, debug, dev_tools_ui, dev_tools_props_check, dev_tools_serve_dev_bundles, dev_tools_hot_reload, dev_tools_hot_reload_interval, dev_tools_hot_reload_watch_interval, dev_tools_hot_reload_max_retry, dev_tools_silence_routes_logging, dev_tools_prune_errors)\u001b[0m\n\u001b[0;32m   1813\u001b[0m \u001b[38;5;28;01mif\u001b[39;00m debug:\n\u001b[0;32m   1814\u001b[0m     \u001b[38;5;28;01mif\u001b[39;00m jupyter_dash\u001b[38;5;241m.\u001b[39mactive:\n\u001b[1;32m-> 1815\u001b[0m         \u001b[43mjupyter_dash\u001b[49m\u001b[38;5;241;43m.\u001b[39;49m\u001b[43mconfigure_callback_exception_handling\u001b[49m\u001b[43m(\u001b[49m\n\u001b[0;32m   1816\u001b[0m \u001b[43m            \u001b[49m\u001b[38;5;28;43mself\u001b[39;49m\u001b[43m,\u001b[49m\u001b[43m \u001b[49m\u001b[43mdev_tools\u001b[49m\u001b[38;5;241;43m.\u001b[39;49m\u001b[43mprune_errors\u001b[49m\n\u001b[0;32m   1817\u001b[0m \u001b[43m        \u001b[49m\u001b[43m)\u001b[49m\n\u001b[0;32m   1818\u001b[0m     \u001b[38;5;28;01melif\u001b[39;00m dev_tools\u001b[38;5;241m.\u001b[39mprune_errors:\n\u001b[0;32m   1819\u001b[0m         secret \u001b[38;5;241m=\u001b[39m gen_salt(\u001b[38;5;241m20\u001b[39m)\n",
      "File \u001b[1;32m~\\AppData\\Roaming\\Python\\Python311\\site-packages\\dash\\_jupyter.py:446\u001b[0m, in \u001b[0;36mJupyterDash.configure_callback_exception_handling\u001b[1;34m(self, app, dev_tools_prune_errors)\u001b[0m\n\u001b[0;32m    443\u001b[0m \u001b[38;5;28;01mdef\u001b[39;00m \u001b[38;5;21mconfigure_callback_exception_handling\u001b[39m(\u001b[38;5;28mself\u001b[39m, app, dev_tools_prune_errors):\n\u001b[0;32m    444\u001b[0m \u001b[38;5;250m    \u001b[39m\u001b[38;5;124;03m\"\"\"Install traceback handling for callbacks\"\"\"\u001b[39;00m\n\u001b[1;32m--> 446\u001b[0m     \u001b[38;5;129m@app\u001b[39m\u001b[38;5;241;43m.\u001b[39;49m\u001b[43mserver\u001b[49m\u001b[38;5;241;43m.\u001b[39;49m\u001b[43merrorhandler\u001b[49m\u001b[43m(\u001b[49m\u001b[38;5;167;43;01mException\u001b[39;49;00m\u001b[43m)\u001b[49m\n\u001b[0;32m    447\u001b[0m     \u001b[38;5;28;01mdef\u001b[39;00m \u001b[38;5;21m_wrap_errors\u001b[39m(error):\n\u001b[0;32m    448\u001b[0m         \u001b[38;5;66;03m# Compute number of stack frames to skip to get down to callback\u001b[39;00m\n\u001b[0;32m    449\u001b[0m         skip \u001b[38;5;241m=\u001b[39m _get_skip(error) \u001b[38;5;28;01mif\u001b[39;00m dev_tools_prune_errors \u001b[38;5;28;01melse\u001b[39;00m \u001b[38;5;241m0\u001b[39m\n\u001b[0;32m    451\u001b[0m         \u001b[38;5;66;03m# Customized formatargvalues function we can place function parameters\u001b[39;00m\n\u001b[0;32m    452\u001b[0m         \u001b[38;5;66;03m# on separate lines\u001b[39;00m\n",
      "File \u001b[1;32m~\\AppData\\Roaming\\Python\\Python311\\site-packages\\flask\\sansio\\scaffold.py:46\u001b[0m, in \u001b[0;36msetupmethod.<locals>.wrapper_func\u001b[1;34m(self, *args, **kwargs)\u001b[0m\n\u001b[0;32m     45\u001b[0m \u001b[38;5;28;01mdef\u001b[39;00m \u001b[38;5;21mwrapper_func\u001b[39m(\u001b[38;5;28mself\u001b[39m: Scaffold, \u001b[38;5;241m*\u001b[39margs: t\u001b[38;5;241m.\u001b[39mAny, \u001b[38;5;241m*\u001b[39m\u001b[38;5;241m*\u001b[39mkwargs: t\u001b[38;5;241m.\u001b[39mAny) \u001b[38;5;241m-\u001b[39m\u001b[38;5;241m>\u001b[39m t\u001b[38;5;241m.\u001b[39mAny:\n\u001b[1;32m---> 46\u001b[0m     \u001b[38;5;28;43mself\u001b[39;49m\u001b[38;5;241;43m.\u001b[39;49m\u001b[43m_check_setup_finished\u001b[49m\u001b[43m(\u001b[49m\u001b[43mf_name\u001b[49m\u001b[43m)\u001b[49m\n\u001b[0;32m     47\u001b[0m     \u001b[38;5;28;01mreturn\u001b[39;00m f(\u001b[38;5;28mself\u001b[39m, \u001b[38;5;241m*\u001b[39margs, \u001b[38;5;241m*\u001b[39m\u001b[38;5;241m*\u001b[39mkwargs)\n",
      "File \u001b[1;32m~\\AppData\\Roaming\\Python\\Python311\\site-packages\\flask\\sansio\\app.py:415\u001b[0m, in \u001b[0;36mApp._check_setup_finished\u001b[1;34m(self, f_name)\u001b[0m\n\u001b[0;32m    413\u001b[0m \u001b[38;5;28;01mdef\u001b[39;00m \u001b[38;5;21m_check_setup_finished\u001b[39m(\u001b[38;5;28mself\u001b[39m, f_name: \u001b[38;5;28mstr\u001b[39m) \u001b[38;5;241m-\u001b[39m\u001b[38;5;241m>\u001b[39m \u001b[38;5;28;01mNone\u001b[39;00m:\n\u001b[0;32m    414\u001b[0m     \u001b[38;5;28;01mif\u001b[39;00m \u001b[38;5;28mself\u001b[39m\u001b[38;5;241m.\u001b[39m_got_first_request:\n\u001b[1;32m--> 415\u001b[0m         \u001b[38;5;28;01mraise\u001b[39;00m \u001b[38;5;167;01mAssertionError\u001b[39;00m(\n\u001b[0;32m    416\u001b[0m             \u001b[38;5;124mf\u001b[39m\u001b[38;5;124m\"\u001b[39m\u001b[38;5;124mThe setup method \u001b[39m\u001b[38;5;124m'\u001b[39m\u001b[38;5;132;01m{\u001b[39;00mf_name\u001b[38;5;132;01m}\u001b[39;00m\u001b[38;5;124m'\u001b[39m\u001b[38;5;124m can no longer be called\u001b[39m\u001b[38;5;124m\"\u001b[39m\n\u001b[0;32m    417\u001b[0m             \u001b[38;5;124m\"\u001b[39m\u001b[38;5;124m on the application. It has already handled its first\u001b[39m\u001b[38;5;124m\"\u001b[39m\n\u001b[0;32m    418\u001b[0m             \u001b[38;5;124m\"\u001b[39m\u001b[38;5;124m request, any changes will not be applied\u001b[39m\u001b[38;5;124m\"\u001b[39m\n\u001b[0;32m    419\u001b[0m             \u001b[38;5;124m\"\u001b[39m\u001b[38;5;124m consistently.\u001b[39m\u001b[38;5;130;01m\\n\u001b[39;00m\u001b[38;5;124m\"\u001b[39m\n\u001b[0;32m    420\u001b[0m             \u001b[38;5;124m\"\u001b[39m\u001b[38;5;124mMake sure all imports, decorators, functions, etc.\u001b[39m\u001b[38;5;124m\"\u001b[39m\n\u001b[0;32m    421\u001b[0m             \u001b[38;5;124m\"\u001b[39m\u001b[38;5;124m needed to set up the application are done before\u001b[39m\u001b[38;5;124m\"\u001b[39m\n\u001b[0;32m    422\u001b[0m             \u001b[38;5;124m\"\u001b[39m\u001b[38;5;124m running it.\u001b[39m\u001b[38;5;124m\"\u001b[39m\n\u001b[0;32m    423\u001b[0m         )\n",
      "\u001b[1;31mAssertionError\u001b[0m: The setup method 'errorhandler' can no longer be called on the application. It has already handled its first request, any changes will not be applied consistently.\nMake sure all imports, decorators, functions, etc. needed to set up the application are done before running it."
     ]
    }
   ],
   "source": [
    "Timer(1, open_browser).start()\n",
    "app.run_server(debug=True, port=8080)"
   ]
  },
  {
   "cell_type": "code",
   "execution_count": null,
   "metadata": {},
   "outputs": [],
   "source": []
  }
 ],
 "metadata": {
  "kernelspec": {
   "display_name": "Python 3",
   "language": "python",
   "name": "python3"
  },
  "language_info": {
   "codemirror_mode": {
    "name": "ipython",
    "version": 3
   },
   "file_extension": ".py",
   "mimetype": "text/x-python",
   "name": "python",
   "nbconvert_exporter": "python",
   "pygments_lexer": "ipython3",
   "version": "3.11.1"
  }
 },
 "nbformat": 4,
 "nbformat_minor": 2
}
