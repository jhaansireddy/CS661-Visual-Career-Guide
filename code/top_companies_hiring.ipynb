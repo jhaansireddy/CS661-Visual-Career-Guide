{
 "cells": [
  {
   "cell_type": "code",
   "execution_count": 1,
   "metadata": {},
   "outputs": [],
   "source": [
    "import numpy as np\n",
    "import pandas as pd\n",
    "import matplotlib.pyplot as plt\n",
    "%matplotlib inline\n",
    "import seaborn as sns\n",
    "import os\n",
    "import datetime\n",
    "import plotly.graph_objects as go\n",
    "from ipywidgets import widgets, Layout\n",
    "from IPython.display import display"
   ]
  },
  {
   "cell_type": "code",
   "execution_count": 2,
   "metadata": {},
   "outputs": [],
   "source": [
    "import warnings\n",
    "warnings.simplefilter(action=\"ignore\",category=FutureWarning)"
   ]
  },
  {
   "cell_type": "code",
   "execution_count": 3,
   "metadata": {},
   "outputs": [],
   "source": [
    "linkedin_job_postings=pd.read_csv(\"..\\Data\\linkedin_jobs_and_skills\\linkedin_job_postings_cleaned.csv\")"
   ]
  },
  {
   "cell_type": "code",
   "execution_count": 4,
   "metadata": {},
   "outputs": [
    {
     "data": {
      "text/html": [
       "<div>\n",
       "<style scoped>\n",
       "    .dataframe tbody tr th:only-of-type {\n",
       "        vertical-align: middle;\n",
       "    }\n",
       "\n",
       "    .dataframe tbody tr th {\n",
       "        vertical-align: top;\n",
       "    }\n",
       "\n",
       "    .dataframe thead th {\n",
       "        text-align: right;\n",
       "    }\n",
       "</style>\n",
       "<table border=\"1\" class=\"dataframe\">\n",
       "  <thead>\n",
       "    <tr style=\"text-align: right;\">\n",
       "      <th></th>\n",
       "      <th>job_link</th>\n",
       "      <th>job_title</th>\n",
       "      <th>company</th>\n",
       "      <th>job_location</th>\n",
       "      <th>first_seen</th>\n",
       "      <th>search_city</th>\n",
       "      <th>search_country</th>\n",
       "      <th>search_position</th>\n",
       "      <th>job_level</th>\n",
       "      <th>job_type</th>\n",
       "      <th>current_time</th>\n",
       "      <th>current_date</th>\n",
       "    </tr>\n",
       "  </thead>\n",
       "  <tbody>\n",
       "    <tr>\n",
       "      <th>0</th>\n",
       "      <td>https://www.linkedin.com/jobs/view/account-exe...</td>\n",
       "      <td>account executive - dispensing (norcal/norther...</td>\n",
       "      <td>BD</td>\n",
       "      <td>San Diego, CA</td>\n",
       "      <td>2024-01-15</td>\n",
       "      <td>Coronado</td>\n",
       "      <td>United States</td>\n",
       "      <td>Color Maker</td>\n",
       "      <td>Mid senior</td>\n",
       "      <td>Onsite</td>\n",
       "      <td>07:12:29.002560</td>\n",
       "      <td>2024-01-21</td>\n",
       "    </tr>\n",
       "    <tr>\n",
       "      <th>1</th>\n",
       "      <td>https://www.linkedin.com/jobs/view/registered-...</td>\n",
       "      <td>registered nurse - rn care manager</td>\n",
       "      <td>Trinity Health MI</td>\n",
       "      <td>Norton Shores, MI</td>\n",
       "      <td>2024-01-14</td>\n",
       "      <td>Grand Haven</td>\n",
       "      <td>United States</td>\n",
       "      <td>Director Nursing Service</td>\n",
       "      <td>Mid senior</td>\n",
       "      <td>Onsite</td>\n",
       "      <td>07:39:58.881370</td>\n",
       "      <td>2024-01-21</td>\n",
       "    </tr>\n",
       "    <tr>\n",
       "      <th>2</th>\n",
       "      <td>https://www.linkedin.com/jobs/view/restaurant-...</td>\n",
       "      <td>restaurant supervisor - the forklift</td>\n",
       "      <td>Wasatch Adaptive Sports</td>\n",
       "      <td>Sandy, UT</td>\n",
       "      <td>2024-01-14</td>\n",
       "      <td>Tooele</td>\n",
       "      <td>United States</td>\n",
       "      <td>Stand-In</td>\n",
       "      <td>Mid senior</td>\n",
       "      <td>Onsite</td>\n",
       "      <td>07:40:00.251126</td>\n",
       "      <td>2024-01-21</td>\n",
       "    </tr>\n",
       "    <tr>\n",
       "      <th>3</th>\n",
       "      <td>https://www.linkedin.com/jobs/view/independent...</td>\n",
       "      <td>independent real estate agent</td>\n",
       "      <td>Howard Hanna | Rand Realty</td>\n",
       "      <td>Englewood Cliffs, NJ</td>\n",
       "      <td>2024-01-16</td>\n",
       "      <td>Pinehurst</td>\n",
       "      <td>United States</td>\n",
       "      <td>Real-Estate Clerk</td>\n",
       "      <td>Mid senior</td>\n",
       "      <td>Onsite</td>\n",
       "      <td>07:40:00.308133</td>\n",
       "      <td>2024-01-21</td>\n",
       "    </tr>\n",
       "    <tr>\n",
       "      <th>4</th>\n",
       "      <td>https://www.linkedin.com/jobs/view/group-unit-...</td>\n",
       "      <td>group/unit supervisor (systems support manager...</td>\n",
       "      <td>IRS, Office of Chief Counsel</td>\n",
       "      <td>Chamblee, GA</td>\n",
       "      <td>2024-01-17</td>\n",
       "      <td>Gadsden</td>\n",
       "      <td>United States</td>\n",
       "      <td>Supervisor Travel-Information Center</td>\n",
       "      <td>Mid senior</td>\n",
       "      <td>Onsite</td>\n",
       "      <td>09:45:09.215838</td>\n",
       "      <td>2024-01-19</td>\n",
       "    </tr>\n",
       "  </tbody>\n",
       "</table>\n",
       "</div>"
      ],
      "text/plain": [
       "                                            job_link  \\\n",
       "0  https://www.linkedin.com/jobs/view/account-exe...   \n",
       "1  https://www.linkedin.com/jobs/view/registered-...   \n",
       "2  https://www.linkedin.com/jobs/view/restaurant-...   \n",
       "3  https://www.linkedin.com/jobs/view/independent...   \n",
       "4  https://www.linkedin.com/jobs/view/group-unit-...   \n",
       "\n",
       "                                           job_title  \\\n",
       "0  account executive - dispensing (norcal/norther...   \n",
       "1                 registered nurse - rn care manager   \n",
       "2               restaurant supervisor - the forklift   \n",
       "3                      independent real estate agent   \n",
       "4  group/unit supervisor (systems support manager...   \n",
       "\n",
       "                        company          job_location  first_seen  \\\n",
       "0                            BD         San Diego, CA  2024-01-15   \n",
       "1             Trinity Health MI     Norton Shores, MI  2024-01-14   \n",
       "2       Wasatch Adaptive Sports             Sandy, UT  2024-01-14   \n",
       "3    Howard Hanna | Rand Realty  Englewood Cliffs, NJ  2024-01-16   \n",
       "4  IRS, Office of Chief Counsel          Chamblee, GA  2024-01-17   \n",
       "\n",
       "   search_city search_country                       search_position  \\\n",
       "0     Coronado  United States                           Color Maker   \n",
       "1  Grand Haven  United States              Director Nursing Service   \n",
       "2       Tooele  United States                              Stand-In   \n",
       "3    Pinehurst  United States                     Real-Estate Clerk   \n",
       "4      Gadsden  United States  Supervisor Travel-Information Center   \n",
       "\n",
       "    job_level job_type     current_time current_date  \n",
       "0  Mid senior   Onsite  07:12:29.002560   2024-01-21  \n",
       "1  Mid senior   Onsite  07:39:58.881370   2024-01-21  \n",
       "2  Mid senior   Onsite  07:40:00.251126   2024-01-21  \n",
       "3  Mid senior   Onsite  07:40:00.308133   2024-01-21  \n",
       "4  Mid senior   Onsite  09:45:09.215838   2024-01-19  "
      ]
     },
     "execution_count": 4,
     "metadata": {},
     "output_type": "execute_result"
    }
   ],
   "source": [
    "linkedin_job_postings.head()"
   ]
  },
  {
   "cell_type": "code",
   "execution_count": 5,
   "metadata": {},
   "outputs": [],
   "source": [
    "# Function to identify top hiring companies for a specific job position\n",
    "def top_hiring_companies(jobs_df, top_n=10):\n",
    "    \n",
    "    # Count occurrences of each company\n",
    "    company_counts = jobs_df['company'].value_counts().head(top_n)\n",
    "    \n",
    "    return company_counts"
   ]
  },
  {
   "cell_type": "code",
   "execution_count": 6,
   "metadata": {},
   "outputs": [],
   "source": [
    "# Create initial plot\n",
    "default_job_position = ''\n",
    "initial_jobs_df = linkedin_job_postings[linkedin_job_postings['job_title'].str.contains(default_job_position.lower(), case=False)]\n",
    "top_companies = top_hiring_companies(initial_jobs_df, 10)"
   ]
  },
  {
   "cell_type": "code",
   "execution_count": 50,
   "metadata": {},
   "outputs": [],
   "source": [
    "fig = go.FigureWidget(\n",
    "    data=[\n",
    "        go.Bar(\n",
    "            y=top_companies.index, \n",
    "            x=top_companies.values,\n",
    "            orientation='h',\n",
    "        )\n",
    "    ]\n",
    ").update_layout(\n",
    "    title=f\"Top Companies hiring\",\n",
    "    xaxis_title=\"Company\",\n",
    "    yaxis_title=\"Number of Job Postings\",\n",
    "    yaxis=dict(autorange=\"reversed\"),\n",
    "    height=500,\n",
    ")"
   ]
  },
  {
   "cell_type": "code",
   "execution_count": 51,
   "metadata": {},
   "outputs": [],
   "source": [
    "# Function to update plot based on filtered job position\n",
    "def update_plot(search_value, top_n):\n",
    "    if top_n < 1:\n",
    "        top_n = 1\n",
    "    if top_n > 20:\n",
    "        top_n = 20\n",
    "    if search_value:\n",
    "        filtered_jobs_df = linkedin_job_postings[linkedin_job_postings['job_title'].str.contains(search_value.lower(), case=False)]\n",
    "        if len(filtered_jobs_df) > 0:\n",
    "            top_companies = top_hiring_companies(filtered_jobs_df, top_n)\n",
    "            fig.data[0].y = [(i[:30] + '..') if len(i) > 30 else i for i in top_companies.index]\n",
    "            fig.data[0].x = top_companies.values\n",
    "            fig.update_layout(\n",
    "                title=f\"Top companies hiring for \\'{search_value}\\'\",\n",
    "                yaxis=dict(autorange=\"reversed\"),\n",
    "                height = 350 if (top_n < 7) else (50 * top_n),\n",
    "            )\n",
    "        else:\n",
    "            fig.data[0].y = []\n",
    "            fig.data[0].x = []\n",
    "            fig.update_layout(title=f\"No matching job positions for {search_value}\")\n",
    "    else:\n",
    "        top_companies = top_hiring_companies(linkedin_job_postings, top_n)\n",
    "        fig.data[0].y = [(i[:30] + '..') if len(i) > 30 else i for i in top_companies.index]\n",
    "        fig.data[0].x = top_companies.values\n",
    "        fig.update_layout(\n",
    "            title=f\"Top companies hiring\",\n",
    "            yaxis=dict(autorange=\"reversed\"),\n",
    "            height = 350 if (top_n < 7) else (50 * top_n),\n",
    "        )"
   ]
  },
  {
   "cell_type": "code",
   "execution_count": 52,
   "metadata": {},
   "outputs": [],
   "source": [
    "# Create search bar widget\n",
    "search_widget = widgets.Text(\n",
    "    value='',\n",
    "    placeholder='Search for a job position...',\n",
    "    description='Search:',\n",
    "    continuous_update=False,\n",
    "    layout=Layout(width='300px')\n",
    ")\n",
    "\n",
    "top_n_widget = widgets.IntSlider(\n",
    "    value=10,\n",
    "    description='Companies:',\n",
    "    min=1,\n",
    "    max=20,\n",
    "    continuous_update=False,\n",
    "    layout=Layout(width='400px')\n",
    ")\n",
    "\n",
    "# def update_plot_interactive(search_value, top_n):\n",
    "#     return update_plot(search_value, top_n)\n",
    "\n",
    "def on_search_button_clicked(b):\n",
    "    update_plot(search_widget.value, top_n_widget.value)"
   ]
  },
  {
   "cell_type": "code",
   "execution_count": 53,
   "metadata": {},
   "outputs": [],
   "source": [
    "# Create a button to trigger the search\n",
    "search_button = widgets.Button(description=\"Search\")\n",
    "\n",
    "# Attach the button click event handler\n",
    "search_button.on_click(on_search_button_clicked)"
   ]
  },
  {
   "cell_type": "code",
   "execution_count": 54,
   "metadata": {},
   "outputs": [
    {
     "data": {
      "application/vnd.jupyter.widget-view+json": {
       "model_id": "54d5ce0bf70c4ca89d47239711fa672d",
       "version_major": 2,
       "version_minor": 0
      },
      "text/plain": [
       "VBox(children=(HBox(children=(Text(value='', continuous_update=False, description='Search:', layout=Layout(wid…"
      ]
     },
     "metadata": {},
     "output_type": "display_data"
    }
   ],
   "source": [
    "# Display search bar and initial plot\n",
    "display(widgets.VBox([widgets.HBox([search_widget, top_n_widget, search_button]), fig]))"
   ]
  },
  {
   "cell_type": "code",
   "execution_count": null,
   "metadata": {},
   "outputs": [],
   "source": []
  },
  {
   "cell_type": "code",
   "execution_count": null,
   "metadata": {},
   "outputs": [],
   "source": []
  }
 ],
 "metadata": {
  "kernelspec": {
   "display_name": "Python 3",
   "language": "python",
   "name": "python3"
  },
  "language_info": {
   "codemirror_mode": {
    "name": "ipython",
    "version": 3
   },
   "file_extension": ".py",
   "mimetype": "text/x-python",
   "name": "python",
   "nbconvert_exporter": "python",
   "pygments_lexer": "ipython3",
   "version": "3.11.5"
  }
 },
 "nbformat": 4,
 "nbformat_minor": 2
}
