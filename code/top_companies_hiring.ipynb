{
 "cells": [
  {
   "cell_type": "code",
   "execution_count": null,
   "metadata": {},
   "outputs": [],
   "source": [
    "import numpy as np\n",
    "import pandas as pd\n",
    "import matplotlib.pyplot as plt\n",
    "%matplotlib inline\n",
    "import seaborn as sns\n",
    "import os\n",
    "import datetime\n",
    "import plotly.graph_objects as go\n",
    "from ipywidgets import widgets, Layout\n",
    "from IPython.display import display\n",
    "from dash import Dash, dcc, html, Input, Output\n",
    "import os\n",
    "from threading import Timer\n",
    "import webbrowser"
   ]
  },
  {
   "cell_type": "code",
   "execution_count": null,
   "metadata": {},
   "outputs": [],
   "source": [
    "import warnings\n",
    "warnings.simplefilter(action=\"ignore\",category=FutureWarning)"
   ]
  },
  {
   "cell_type": "code",
   "execution_count": null,
   "metadata": {},
   "outputs": [],
   "source": [
    "def open_browser():\n",
    "    if not os.environ.get(\"WERKZEUG_RUN_MAIN\"):\n",
    "        webbrowser.open_new('http://127.0.0.1:8080/')"
   ]
  },
  {
   "cell_type": "code",
   "execution_count": null,
   "metadata": {},
   "outputs": [],
   "source": [
    "linkedin_job_postings=pd.read_csv(\"..\\Data\\linkedin_jobs_and_skills\\linkedin_job_postings_cleaned.csv\")"
   ]
  },
  {
   "cell_type": "code",
   "execution_count": null,
   "metadata": {},
   "outputs": [],
   "source": [
    "linkedin_job_postings.head()"
   ]
  },
  {
   "cell_type": "code",
   "execution_count": null,
   "metadata": {},
   "outputs": [],
   "source": [
    "# Function to identify top hiring companies for a specific job position\n",
    "def top_hiring_companies(jobs_df, country, top_n=9):\n",
    "    \n",
    "    # Filter jobs by country\n",
    "    jobs_df = jobs_df[jobs_df['search_country'] == country]\n",
    "\n",
    "    # Count occurrences of each company\n",
    "    company_counts = jobs_df['company'].value_counts().head(top_n)\n",
    "    \n",
    "    return company_counts"
   ]
  },
  {
   "cell_type": "code",
   "execution_count": null,
   "metadata": {},
   "outputs": [],
   "source": [
    "# Create initial plot\n",
    "default_job_position = ''\n",
    "default_country = 'United States'\n",
    "initial_jobs_df = linkedin_job_postings[linkedin_job_postings['job_title'].str.contains(default_job_position.lower(), case=False)]\n",
    "top_companies = top_hiring_companies(initial_jobs_df, default_country)"
   ]
  },
  {
   "cell_type": "code",
   "execution_count": null,
   "metadata": {},
   "outputs": [],
   "source": [
    "fig = go.FigureWidget(\n",
    "    data=[\n",
    "        go.Bar(\n",
    "            y=top_companies.index, \n",
    "            x=top_companies.values,\n",
    "            text=top_companies.values,\n",
    "            orientation='h',\n",
    "        )\n",
    "    ]\n",
    ").update_layout(\n",
    "    title=f\"Top Companies hiring in \\'{default_country}\\'\",\n",
    "    yaxis_title=\"Company\",\n",
    "    xaxis_title=\"Number of Job Postings\",\n",
    "    yaxis=dict(autorange=\"reversed\"),\n",
    "    height=405,\n",
    ")\n",
    "fig.show()"
   ]
  },
  {
   "cell_type": "code",
   "execution_count": null,
   "metadata": {},
   "outputs": [],
   "source": [
    "# Function to update plot based on filtered job position\n",
    "def update_plot(search_value, country_value, top_n):\n",
    "    if search_value:\n",
    "        filtered_jobs_df = linkedin_job_postings[linkedin_job_postings['job_title'].str.contains(search_value.lower(), case=False)]\n",
    "        if len(filtered_jobs_df) > 0:\n",
    "            top_companies = top_hiring_companies(filtered_jobs_df, country_value, top_n)\n",
    "            fig.data[0].y = [(i[:30] + '..') if len(i) > 30 else i for i in top_companies.index]\n",
    "            fig.data[0].x = top_companies.values\n",
    "            fig.update_layout(\n",
    "                title=f\"Top companies hiring for \\'{search_value}\\' in \\'{default_country}\\'\",\n",
    "                yaxis=dict(autorange=\"reversed\"),\n",
    "                height = 400 if (top_n < 9) else (45 * top_n),\n",
    "            )\n",
    "        else:\n",
    "            fig.data[0].y = []\n",
    "            fig.data[0].x = []\n",
    "            fig.update_layout(title=f\"No matching job positions for {search_value}\")\n",
    "    else:\n",
    "        top_companies = top_hiring_companies(linkedin_job_postings, country_value, top_n)\n",
    "        fig.data[0].y = [(i[:30] + '..') if len(i) > 30 else i for i in top_companies.index]\n",
    "        fig.data[0].x = top_companies.values\n",
    "        fig.update_layout(\n",
    "            title=f\"Top companies hiring in \\'{default_country}\\'\",\n",
    "            yaxis=dict(autorange=\"reversed\"),\n",
    "            height = 400 if (top_n < 9) else (45 * top_n),\n",
    "        )"
   ]
  },
  {
   "cell_type": "code",
   "execution_count": null,
   "metadata": {},
   "outputs": [],
   "source": [
    "# Create search bar widget\n",
    "# search_widget = widgets.Text(\n",
    "#     value='',\n",
    "#     placeholder='Search for a job position...',\n",
    "#     description='Search:',\n",
    "#     continuous_update=False,\n",
    "#     layout=Layout(width='300px')\n",
    "# )\n",
    "\n",
    "# top_n_widget = widgets.IntSlider(\n",
    "#     value=9,\n",
    "#     description='Companies:',\n",
    "#     min=1,\n",
    "#     max=20,\n",
    "#     continuous_update=False,\n",
    "#     layout=Layout(width='400px')\n",
    "# )\n",
    "\n",
    "# def update_plot_interactive(search_value, top_n):\n",
    "#     return update_plot(search_value, top_n)\n",
    "\n",
    "# def on_search_button_clicked(b):\n",
    "#     update_plot(search_widget.value, top_n_widget.value)"
   ]
  },
  {
   "cell_type": "code",
   "execution_count": null,
   "metadata": {},
   "outputs": [],
   "source": [
    "# Create a button to trigger the search\n",
    "# search_button = widgets.Button(description=\"Search\")\n",
    "# Attach the button click event handler\n",
    "# search_button.on_click(on_search_button_clicked)"
   ]
  },
  {
   "cell_type": "code",
   "execution_count": null,
   "metadata": {},
   "outputs": [],
   "source": [
    "# Display search bar and initial plot\n",
    "# display(widgets.VBox([widgets.HBox([search_widget, top_n_widget, search_button]), fig]))"
   ]
  },
  {
   "cell_type": "code",
   "execution_count": null,
   "metadata": {},
   "outputs": [],
   "source": [
    "# Create Dash app\n",
    "app = Dash()"
   ]
  },
  {
   "cell_type": "code",
   "execution_count": null,
   "metadata": {},
   "outputs": [],
   "source": [
    "# Define callback to update bar chart\n",
    "@app.callback(\n",
    "    Output('bar-chart', 'figure'),\n",
    "    Input('search-button', 'n_clicks'),\n",
    "    Input('search-input', 'value'),\n",
    "    Input('country-input', 'value'),\n",
    "    Input('top-n-input', 'value'),\n",
    ")\n",
    "def update_bar_chart(n_clicks, search_value, country_value, top_n):\n",
    "    if n_clicks:\n",
    "        update_plot(search_value, country_value, top_n)\n",
    "    return fig"
   ]
  },
  {
   "cell_type": "code",
   "execution_count": null,
   "metadata": {},
   "outputs": [],
   "source": [
    "# Define app layout\n",
    "app.layout = html.Div([\n",
    "    html.Div([\n",
    "        dcc.Input(\n",
    "            id='search-input',\n",
    "            type='text',\n",
    "            placeholder='Search for job titles...',\n",
    "            debounce=True\n",
    "        ),\n",
    "        dcc.Dropdown(\n",
    "            id='country-input',\n",
    "            options=[{'label': i, 'value': i} for i in linkedin_job_postings['search_country'].unique()],\n",
    "            value='United States',\n",
    "            style={'width': '300px', 'height': '40px'},\n",
    "        ),\n",
    "        dcc.Input(\n",
    "            id='top-n-input',\n",
    "            type='number',\n",
    "            placeholder='Top N Companies',\n",
    "            min=1,\n",
    "            max=20,\n",
    "            value=9,\n",
    "            debounce=True\n",
    "        ),\n",
    "        html.Button('Search', id='search-button')\n",
    "    ]),\n",
    "    html.Div([\n",
    "        dcc.Graph(id='bar-chart')\n",
    "    ])\n",
    "])"
   ]
  },
  {
   "cell_type": "code",
   "execution_count": null,
   "metadata": {},
   "outputs": [],
   "source": [
    "# app.run_server(debug=True, use_reloader=False)\n",
    "Timer(1, open_browser).start()\n",
    "app.run_server(debug=True, port=8080)"
   ]
  }
 ],
 "metadata": {
  "kernelspec": {
   "display_name": "Python 3",
   "language": "python",
   "name": "python3"
  },
  "language_info": {
   "codemirror_mode": {
    "name": "ipython",
    "version": 3
   },
   "file_extension": ".py",
   "mimetype": "text/x-python",
   "name": "python",
   "nbconvert_exporter": "python",
   "pygments_lexer": "ipython3",
   "version": "3.11.5"
  }
 },
 "nbformat": 4,
 "nbformat_minor": 2
}
